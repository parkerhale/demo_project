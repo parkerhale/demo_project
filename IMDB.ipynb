{
  "nbformat": 4,
  "nbformat_minor": 0,
  "metadata": {
    "colab": {
      "name": "Untitled1.ipynb",
      "provenance": [],
      "authorship_tag": "ABX9TyOXiOdcJXNPZ0C54hLmirvA",
      "include_colab_link": true
    },
    "kernelspec": {
      "name": "python3",
      "display_name": "Python 3"
    },
    "language_info": {
      "name": "python"
    }
  },
  "cells": [
    {
      "cell_type": "markdown",
      "metadata": {
        "id": "view-in-github",
        "colab_type": "text"
      },
      "source": [
        "<a href=\"https://colab.research.google.com/github/parkerhale/demo_project/blob/main/IMDB.ipynb\" target=\"_parent\"><img src=\"https://colab.research.google.com/assets/colab-badge.svg\" alt=\"Open In Colab\"/></a>"
      ]
    },
    {
      "cell_type": "markdown",
      "metadata": {
        "id": "KdZVqON6kuK7"
      },
      "source": [
        "# Import\n"
      ]
    },
    {
      "cell_type": "code",
      "metadata": {
        "id": "owzE-BJta200"
      },
      "source": [
        "import os\n",
        "from google.colab import drive\n",
        "from argparse import Namespace\n",
        "import numpy as np\n",
        "import pandas as pd\n",
        "import httpimport\n",
        "import torch\n",
        "import torch.optim as optim\n",
        "from tqdm import tqdm_notebook, tqdm\n",
        "import math\n",
        "import statsmodels.formula.api as smf  \n",
        "import statsmodels.api as sm\n",
        "from numpy import genfromtxt\n",
        "import csv\n",
        "import urllib.request\n",
        "import seaborn as sns\n",
        "import matplotlib.pyplot as plt\n",
        "from matplotlib.pyplot import figure\n",
        "from sklearn.preprocessing import StandardScaler\n",
        "import matplotlib\n",
        "from sklearn.linear_model import LinearRegression\n",
        "from sklearn.linear_model import Ridge\n",
        "from sklearn.linear_model import Lasso\n",
        "\n",
        "import torch\n",
        "import torch.nn as nn\n",
        "import torch.optim as optim\n",
        "import torch.nn.functional as F\n",
        "from torch.utils.data import Dataset, DataLoader\n",
        "from torch.autograd import Variable\n",
        "import numpy as np\n",
        "import pandas as pd\n",
        "from sklearn.metrics import mean_squared_error\n",
        "from sklearn.model_selection import train_test_split \n",
        "from torch.utils.data import TensorDataset, DataLoader\n",
        "from tqdm import tqdm\n",
        "from datetime import datetime\n",
        "import torch.nn.functional as F\n",
        "import random\n",
        "import statsmodels.api as sm\n",
        "from sklearn.metrics import mean_squared_error, r2_score"
      ],
      "execution_count": 621,
      "outputs": []
    },
    {
      "cell_type": "markdown",
      "metadata": {
        "id": "Hzt8FOMakzDN"
      },
      "source": [
        "#Data Preprocessing and EDA"
      ]
    },
    {
      "cell_type": "code",
      "metadata": {
        "colab": {
          "base_uri": "https://localhost:8080/",
          "height": 360
        },
        "id": "N0fwyE1ja5dr",
        "outputId": "8dd46ae3-23f5-4db3-c163-52b5e9795115"
      },
      "source": [
        "url = \"https://github.com/sundeepblue/movie_rating_prediction/raw/master/movie_metadata.csv\"\n",
        "data = pd.read_csv(url)\n",
        "data.head()"
      ],
      "execution_count": 622,
      "outputs": [
        {
          "output_type": "execute_result",
          "data": {
            "text/html": [
              "<div>\n",
              "<style scoped>\n",
              "    .dataframe tbody tr th:only-of-type {\n",
              "        vertical-align: middle;\n",
              "    }\n",
              "\n",
              "    .dataframe tbody tr th {\n",
              "        vertical-align: top;\n",
              "    }\n",
              "\n",
              "    .dataframe thead th {\n",
              "        text-align: right;\n",
              "    }\n",
              "</style>\n",
              "<table border=\"1\" class=\"dataframe\">\n",
              "  <thead>\n",
              "    <tr style=\"text-align: right;\">\n",
              "      <th></th>\n",
              "      <th>color</th>\n",
              "      <th>director_name</th>\n",
              "      <th>num_critic_for_reviews</th>\n",
              "      <th>duration</th>\n",
              "      <th>director_facebook_likes</th>\n",
              "      <th>actor_3_facebook_likes</th>\n",
              "      <th>actor_2_name</th>\n",
              "      <th>actor_1_facebook_likes</th>\n",
              "      <th>gross</th>\n",
              "      <th>genres</th>\n",
              "      <th>actor_1_name</th>\n",
              "      <th>movie_title</th>\n",
              "      <th>num_voted_users</th>\n",
              "      <th>cast_total_facebook_likes</th>\n",
              "      <th>actor_3_name</th>\n",
              "      <th>facenumber_in_poster</th>\n",
              "      <th>plot_keywords</th>\n",
              "      <th>movie_imdb_link</th>\n",
              "      <th>num_user_for_reviews</th>\n",
              "      <th>language</th>\n",
              "      <th>country</th>\n",
              "      <th>content_rating</th>\n",
              "      <th>budget</th>\n",
              "      <th>title_year</th>\n",
              "      <th>actor_2_facebook_likes</th>\n",
              "      <th>imdb_score</th>\n",
              "      <th>aspect_ratio</th>\n",
              "      <th>movie_facebook_likes</th>\n",
              "    </tr>\n",
              "  </thead>\n",
              "  <tbody>\n",
              "    <tr>\n",
              "      <th>0</th>\n",
              "      <td>Color</td>\n",
              "      <td>James Cameron</td>\n",
              "      <td>723.0</td>\n",
              "      <td>178.0</td>\n",
              "      <td>0.0</td>\n",
              "      <td>855.0</td>\n",
              "      <td>Joel David Moore</td>\n",
              "      <td>1000.0</td>\n",
              "      <td>760505847.0</td>\n",
              "      <td>Action|Adventure|Fantasy|Sci-Fi</td>\n",
              "      <td>CCH Pounder</td>\n",
              "      <td>Avatar</td>\n",
              "      <td>886204</td>\n",
              "      <td>4834</td>\n",
              "      <td>Wes Studi</td>\n",
              "      <td>0.0</td>\n",
              "      <td>avatar|future|marine|native|paraplegic</td>\n",
              "      <td>http://www.imdb.com/title/tt0499549/?ref_=fn_t...</td>\n",
              "      <td>3054.0</td>\n",
              "      <td>English</td>\n",
              "      <td>USA</td>\n",
              "      <td>PG-13</td>\n",
              "      <td>237000000.0</td>\n",
              "      <td>2009.0</td>\n",
              "      <td>936.0</td>\n",
              "      <td>7.9</td>\n",
              "      <td>1.78</td>\n",
              "      <td>33000</td>\n",
              "    </tr>\n",
              "    <tr>\n",
              "      <th>1</th>\n",
              "      <td>Color</td>\n",
              "      <td>Gore Verbinski</td>\n",
              "      <td>302.0</td>\n",
              "      <td>169.0</td>\n",
              "      <td>563.0</td>\n",
              "      <td>1000.0</td>\n",
              "      <td>Orlando Bloom</td>\n",
              "      <td>40000.0</td>\n",
              "      <td>309404152.0</td>\n",
              "      <td>Action|Adventure|Fantasy</td>\n",
              "      <td>Johnny Depp</td>\n",
              "      <td>Pirates of the Caribbean: At World's End</td>\n",
              "      <td>471220</td>\n",
              "      <td>48350</td>\n",
              "      <td>Jack Davenport</td>\n",
              "      <td>0.0</td>\n",
              "      <td>goddess|marriage ceremony|marriage proposal|pi...</td>\n",
              "      <td>http://www.imdb.com/title/tt0449088/?ref_=fn_t...</td>\n",
              "      <td>1238.0</td>\n",
              "      <td>English</td>\n",
              "      <td>USA</td>\n",
              "      <td>PG-13</td>\n",
              "      <td>300000000.0</td>\n",
              "      <td>2007.0</td>\n",
              "      <td>5000.0</td>\n",
              "      <td>7.1</td>\n",
              "      <td>2.35</td>\n",
              "      <td>0</td>\n",
              "    </tr>\n",
              "    <tr>\n",
              "      <th>2</th>\n",
              "      <td>Color</td>\n",
              "      <td>Sam Mendes</td>\n",
              "      <td>602.0</td>\n",
              "      <td>148.0</td>\n",
              "      <td>0.0</td>\n",
              "      <td>161.0</td>\n",
              "      <td>Rory Kinnear</td>\n",
              "      <td>11000.0</td>\n",
              "      <td>200074175.0</td>\n",
              "      <td>Action|Adventure|Thriller</td>\n",
              "      <td>Christoph Waltz</td>\n",
              "      <td>Spectre</td>\n",
              "      <td>275868</td>\n",
              "      <td>11700</td>\n",
              "      <td>Stephanie Sigman</td>\n",
              "      <td>1.0</td>\n",
              "      <td>bomb|espionage|sequel|spy|terrorist</td>\n",
              "      <td>http://www.imdb.com/title/tt2379713/?ref_=fn_t...</td>\n",
              "      <td>994.0</td>\n",
              "      <td>English</td>\n",
              "      <td>UK</td>\n",
              "      <td>PG-13</td>\n",
              "      <td>245000000.0</td>\n",
              "      <td>2015.0</td>\n",
              "      <td>393.0</td>\n",
              "      <td>6.8</td>\n",
              "      <td>2.35</td>\n",
              "      <td>85000</td>\n",
              "    </tr>\n",
              "    <tr>\n",
              "      <th>3</th>\n",
              "      <td>Color</td>\n",
              "      <td>Christopher Nolan</td>\n",
              "      <td>813.0</td>\n",
              "      <td>164.0</td>\n",
              "      <td>22000.0</td>\n",
              "      <td>23000.0</td>\n",
              "      <td>Christian Bale</td>\n",
              "      <td>27000.0</td>\n",
              "      <td>448130642.0</td>\n",
              "      <td>Action|Thriller</td>\n",
              "      <td>Tom Hardy</td>\n",
              "      <td>The Dark Knight Rises</td>\n",
              "      <td>1144337</td>\n",
              "      <td>106759</td>\n",
              "      <td>Joseph Gordon-Levitt</td>\n",
              "      <td>0.0</td>\n",
              "      <td>deception|imprisonment|lawlessness|police offi...</td>\n",
              "      <td>http://www.imdb.com/title/tt1345836/?ref_=fn_t...</td>\n",
              "      <td>2701.0</td>\n",
              "      <td>English</td>\n",
              "      <td>USA</td>\n",
              "      <td>PG-13</td>\n",
              "      <td>250000000.0</td>\n",
              "      <td>2012.0</td>\n",
              "      <td>23000.0</td>\n",
              "      <td>8.5</td>\n",
              "      <td>2.35</td>\n",
              "      <td>164000</td>\n",
              "    </tr>\n",
              "    <tr>\n",
              "      <th>4</th>\n",
              "      <td>NaN</td>\n",
              "      <td>Doug Walker</td>\n",
              "      <td>NaN</td>\n",
              "      <td>NaN</td>\n",
              "      <td>131.0</td>\n",
              "      <td>NaN</td>\n",
              "      <td>Rob Walker</td>\n",
              "      <td>131.0</td>\n",
              "      <td>NaN</td>\n",
              "      <td>Documentary</td>\n",
              "      <td>Doug Walker</td>\n",
              "      <td>Star Wars: Episode VII - The Force Awakens    ...</td>\n",
              "      <td>8</td>\n",
              "      <td>143</td>\n",
              "      <td>NaN</td>\n",
              "      <td>0.0</td>\n",
              "      <td>NaN</td>\n",
              "      <td>http://www.imdb.com/title/tt5289954/?ref_=fn_t...</td>\n",
              "      <td>NaN</td>\n",
              "      <td>NaN</td>\n",
              "      <td>NaN</td>\n",
              "      <td>NaN</td>\n",
              "      <td>NaN</td>\n",
              "      <td>NaN</td>\n",
              "      <td>12.0</td>\n",
              "      <td>7.1</td>\n",
              "      <td>NaN</td>\n",
              "      <td>0</td>\n",
              "    </tr>\n",
              "  </tbody>\n",
              "</table>\n",
              "</div>"
            ],
            "text/plain": [
              "   color      director_name  ...  aspect_ratio  movie_facebook_likes\n",
              "0  Color      James Cameron  ...          1.78                 33000\n",
              "1  Color     Gore Verbinski  ...          2.35                     0\n",
              "2  Color         Sam Mendes  ...          2.35                 85000\n",
              "3  Color  Christopher Nolan  ...          2.35                164000\n",
              "4    NaN        Doug Walker  ...           NaN                     0\n",
              "\n",
              "[5 rows x 28 columns]"
            ]
          },
          "metadata": {
            "tags": []
          },
          "execution_count": 622
        }
      ]
    },
    {
      "cell_type": "code",
      "metadata": {
        "colab": {
          "base_uri": "https://localhost:8080/",
          "height": 693
        },
        "id": "GmsTUMT7IAPZ",
        "outputId": "1229626b-0081-4ca4-d887-f2907b585af4"
      },
      "source": [
        "figure(figsize=(16, 10), dpi=80)\n",
        "n, bins, patches = plt.hist(x=data['imdb_score'], bins='auto', color='#0504aa',alpha=0.7, rwidth=0.85)\n",
        "plt.grid(axis='y', alpha=0.75)\n",
        "plt.xlabel('Score')\n",
        "plt.ylabel('Movie Count')\n",
        "plt.title('imdb score layout')\n",
        "maxfreq = n.max()"
      ],
      "execution_count": 623,
      "outputs": [
        {
          "output_type": "display_data",
          "data": {
            "image/png": "[encoded data removed]",
            "text/plain": [
              "<Figure size 1280x800 with 1 Axes>"
            ]
          },
          "metadata": {
            "tags": [],
            "needs_background": "light"
          }
        }
      ]
    },
    {
      "cell_type": "markdown",
      "metadata": {
        "id": "vlrH-rNhng5D"
      },
      "source": [
        "We want to make a prediction for imdb scores. And as we know, the quality of movies is highly related to the person who direct them. Let's make a breif view of our producers."
      ]
    },
    {
      "cell_type": "code",
      "metadata": {
        "colab": {
          "base_uri": "https://localhost:8080/"
        },
        "id": "CBP3xIATVnrZ",
        "outputId": "91b3a2f7-7083-466c-8e34-ae592512240d"
      },
      "source": [
        "director = data.groupby('director_name').size().sort_values(ascending=False).head(20)\n",
        "director"
      ],
      "execution_count": 624,
      "outputs": [
        {
          "output_type": "execute_result",
          "data": {
            "text/plain": [
              "director_name\n",
              "Steven Spielberg     26\n",
              "Woody Allen          22\n",
              "Martin Scorsese      20\n",
              "Clint Eastwood       20\n",
              "Ridley Scott         17\n",
              "Tim Burton           16\n",
              "Spike Lee            16\n",
              "Steven Soderbergh    16\n",
              "Renny Harlin         15\n",
              "Oliver Stone         14\n",
              "Sam Raimi            13\n",
              "Michael Bay          13\n",
              "Barry Levinson       13\n",
              "Robert Zemeckis      13\n",
              "John Carpenter       13\n",
              "Joel Schumacher      13\n",
              "Ron Howard           13\n",
              "Robert Rodriguez     13\n",
              "Richard Donner       12\n",
              "Shawn Levy           12\n",
              "dtype: int64"
            ]
          },
          "metadata": {
            "tags": []
          },
          "execution_count": 624
        }
      ]
    },
    {
      "cell_type": "markdown",
      "metadata": {
        "id": "Ty4WKEwpn8-t"
      },
      "source": [
        "Steven Spielberg is a reputated director, so as Woody Allen. I really appreciate their masterpieces during my childhood. I believe lots of audiences facinate their work as well. How about the average scores of their works?"
      ]
    },
    {
      "cell_type": "code",
      "metadata": {
        "colab": {
          "base_uri": "https://localhost:8080/"
        },
        "id": "AZKihrULohY2",
        "outputId": "08a2cfdc-0349-43f4-bddd-1be01dbb38b9"
      },
      "source": [
        "name_list = director.index.tolist()\n",
        "average = {}\n",
        "for i in name_list:\n",
        "  sum = data['imdb_score'][data['director_name'] == i].sum()  \n",
        "  average[i] = sum/director[i]\n",
        "sorted(average.items(), key=lambda x: -x[1])"
      ],
      "execution_count": 625,
      "outputs": [
        {
          "output_type": "execute_result",
          "data": {
            "text/plain": [
              "[('Martin Scorsese', 7.659999999999999),\n",
              " ('Steven Spielberg', 7.480769230769232),\n",
              " ('Robert Zemeckis', 7.307692307692308),\n",
              " ('Clint Eastwood', 7.225),\n",
              " ('Ridley Scott', 7.070588235294117),\n",
              " ('Woody Allen', 7.00909090909091),\n",
              " ('Oliver Stone', 6.95),\n",
              " ('Tim Burton', 6.93125),\n",
              " ('Ron Howard', 6.93076923076923),\n",
              " ('John Carpenter', 6.915384615384615),\n",
              " ('Sam Raimi', 6.907692307692307),\n",
              " ('Richard Donner', 6.824999999999999),\n",
              " ('Steven Soderbergh', 6.70625),\n",
              " ('Michael Bay', 6.638461538461538),\n",
              " ('Barry Levinson', 6.576923076923076),\n",
              " ('Spike Lee', 6.56875),\n",
              " ('Joel Schumacher', 6.407692307692307),\n",
              " ('Shawn Levy', 6.033333333333334),\n",
              " ('Renny Harlin', 5.746666666666666),\n",
              " ('Robert Rodriguez', 5.6923076923076925)]"
            ]
          },
          "metadata": {
            "tags": []
          },
          "execution_count": 625
        }
      ]
    },
    {
      "cell_type": "markdown",
      "metadata": {
        "id": "1SjDup-4rmzp"
      },
      "source": [
        "Christopher Nolan, my favorite sci-film director has the best overall imdb score. His moive is not just so good, or brilliant. It's beyond that. I have seen Inception for multiple times. Maybe I should do one more time.\n",
        "<br>Ok, so we should agree that talented directors and casts will make a moive more entertaining and quality, which always result in a better rating. And we should consider that in our model."
      ]
    },
    {
      "cell_type": "code",
      "metadata": {
        "colab": {
          "base_uri": "https://localhost:8080/",
          "height": 669
        },
        "id": "qYDzvM2DehMl",
        "outputId": "04628006-84f2-4dee-bfe3-899f66d61cd5"
      },
      "source": [
        "director_score = pd.DataFrame(average.items(),columns=['Director','Score'])\n",
        "director_score['Movies'] = director.to_list()\n",
        "director_score"
      ],
      "execution_count": 626,
      "outputs": [
        {
          "output_type": "execute_result",
          "data": {
            "text/html": [
              "<div>\n",
              "<style scoped>\n",
              "    .dataframe tbody tr th:only-of-type {\n",
              "        vertical-align: middle;\n",
              "    }\n",
              "\n",
              "    .dataframe tbody tr th {\n",
              "        vertical-align: top;\n",
              "    }\n",
              "\n",
              "    .dataframe thead th {\n",
              "        text-align: right;\n",
              "    }\n",
              "</style>\n",
              "<table border=\"1\" class=\"dataframe\">\n",
              "  <thead>\n",
              "    <tr style=\"text-align: right;\">\n",
              "      <th></th>\n",
              "      <th>Director</th>\n",
              "      <th>Score</th>\n",
              "      <th>Movies</th>\n",
              "    </tr>\n",
              "  </thead>\n",
              "  <tbody>\n",
              "    <tr>\n",
              "      <th>0</th>\n",
              "      <td>Steven Spielberg</td>\n",
              "      <td>7.480769</td>\n",
              "      <td>26</td>\n",
              "    </tr>\n",
              "    <tr>\n",
              "      <th>1</th>\n",
              "      <td>Woody Allen</td>\n",
              "      <td>7.009091</td>\n",
              "      <td>22</td>\n",
              "    </tr>\n",
              "    <tr>\n",
              "      <th>2</th>\n",
              "      <td>Martin Scorsese</td>\n",
              "      <td>7.660000</td>\n",
              "      <td>20</td>\n",
              "    </tr>\n",
              "    <tr>\n",
              "      <th>3</th>\n",
              "      <td>Clint Eastwood</td>\n",
              "      <td>7.225000</td>\n",
              "      <td>20</td>\n",
              "    </tr>\n",
              "    <tr>\n",
              "      <th>4</th>\n",
              "      <td>Ridley Scott</td>\n",
              "      <td>7.070588</td>\n",
              "      <td>17</td>\n",
              "    </tr>\n",
              "    <tr>\n",
              "      <th>5</th>\n",
              "      <td>Tim Burton</td>\n",
              "      <td>6.931250</td>\n",
              "      <td>16</td>\n",
              "    </tr>\n",
              "    <tr>\n",
              "      <th>6</th>\n",
              "      <td>Spike Lee</td>\n",
              "      <td>6.568750</td>\n",
              "      <td>16</td>\n",
              "    </tr>\n",
              "    <tr>\n",
              "      <th>7</th>\n",
              "      <td>Steven Soderbergh</td>\n",
              "      <td>6.706250</td>\n",
              "      <td>16</td>\n",
              "    </tr>\n",
              "    <tr>\n",
              "      <th>8</th>\n",
              "      <td>Renny Harlin</td>\n",
              "      <td>5.746667</td>\n",
              "      <td>15</td>\n",
              "    </tr>\n",
              "    <tr>\n",
              "      <th>9</th>\n",
              "      <td>Oliver Stone</td>\n",
              "      <td>6.950000</td>\n",
              "      <td>14</td>\n",
              "    </tr>\n",
              "    <tr>\n",
              "      <th>10</th>\n",
              "      <td>Sam Raimi</td>\n",
              "      <td>6.907692</td>\n",
              "      <td>13</td>\n",
              "    </tr>\n",
              "    <tr>\n",
              "      <th>11</th>\n",
              "      <td>Michael Bay</td>\n",
              "      <td>6.638462</td>\n",
              "      <td>13</td>\n",
              "    </tr>\n",
              "    <tr>\n",
              "      <th>12</th>\n",
              "      <td>Barry Levinson</td>\n",
              "      <td>6.576923</td>\n",
              "      <td>13</td>\n",
              "    </tr>\n",
              "    <tr>\n",
              "      <th>13</th>\n",
              "      <td>Robert Zemeckis</td>\n",
              "      <td>7.307692</td>\n",
              "      <td>13</td>\n",
              "    </tr>\n",
              "    <tr>\n",
              "      <th>14</th>\n",
              "      <td>John Carpenter</td>\n",
              "      <td>6.915385</td>\n",
              "      <td>13</td>\n",
              "    </tr>\n",
              "    <tr>\n",
              "      <th>15</th>\n",
              "      <td>Joel Schumacher</td>\n",
              "      <td>6.407692</td>\n",
              "      <td>13</td>\n",
              "    </tr>\n",
              "    <tr>\n",
              "      <th>16</th>\n",
              "      <td>Ron Howard</td>\n",
              "      <td>6.930769</td>\n",
              "      <td>13</td>\n",
              "    </tr>\n",
              "    <tr>\n",
              "      <th>17</th>\n",
              "      <td>Robert Rodriguez</td>\n",
              "      <td>5.692308</td>\n",
              "      <td>13</td>\n",
              "    </tr>\n",
              "    <tr>\n",
              "      <th>18</th>\n",
              "      <td>Richard Donner</td>\n",
              "      <td>6.825000</td>\n",
              "      <td>12</td>\n",
              "    </tr>\n",
              "    <tr>\n",
              "      <th>19</th>\n",
              "      <td>Shawn Levy</td>\n",
              "      <td>6.033333</td>\n",
              "      <td>12</td>\n",
              "    </tr>\n",
              "  </tbody>\n",
              "</table>\n",
              "</div>"
            ],
            "text/plain": [
              "             Director     Score  Movies\n",
              "0    Steven Spielberg  7.480769      26\n",
              "1         Woody Allen  7.009091      22\n",
              "2     Martin Scorsese  7.660000      20\n",
              "3      Clint Eastwood  7.225000      20\n",
              "4        Ridley Scott  7.070588      17\n",
              "5          Tim Burton  6.931250      16\n",
              "6           Spike Lee  6.568750      16\n",
              "7   Steven Soderbergh  6.706250      16\n",
              "8        Renny Harlin  5.746667      15\n",
              "9        Oliver Stone  6.950000      14\n",
              "10          Sam Raimi  6.907692      13\n",
              "11        Michael Bay  6.638462      13\n",
              "12     Barry Levinson  6.576923      13\n",
              "13    Robert Zemeckis  7.307692      13\n",
              "14     John Carpenter  6.915385      13\n",
              "15    Joel Schumacher  6.407692      13\n",
              "16         Ron Howard  6.930769      13\n",
              "17   Robert Rodriguez  5.692308      13\n",
              "18     Richard Donner  6.825000      12\n",
              "19         Shawn Levy  6.033333      12"
            ]
          },
          "metadata": {
            "tags": []
          },
          "execution_count": 626
        }
      ]
    },
    {
      "cell_type": "code",
      "metadata": {
        "colab": {
          "base_uri": "https://localhost:8080/",
          "height": 737
        },
        "id": "AlPLu0Tmgkw_",
        "outputId": "53ffca1a-6bec-415a-dd6e-69b67f3d915f"
      },
      "source": [
        "plt.rcParams['axes.unicode_minus']=False \n",
        "director=director_score['Director'] \n",
        "score=director_score['Score'] \n",
        "movies=director_score['Movies'] \n",
        "\n",
        "fig=plt.figure(figsize=(18,12))\n",
        "ax=plt.subplot(1,1,1) \n",
        "ax.scatter(score,movies)    \n",
        "ax.set_title(\"Director IMDB rating and total number of movies\")\n",
        "ax.set_xlabel(\"IMDB rating\")\n",
        "ax.set_ylabel(\"Movies\")\n",
        "for i in range(len(movies)):\n",
        "    ax.text(score[i]*1.01, movies[i]*1.01, director[i], \n",
        "            fontsize=10, color = \"r\", style = \"italic\", weight = \"light\",\n",
        "            verticalalignment='center', horizontalalignment='right',rotation=-20) \n",
        "plt.show()"
      ],
      "execution_count": 627,
      "outputs": [
        {
          "output_type": "display_data",
          "data": {
            "image/png": "[encoded data removed]",
            "text/plain": [
              "<Figure size 1296x864 with 1 Axes>"
            ]
          },
          "metadata": {
            "tags": [],
            "needs_background": "light"
          }
        }
      ]
    },
    {
      "cell_type": "markdown",
      "metadata": {
        "id": "eXu_8M90iTfe"
      },
      "source": [
        "As we can see, directors with good reputation also have produced lots of movies. Maybe audiences love those famous figures and lead to celebrity effect. "
      ]
    },
    {
      "cell_type": "code",
      "metadata": {
        "colab": {
          "base_uri": "https://localhost:8080/"
        },
        "id": "5Y-eRSbEfNdt",
        "outputId": "d47af916-65ad-4729-a858-f948140f0798"
      },
      "source": [
        "director_score = sorted(average.items(), key=lambda x: -x[1])\n",
        "type(director_score)"
      ],
      "execution_count": 628,
      "outputs": [
        {
          "output_type": "execute_result",
          "data": {
            "text/plain": [
              "list"
            ]
          },
          "metadata": {
            "tags": []
          },
          "execution_count": 628
        }
      ]
    },
    {
      "cell_type": "code",
      "metadata": {
        "colab": {
          "base_uri": "https://localhost:8080/"
        },
        "id": "vYtOetYgNThz",
        "outputId": "bd61ed43-64e0-4fb7-b69c-3b088e099397"
      },
      "source": [
        "data.info()"
      ],
      "execution_count": 629,
      "outputs": [
        {
          "output_type": "stream",
          "text": [
            "<class 'pandas.core.frame.DataFrame'>\n",
            "RangeIndex: 5043 entries, 0 to 5042\n",
            "Data columns (total 28 columns):\n",
            " #   Column                     Non-Null Count  Dtype  \n",
            "---  ------                     --------------  -----  \n",
            " 0   color                      5024 non-null   object \n",
            " 1   director_name              4939 non-null   object \n",
            " 2   num_critic_for_reviews     4993 non-null   float64\n",
            " 3   duration                   5028 non-null   float64\n",
            " 4   director_facebook_likes    4939 non-null   float64\n",
            " 5   actor_3_facebook_likes     5020 non-null   float64\n",
            " 6   actor_2_name               5030 non-null   object \n",
            " 7   actor_1_facebook_likes     5036 non-null   float64\n",
            " 8   gross                      4159 non-null   float64\n",
            " 9   genres                     5043 non-null   object \n",
            " 10  actor_1_name               5036 non-null   object \n",
            " 11  movie_title                5043 non-null   object \n",
            " 12  num_voted_users            5043 non-null   int64  \n",
            " 13  cast_total_facebook_likes  5043 non-null   int64  \n",
            " 14  actor_3_name               5020 non-null   object \n",
            " 15  facenumber_in_poster       5030 non-null   float64\n",
            " 16  plot_keywords              4890 non-null   object \n",
            " 17  movie_imdb_link            5043 non-null   object \n",
            " 18  num_user_for_reviews       5022 non-null   float64\n",
            " 19  language                   5031 non-null   object \n",
            " 20  country                    5038 non-null   object \n",
            " 21  content_rating             4740 non-null   object \n",
            " 22  budget                     4551 non-null   float64\n",
            " 23  title_year                 4935 non-null   float64\n",
            " 24  actor_2_facebook_likes     5030 non-null   float64\n",
            " 25  imdb_score                 5043 non-null   float64\n",
            " 26  aspect_ratio               4714 non-null   float64\n",
            " 27  movie_facebook_likes       5043 non-null   int64  \n",
            "dtypes: float64(13), int64(3), object(12)\n",
            "memory usage: 1.1+ MB\n"
          ],
          "name": "stdout"
        }
      ]
    },
    {
      "cell_type": "markdown",
      "metadata": {
        "id": "l7oFofVffxWS"
      },
      "source": [
        "This dataset contains lots of information, including 9 characteristic variables, 15 numeric variables and 2 categorical variables. Before we processing feature engineering, I want to check data integrity so that missing values and outliers won't affect our prediction result.\n",
        "The first step is to find out how many missing values we have here."
      ]
    },
    {
      "cell_type": "code",
      "metadata": {
        "colab": {
          "base_uri": "https://localhost:8080/"
        },
        "id": "vj-kPfVRnXyj",
        "outputId": "ac045a38-8608-43b7-e374-bd7d4428e8d3"
      },
      "source": [
        "data.isna().sum()"
      ],
      "execution_count": 630,
      "outputs": [
        {
          "output_type": "execute_result",
          "data": {
            "text/plain": [
              "color                         19\n",
              "director_name                104\n",
              "num_critic_for_reviews        50\n",
              "duration                      15\n",
              "director_facebook_likes      104\n",
              "actor_3_facebook_likes        23\n",
              "actor_2_name                  13\n",
              "actor_1_facebook_likes         7\n",
              "gross                        884\n",
              "genres                         0\n",
              "actor_1_name                   7\n",
              "movie_title                    0\n",
              "num_voted_users                0\n",
              "cast_total_facebook_likes      0\n",
              "actor_3_name                  23\n",
              "facenumber_in_poster          13\n",
              "plot_keywords                153\n",
              "movie_imdb_link                0\n",
              "num_user_for_reviews          21\n",
              "language                      12\n",
              "country                        5\n",
              "content_rating               303\n",
              "budget                       492\n",
              "title_year                   108\n",
              "actor_2_facebook_likes        13\n",
              "imdb_score                     0\n",
              "aspect_ratio                 329\n",
              "movie_facebook_likes           0\n",
              "dtype: int64"
            ]
          },
          "metadata": {
            "tags": []
          },
          "execution_count": 630
        }
      ]
    },
    {
      "cell_type": "markdown",
      "metadata": {
        "id": "vfjvUG61uCnZ"
      },
      "source": [
        "That's a lot missing here. It is unpropriate if we processing the raw data without cleaning them out. \n",
        "<br>I would assume that those directors and actors who do not have \"facebook likes\" is because they do not have a official facebook account or is not avaliable currently. I would fill them as 0 to make it works. "
      ]
    },
    {
      "cell_type": "code",
      "metadata": {
        "id": "D0zhg-Cxcg1m"
      },
      "source": [
        "data['director_facebook_likes'] = data['director_facebook_likes'].fillna(0)\n",
        "data['actor_1_facebook_likes'] = data['actor_1_facebook_likes'].fillna(0)\n",
        "data['actor_2_facebook_likes'] = data['actor_2_facebook_likes'].fillna(0)\n",
        "data['actor_3_facebook_likes'] = data['actor_3_facebook_likes'].fillna(0)"
      ],
      "execution_count": 631,
      "outputs": []
    },
    {
      "cell_type": "markdown",
      "metadata": {
        "id": "AktekptWlMIT"
      },
      "source": [
        "Face number in movies' poster should not affect review scores, as well as their imdb links, the number of reviews and aspect ratio.\n",
        "<br>We have to admit that movie title might have positive or negative influence here. For instance, rating of movies in franchise series are affected by their precessors. Audiences always expect more on great movies' successors. On another hand, moives which named after a famous charactor, like spider-man or Donald Duck, will give their audiences a special impression.\n",
        "<br>Still, I will delete these columns because their influence in this dataset is minimal and this will save us some time."
      ]
    },
    {
      "cell_type": "code",
      "metadata": {
        "id": "B6UK5FgkdfI6"
      },
      "source": [
        "data_wo_useless_attributes = data.drop(columns=['color','movie_imdb_link','num_user_for_reviews','aspect_ratio','movie_title','plot_keywords','language','country'])"
      ],
      "execution_count": 634,
      "outputs": []
    },
    {
      "cell_type": "code",
      "metadata": {
        "id": "v7i616e1qqY9"
      },
      "source": [
        "data_wo_useless_attributes = data_wo_useless_attributes.drop(columns=['facenumber_in_poster'])"
      ],
      "execution_count": 635,
      "outputs": []
    },
    {
      "cell_type": "markdown",
      "metadata": {
        "id": "_Cwgu2ghuvZ3"
      },
      "source": [
        "Drop the na rows for numeric varibles. It is not approriate if we just fill them with means or median here. As we have enough samples here and na rows of numeric varibles are no more than 400 rows, I would say it is safer to focus on rows without missing values."
      ]
    },
    {
      "cell_type": "code",
      "metadata": {
        "id": "Z39SlXzPp5Oj"
      },
      "source": [
        "data_numeric_cleaned = data_wo_useless_attributes.dropna(subset=['num_critic_for_reviews','duration','director_name','title_year','gross','budget'])"
      ],
      "execution_count": 636,
      "outputs": []
    },
    {
      "cell_type": "code",
      "metadata": {
        "id": "6YxaqbyaqVZV"
      },
      "source": [
        "data_categoric_cleaned = data_numeric_cleaned.dropna(subset=['director_name','actor_1_name','actor_2_name','actor_3_name','content_rating'])"
      ],
      "execution_count": 637,
      "outputs": []
    },
    {
      "cell_type": "code",
      "metadata": {
        "colab": {
          "base_uri": "https://localhost:8080/"
        },
        "id": "KCx3wmrYsspo",
        "outputId": "78d36423-ab74-40fb-ade3-c0b3e26029c6"
      },
      "source": [
        "data_categoric_cleaned.isna().sum()"
      ],
      "execution_count": 638,
      "outputs": [
        {
          "output_type": "execute_result",
          "data": {
            "text/plain": [
              "director_name                0\n",
              "num_critic_for_reviews       0\n",
              "duration                     0\n",
              "director_facebook_likes      0\n",
              "actor_3_facebook_likes       0\n",
              "actor_2_name                 0\n",
              "actor_1_facebook_likes       0\n",
              "gross                        0\n",
              "genres                       0\n",
              "actor_1_name                 0\n",
              "num_voted_users              0\n",
              "cast_total_facebook_likes    0\n",
              "actor_3_name                 0\n",
              "content_rating               0\n",
              "budget                       0\n",
              "title_year                   0\n",
              "actor_2_facebook_likes       0\n",
              "imdb_score                   0\n",
              "movie_facebook_likes         0\n",
              "dtype: int64"
            ]
          },
          "metadata": {
            "tags": []
          },
          "execution_count": 638
        }
      ]
    },
    {
      "cell_type": "markdown",
      "metadata": {
        "id": "_fhqeqQmzACE"
      },
      "source": [
        "Index needs to be resets here to make sure following step will work well."
      ]
    },
    {
      "cell_type": "code",
      "metadata": {
        "id": "i7z73zB8hIyw"
      },
      "source": [
        "data_categoric_cleaned = data_categoric_cleaned.reset_index(drop=True)"
      ],
      "execution_count": 639,
      "outputs": []
    },
    {
      "cell_type": "code",
      "metadata": {
        "colab": {
          "base_uri": "https://localhost:8080/"
        },
        "id": "IH4DNYUsdjom",
        "outputId": "07c6d90e-9a84-4a73-f404-49611a7a4fc8"
      },
      "source": [
        "data_categoric_cleaned.info()"
      ],
      "execution_count": 640,
      "outputs": [
        {
          "output_type": "stream",
          "text": [
            "<class 'pandas.core.frame.DataFrame'>\n",
            "RangeIndex: 3833 entries, 0 to 3832\n",
            "Data columns (total 19 columns):\n",
            " #   Column                     Non-Null Count  Dtype  \n",
            "---  ------                     --------------  -----  \n",
            " 0   director_name              3833 non-null   object \n",
            " 1   num_critic_for_reviews     3833 non-null   float64\n",
            " 2   duration                   3833 non-null   float64\n",
            " 3   director_facebook_likes    3833 non-null   float64\n",
            " 4   actor_3_facebook_likes     3833 non-null   float64\n",
            " 5   actor_2_name               3833 non-null   object \n",
            " 6   actor_1_facebook_likes     3833 non-null   float64\n",
            " 7   gross                      3833 non-null   float64\n",
            " 8   genres                     3833 non-null   object \n",
            " 9   actor_1_name               3833 non-null   object \n",
            " 10  num_voted_users            3833 non-null   int64  \n",
            " 11  cast_total_facebook_likes  3833 non-null   int64  \n",
            " 12  actor_3_name               3833 non-null   object \n",
            " 13  content_rating             3833 non-null   object \n",
            " 14  budget                     3833 non-null   float64\n",
            " 15  title_year                 3833 non-null   float64\n",
            " 16  actor_2_facebook_likes     3833 non-null   float64\n",
            " 17  imdb_score                 3833 non-null   float64\n",
            " 18  movie_facebook_likes       3833 non-null   int64  \n",
            "dtypes: float64(10), int64(3), object(6)\n",
            "memory usage: 569.1+ KB\n"
          ],
          "name": "stdout"
        }
      ]
    },
    {
      "cell_type": "markdown",
      "metadata": {
        "id": "8B9NGYRJzPaJ"
      },
      "source": [
        "# Characteristic Variables and categorical variables"
      ]
    },
    {
      "cell_type": "markdown",
      "metadata": {
        "id": "r9Nz0bgZzfla"
      },
      "source": [
        "Genres is a little difficult to deal with. It has been put into one column and separate by \"|\". I will divide them into several columns using one hot coding. This is the only variable I want to use one hot coding since the labels is not so many."
      ]
    },
    {
      "cell_type": "code",
      "metadata": {
        "colab": {
          "base_uri": "https://localhost:8080/"
        },
        "id": "XjKUlB0od6wv",
        "outputId": "53e6cdc7-a99e-49f9-ee6b-207d3e8e8645"
      },
      "source": [
        "data_categoric_cleaned['genres'].describe()"
      ],
      "execution_count": 641,
      "outputs": [
        {
          "output_type": "execute_result",
          "data": {
            "text/plain": [
              "count                     3833\n",
              "unique                     751\n",
              "top       Comedy|Drama|Romance\n",
              "freq                       150\n",
              "Name: genres, dtype: object"
            ]
          },
          "metadata": {
            "tags": []
          },
          "execution_count": 641
        }
      ]
    },
    {
      "cell_type": "code",
      "metadata": {
        "id": "hWfwELCJeqUa"
      },
      "source": [
        "genres = []\n",
        "for i in range(len(data_categoric_cleaned)):\n",
        "  temp = data_categoric_cleaned['genres'][i].split('|')\n",
        "  for n in range(len(temp)):\n",
        "    if temp[n] not in genres:\n",
        "      genres.append(temp[n])"
      ],
      "execution_count": 642,
      "outputs": []
    },
    {
      "cell_type": "markdown",
      "metadata": {
        "id": "51b9cIK10f5O"
      },
      "source": [
        "I create a list to store all genres values."
      ]
    },
    {
      "cell_type": "code",
      "metadata": {
        "colab": {
          "base_uri": "https://localhost:8080/"
        },
        "id": "HHTWn0HghPZI",
        "outputId": "6363112b-39f8-40fd-b50b-996e5c079cdd"
      },
      "source": [
        "genres"
      ],
      "execution_count": 643,
      "outputs": [
        {
          "output_type": "execute_result",
          "data": {
            "text/plain": [
              "['Action',\n",
              " 'Adventure',\n",
              " 'Fantasy',\n",
              " 'Sci-Fi',\n",
              " 'Thriller',\n",
              " 'Romance',\n",
              " 'Animation',\n",
              " 'Comedy',\n",
              " 'Family',\n",
              " 'Musical',\n",
              " 'Mystery',\n",
              " 'Western',\n",
              " 'Drama',\n",
              " 'History',\n",
              " 'Sport',\n",
              " 'Crime',\n",
              " 'Horror',\n",
              " 'War',\n",
              " 'Biography',\n",
              " 'Music',\n",
              " 'Documentary',\n",
              " 'Film-Noir']"
            ]
          },
          "metadata": {
            "tags": []
          },
          "execution_count": 643
        }
      ]
    },
    {
      "cell_type": "markdown",
      "metadata": {
        "id": "tKkJC3e40q21"
      },
      "source": [
        "Create new empty columns for genres."
      ]
    },
    {
      "cell_type": "code",
      "metadata": {
        "id": "3hoXQPtShegy"
      },
      "source": [
        "for i in genres:\n",
        "  temp = [0]*len(data_categoric_cleaned)\n",
        "  col_name = i\n",
        "  data_categoric_cleaned[col_name] = temp"
      ],
      "execution_count": 644,
      "outputs": []
    },
    {
      "cell_type": "markdown",
      "metadata": {
        "id": "pDCZuUFA0wkM"
      },
      "source": [
        "One-hot coding and we have genres attributes separated."
      ]
    },
    {
      "cell_type": "code",
      "metadata": {
        "id": "NogDL0A2jUUF"
      },
      "source": [
        "for i in range(len(data_categoric_cleaned)):\n",
        "  temp = data_categoric_cleaned['genres'][i].split('|')\n",
        "  for n in range(len(temp)):\n",
        "    data_categoric_cleaned[temp[n]][i] = 1"
      ],
      "execution_count": 645,
      "outputs": []
    },
    {
      "cell_type": "code",
      "metadata": {
        "colab": {
          "base_uri": "https://localhost:8080/",
          "height": 456
        },
        "id": "nmOHlfh2jAPd",
        "outputId": "ac40e439-3f90-461e-98f4-bb5f15d6eac5"
      },
      "source": [
        "data_categoric_cleaned[genres]"
      ],
      "execution_count": 646,
      "outputs": [
        {
          "output_type": "execute_result",
          "data": {
            "text/html": [
              "<div>\n",
              "<style scoped>\n",
              "    .dataframe tbody tr th:only-of-type {\n",
              "        vertical-align: middle;\n",
              "    }\n",
              "\n",
              "    .dataframe tbody tr th {\n",
              "        vertical-align: top;\n",
              "    }\n",
              "\n",
              "    .dataframe thead th {\n",
              "        text-align: right;\n",
              "    }\n",
              "</style>\n",
              "<table border=\"1\" class=\"dataframe\">\n",
              "  <thead>\n",
              "    <tr style=\"text-align: right;\">\n",
              "      <th></th>\n",
              "      <th>Action</th>\n",
              "      <th>Adventure</th>\n",
              "      <th>Fantasy</th>\n",
              "      <th>Sci-Fi</th>\n",
              "      <th>Thriller</th>\n",
              "      <th>Romance</th>\n",
              "      <th>Animation</th>\n",
              "      <th>Comedy</th>\n",
              "      <th>Family</th>\n",
              "      <th>Musical</th>\n",
              "      <th>Mystery</th>\n",
              "      <th>Western</th>\n",
              "      <th>Drama</th>\n",
              "      <th>History</th>\n",
              "      <th>Sport</th>\n",
              "      <th>Crime</th>\n",
              "      <th>Horror</th>\n",
              "      <th>War</th>\n",
              "      <th>Biography</th>\n",
              "      <th>Music</th>\n",
              "      <th>Documentary</th>\n",
              "      <th>Film-Noir</th>\n",
              "    </tr>\n",
              "  </thead>\n",
              "  <tbody>\n",
              "    <tr>\n",
              "      <th>0</th>\n",
              "      <td>1</td>\n",
              "      <td>1</td>\n",
              "      <td>1</td>\n",
              "      <td>1</td>\n",
              "      <td>0</td>\n",
              "      <td>0</td>\n",
              "      <td>0</td>\n",
              "      <td>0</td>\n",
              "      <td>0</td>\n",
              "      <td>0</td>\n",
              "      <td>0</td>\n",
              "      <td>0</td>\n",
              "      <td>0</td>\n",
              "      <td>0</td>\n",
              "      <td>0</td>\n",
              "      <td>0</td>\n",
              "      <td>0</td>\n",
              "      <td>0</td>\n",
              "      <td>0</td>\n",
              "      <td>0</td>\n",
              "      <td>0</td>\n",
              "      <td>0</td>\n",
              "    </tr>\n",
              "    <tr>\n",
              "      <th>1</th>\n",
              "      <td>1</td>\n",
              "      <td>1</td>\n",
              "      <td>1</td>\n",
              "      <td>0</td>\n",
              "      <td>0</td>\n",
              "      <td>0</td>\n",
              "      <td>0</td>\n",
              "      <td>0</td>\n",
              "      <td>0</td>\n",
              "      <td>0</td>\n",
              "      <td>0</td>\n",
              "      <td>0</td>\n",
              "      <td>0</td>\n",
              "      <td>0</td>\n",
              "      <td>0</td>\n",
              "      <td>0</td>\n",
              "      <td>0</td>\n",
              "      <td>0</td>\n",
              "      <td>0</td>\n",
              "      <td>0</td>\n",
              "      <td>0</td>\n",
              "      <td>0</td>\n",
              "    </tr>\n",
              "    <tr>\n",
              "      <th>2</th>\n",
              "      <td>1</td>\n",
              "      <td>1</td>\n",
              "      <td>0</td>\n",
              "      <td>0</td>\n",
              "      <td>1</td>\n",
              "      <td>0</td>\n",
              "      <td>0</td>\n",
              "      <td>0</td>\n",
              "      <td>0</td>\n",
              "      <td>0</td>\n",
              "      <td>0</td>\n",
              "      <td>0</td>\n",
              "      <td>0</td>\n",
              "      <td>0</td>\n",
              "      <td>0</td>\n",
              "      <td>0</td>\n",
              "      <td>0</td>\n",
              "      <td>0</td>\n",
              "      <td>0</td>\n",
              "      <td>0</td>\n",
              "      <td>0</td>\n",
              "      <td>0</td>\n",
              "    </tr>\n",
              "    <tr>\n",
              "      <th>3</th>\n",
              "      <td>1</td>\n",
              "      <td>0</td>\n",
              "      <td>0</td>\n",
              "      <td>0</td>\n",
              "      <td>1</td>\n",
              "      <td>0</td>\n",
              "      <td>0</td>\n",
              "      <td>0</td>\n",
              "      <td>0</td>\n",
              "      <td>0</td>\n",
              "      <td>0</td>\n",
              "      <td>0</td>\n",
              "      <td>0</td>\n",
              "      <td>0</td>\n",
              "      <td>0</td>\n",
              "      <td>0</td>\n",
              "      <td>0</td>\n",
              "      <td>0</td>\n",
              "      <td>0</td>\n",
              "      <td>0</td>\n",
              "      <td>0</td>\n",
              "      <td>0</td>\n",
              "    </tr>\n",
              "    <tr>\n",
              "      <th>4</th>\n",
              "      <td>1</td>\n",
              "      <td>1</td>\n",
              "      <td>0</td>\n",
              "      <td>1</td>\n",
              "      <td>0</td>\n",
              "      <td>0</td>\n",
              "      <td>0</td>\n",
              "      <td>0</td>\n",
              "      <td>0</td>\n",
              "      <td>0</td>\n",
              "      <td>0</td>\n",
              "      <td>0</td>\n",
              "      <td>0</td>\n",
              "      <td>0</td>\n",
              "      <td>0</td>\n",
              "      <td>0</td>\n",
              "      <td>0</td>\n",
              "      <td>0</td>\n",
              "      <td>0</td>\n",
              "      <td>0</td>\n",
              "      <td>0</td>\n",
              "      <td>0</td>\n",
              "    </tr>\n",
              "    <tr>\n",
              "      <th>...</th>\n",
              "      <td>...</td>\n",
              "      <td>...</td>\n",
              "      <td>...</td>\n",
              "      <td>...</td>\n",
              "      <td>...</td>\n",
              "      <td>...</td>\n",
              "      <td>...</td>\n",
              "      <td>...</td>\n",
              "      <td>...</td>\n",
              "      <td>...</td>\n",
              "      <td>...</td>\n",
              "      <td>...</td>\n",
              "      <td>...</td>\n",
              "      <td>...</td>\n",
              "      <td>...</td>\n",
              "      <td>...</td>\n",
              "      <td>...</td>\n",
              "      <td>...</td>\n",
              "      <td>...</td>\n",
              "      <td>...</td>\n",
              "      <td>...</td>\n",
              "      <td>...</td>\n",
              "    </tr>\n",
              "    <tr>\n",
              "      <th>3828</th>\n",
              "      <td>0</td>\n",
              "      <td>0</td>\n",
              "      <td>0</td>\n",
              "      <td>1</td>\n",
              "      <td>1</td>\n",
              "      <td>0</td>\n",
              "      <td>0</td>\n",
              "      <td>0</td>\n",
              "      <td>0</td>\n",
              "      <td>0</td>\n",
              "      <td>0</td>\n",
              "      <td>0</td>\n",
              "      <td>1</td>\n",
              "      <td>0</td>\n",
              "      <td>0</td>\n",
              "      <td>0</td>\n",
              "      <td>0</td>\n",
              "      <td>0</td>\n",
              "      <td>0</td>\n",
              "      <td>0</td>\n",
              "      <td>0</td>\n",
              "      <td>0</td>\n",
              "    </tr>\n",
              "    <tr>\n",
              "      <th>3829</th>\n",
              "      <td>0</td>\n",
              "      <td>0</td>\n",
              "      <td>0</td>\n",
              "      <td>0</td>\n",
              "      <td>1</td>\n",
              "      <td>0</td>\n",
              "      <td>0</td>\n",
              "      <td>0</td>\n",
              "      <td>0</td>\n",
              "      <td>0</td>\n",
              "      <td>0</td>\n",
              "      <td>0</td>\n",
              "      <td>0</td>\n",
              "      <td>0</td>\n",
              "      <td>0</td>\n",
              "      <td>0</td>\n",
              "      <td>0</td>\n",
              "      <td>0</td>\n",
              "      <td>0</td>\n",
              "      <td>0</td>\n",
              "      <td>0</td>\n",
              "      <td>0</td>\n",
              "    </tr>\n",
              "    <tr>\n",
              "      <th>3830</th>\n",
              "      <td>1</td>\n",
              "      <td>0</td>\n",
              "      <td>0</td>\n",
              "      <td>0</td>\n",
              "      <td>1</td>\n",
              "      <td>1</td>\n",
              "      <td>0</td>\n",
              "      <td>0</td>\n",
              "      <td>0</td>\n",
              "      <td>0</td>\n",
              "      <td>0</td>\n",
              "      <td>0</td>\n",
              "      <td>1</td>\n",
              "      <td>0</td>\n",
              "      <td>0</td>\n",
              "      <td>1</td>\n",
              "      <td>0</td>\n",
              "      <td>0</td>\n",
              "      <td>0</td>\n",
              "      <td>0</td>\n",
              "      <td>0</td>\n",
              "      <td>0</td>\n",
              "    </tr>\n",
              "    <tr>\n",
              "      <th>3831</th>\n",
              "      <td>0</td>\n",
              "      <td>0</td>\n",
              "      <td>0</td>\n",
              "      <td>0</td>\n",
              "      <td>0</td>\n",
              "      <td>0</td>\n",
              "      <td>0</td>\n",
              "      <td>1</td>\n",
              "      <td>0</td>\n",
              "      <td>0</td>\n",
              "      <td>0</td>\n",
              "      <td>0</td>\n",
              "      <td>1</td>\n",
              "      <td>0</td>\n",
              "      <td>0</td>\n",
              "      <td>0</td>\n",
              "      <td>0</td>\n",
              "      <td>0</td>\n",
              "      <td>0</td>\n",
              "      <td>0</td>\n",
              "      <td>0</td>\n",
              "      <td>0</td>\n",
              "    </tr>\n",
              "    <tr>\n",
              "      <th>3832</th>\n",
              "      <td>0</td>\n",
              "      <td>0</td>\n",
              "      <td>0</td>\n",
              "      <td>0</td>\n",
              "      <td>0</td>\n",
              "      <td>0</td>\n",
              "      <td>0</td>\n",
              "      <td>0</td>\n",
              "      <td>0</td>\n",
              "      <td>0</td>\n",
              "      <td>0</td>\n",
              "      <td>0</td>\n",
              "      <td>0</td>\n",
              "      <td>0</td>\n",
              "      <td>0</td>\n",
              "      <td>0</td>\n",
              "      <td>0</td>\n",
              "      <td>0</td>\n",
              "      <td>0</td>\n",
              "      <td>0</td>\n",
              "      <td>1</td>\n",
              "      <td>0</td>\n",
              "    </tr>\n",
              "  </tbody>\n",
              "</table>\n",
              "<p>3833 rows × 22 columns</p>\n",
              "</div>"
            ],
            "text/plain": [
              "      Action  Adventure  Fantasy  ...  Music  Documentary  Film-Noir\n",
              "0          1          1        1  ...      0            0          0\n",
              "1          1          1        1  ...      0            0          0\n",
              "2          1          1        0  ...      0            0          0\n",
              "3          1          0        0  ...      0            0          0\n",
              "4          1          1        0  ...      0            0          0\n",
              "...      ...        ...      ...  ...    ...          ...        ...\n",
              "3828       0          0        0  ...      0            0          0\n",
              "3829       0          0        0  ...      0            0          0\n",
              "3830       1          0        0  ...      0            0          0\n",
              "3831       0          0        0  ...      0            0          0\n",
              "3832       0          0        0  ...      0            1          0\n",
              "\n",
              "[3833 rows x 22 columns]"
            ]
          },
          "metadata": {
            "tags": []
          },
          "execution_count": 646
        }
      ]
    },
    {
      "cell_type": "markdown",
      "metadata": {
        "id": "t1eH81x10_Iz"
      },
      "source": [
        "Drop the original genres column"
      ]
    },
    {
      "cell_type": "code",
      "metadata": {
        "id": "k0VyvFnqkfzI"
      },
      "source": [
        "data_categoric_cleaned = data_categoric_cleaned.drop(columns=['genres'])\n",
        "data_ready = data_categoric_cleaned"
      ],
      "execution_count": 647,
      "outputs": []
    },
    {
      "cell_type": "markdown",
      "metadata": {
        "id": "foelfQW1CAYm"
      },
      "source": [
        "#One hot encoding for content rating"
      ]
    },
    {
      "cell_type": "code",
      "metadata": {
        "colab": {
          "base_uri": "https://localhost:8080/",
          "height": 456
        },
        "id": "z3QMyxxJCJJv",
        "outputId": "d9fac59f-3c16-40a8-bedc-a458f806f79b"
      },
      "source": [
        "content_rating = pd.get_dummies(data_ready.content_rating, prefix='content_rating')\n",
        "content_rating"
      ],
      "execution_count": 648,
      "outputs": [
        {
          "output_type": "execute_result",
          "data": {
            "text/html": [
              "<div>\n",
              "<style scoped>\n",
              "    .dataframe tbody tr th:only-of-type {\n",
              "        vertical-align: middle;\n",
              "    }\n",
              "\n",
              "    .dataframe tbody tr th {\n",
              "        vertical-align: top;\n",
              "    }\n",
              "\n",
              "    .dataframe thead th {\n",
              "        text-align: right;\n",
              "    }\n",
              "</style>\n",
              "<table border=\"1\" class=\"dataframe\">\n",
              "  <thead>\n",
              "    <tr style=\"text-align: right;\">\n",
              "      <th></th>\n",
              "      <th>content_rating_Approved</th>\n",
              "      <th>content_rating_G</th>\n",
              "      <th>content_rating_GP</th>\n",
              "      <th>content_rating_M</th>\n",
              "      <th>content_rating_NC-17</th>\n",
              "      <th>content_rating_Not Rated</th>\n",
              "      <th>content_rating_PG</th>\n",
              "      <th>content_rating_PG-13</th>\n",
              "      <th>content_rating_Passed</th>\n",
              "      <th>content_rating_R</th>\n",
              "      <th>content_rating_Unrated</th>\n",
              "      <th>content_rating_X</th>\n",
              "    </tr>\n",
              "  </thead>\n",
              "  <tbody>\n",
              "    <tr>\n",
              "      <th>0</th>\n",
              "      <td>0</td>\n",
              "      <td>0</td>\n",
              "      <td>0</td>\n",
              "      <td>0</td>\n",
              "      <td>0</td>\n",
              "      <td>0</td>\n",
              "      <td>0</td>\n",
              "      <td>1</td>\n",
              "      <td>0</td>\n",
              "      <td>0</td>\n",
              "      <td>0</td>\n",
              "      <td>0</td>\n",
              "    </tr>\n",
              "    <tr>\n",
              "      <th>1</th>\n",
              "      <td>0</td>\n",
              "      <td>0</td>\n",
              "      <td>0</td>\n",
              "      <td>0</td>\n",
              "      <td>0</td>\n",
              "      <td>0</td>\n",
              "      <td>0</td>\n",
              "      <td>1</td>\n",
              "      <td>0</td>\n",
              "      <td>0</td>\n",
              "      <td>0</td>\n",
              "      <td>0</td>\n",
              "    </tr>\n",
              "    <tr>\n",
              "      <th>2</th>\n",
              "      <td>0</td>\n",
              "      <td>0</td>\n",
              "      <td>0</td>\n",
              "      <td>0</td>\n",
              "      <td>0</td>\n",
              "      <td>0</td>\n",
              "      <td>0</td>\n",
              "      <td>1</td>\n",
              "      <td>0</td>\n",
              "      <td>0</td>\n",
              "      <td>0</td>\n",
              "      <td>0</td>\n",
              "    </tr>\n",
              "    <tr>\n",
              "      <th>3</th>\n",
              "      <td>0</td>\n",
              "      <td>0</td>\n",
              "      <td>0</td>\n",
              "      <td>0</td>\n",
              "      <td>0</td>\n",
              "      <td>0</td>\n",
              "      <td>0</td>\n",
              "      <td>1</td>\n",
              "      <td>0</td>\n",
              "      <td>0</td>\n",
              "      <td>0</td>\n",
              "      <td>0</td>\n",
              "    </tr>\n",
              "    <tr>\n",
              "      <th>4</th>\n",
              "      <td>0</td>\n",
              "      <td>0</td>\n",
              "      <td>0</td>\n",
              "      <td>0</td>\n",
              "      <td>0</td>\n",
              "      <td>0</td>\n",
              "      <td>0</td>\n",
              "      <td>1</td>\n",
              "      <td>0</td>\n",
              "      <td>0</td>\n",
              "      <td>0</td>\n",
              "      <td>0</td>\n",
              "    </tr>\n",
              "    <tr>\n",
              "      <th>...</th>\n",
              "      <td>...</td>\n",
              "      <td>...</td>\n",
              "      <td>...</td>\n",
              "      <td>...</td>\n",
              "      <td>...</td>\n",
              "      <td>...</td>\n",
              "      <td>...</td>\n",
              "      <td>...</td>\n",
              "      <td>...</td>\n",
              "      <td>...</td>\n",
              "      <td>...</td>\n",
              "      <td>...</td>\n",
              "    </tr>\n",
              "    <tr>\n",
              "      <th>3828</th>\n",
              "      <td>0</td>\n",
              "      <td>0</td>\n",
              "      <td>0</td>\n",
              "      <td>0</td>\n",
              "      <td>0</td>\n",
              "      <td>0</td>\n",
              "      <td>0</td>\n",
              "      <td>1</td>\n",
              "      <td>0</td>\n",
              "      <td>0</td>\n",
              "      <td>0</td>\n",
              "      <td>0</td>\n",
              "    </tr>\n",
              "    <tr>\n",
              "      <th>3829</th>\n",
              "      <td>0</td>\n",
              "      <td>0</td>\n",
              "      <td>0</td>\n",
              "      <td>0</td>\n",
              "      <td>0</td>\n",
              "      <td>1</td>\n",
              "      <td>0</td>\n",
              "      <td>0</td>\n",
              "      <td>0</td>\n",
              "      <td>0</td>\n",
              "      <td>0</td>\n",
              "      <td>0</td>\n",
              "    </tr>\n",
              "    <tr>\n",
              "      <th>3830</th>\n",
              "      <td>0</td>\n",
              "      <td>0</td>\n",
              "      <td>0</td>\n",
              "      <td>0</td>\n",
              "      <td>0</td>\n",
              "      <td>0</td>\n",
              "      <td>0</td>\n",
              "      <td>0</td>\n",
              "      <td>0</td>\n",
              "      <td>1</td>\n",
              "      <td>0</td>\n",
              "      <td>0</td>\n",
              "    </tr>\n",
              "    <tr>\n",
              "      <th>3831</th>\n",
              "      <td>0</td>\n",
              "      <td>0</td>\n",
              "      <td>0</td>\n",
              "      <td>0</td>\n",
              "      <td>0</td>\n",
              "      <td>1</td>\n",
              "      <td>0</td>\n",
              "      <td>0</td>\n",
              "      <td>0</td>\n",
              "      <td>0</td>\n",
              "      <td>0</td>\n",
              "      <td>0</td>\n",
              "    </tr>\n",
              "    <tr>\n",
              "      <th>3832</th>\n",
              "      <td>0</td>\n",
              "      <td>0</td>\n",
              "      <td>0</td>\n",
              "      <td>0</td>\n",
              "      <td>0</td>\n",
              "      <td>0</td>\n",
              "      <td>1</td>\n",
              "      <td>0</td>\n",
              "      <td>0</td>\n",
              "      <td>0</td>\n",
              "      <td>0</td>\n",
              "      <td>0</td>\n",
              "    </tr>\n",
              "  </tbody>\n",
              "</table>\n",
              "<p>3833 rows × 12 columns</p>\n",
              "</div>"
            ],
            "text/plain": [
              "      content_rating_Approved  ...  content_rating_X\n",
              "0                           0  ...                 0\n",
              "1                           0  ...                 0\n",
              "2                           0  ...                 0\n",
              "3                           0  ...                 0\n",
              "4                           0  ...                 0\n",
              "...                       ...  ...               ...\n",
              "3828                        0  ...                 0\n",
              "3829                        0  ...                 0\n",
              "3830                        0  ...                 0\n",
              "3831                        0  ...                 0\n",
              "3832                        0  ...                 0\n",
              "\n",
              "[3833 rows x 12 columns]"
            ]
          },
          "metadata": {
            "tags": []
          },
          "execution_count": 648
        }
      ]
    },
    {
      "cell_type": "code",
      "metadata": {
        "colab": {
          "base_uri": "https://localhost:8080/",
          "height": 575
        },
        "id": "n7Z2Nw-xDmnc",
        "outputId": "55956d14-21ab-483c-da59-866495581657"
      },
      "source": [
        "data_ready= data_ready.drop('content_rating',axis = 1)\n",
        "data_ready = data_ready.join(content_rating)\n",
        "data_ready"
      ],
      "execution_count": 649,
      "outputs": [
        {
          "output_type": "execute_result",
          "data": {
            "text/html": [
              "<div>\n",
              "<style scoped>\n",
              "    .dataframe tbody tr th:only-of-type {\n",
              "        vertical-align: middle;\n",
              "    }\n",
              "\n",
              "    .dataframe tbody tr th {\n",
              "        vertical-align: top;\n",
              "    }\n",
              "\n",
              "    .dataframe thead th {\n",
              "        text-align: right;\n",
              "    }\n",
              "</style>\n",
              "<table border=\"1\" class=\"dataframe\">\n",
              "  <thead>\n",
              "    <tr style=\"text-align: right;\">\n",
              "      <th></th>\n",
              "      <th>director_name</th>\n",
              "      <th>num_critic_for_reviews</th>\n",
              "      <th>duration</th>\n",
              "      <th>director_facebook_likes</th>\n",
              "      <th>actor_3_facebook_likes</th>\n",
              "      <th>actor_2_name</th>\n",
              "      <th>actor_1_facebook_likes</th>\n",
              "      <th>gross</th>\n",
              "      <th>actor_1_name</th>\n",
              "      <th>num_voted_users</th>\n",
              "      <th>cast_total_facebook_likes</th>\n",
              "      <th>actor_3_name</th>\n",
              "      <th>budget</th>\n",
              "      <th>title_year</th>\n",
              "      <th>actor_2_facebook_likes</th>\n",
              "      <th>imdb_score</th>\n",
              "      <th>movie_facebook_likes</th>\n",
              "      <th>Action</th>\n",
              "      <th>Adventure</th>\n",
              "      <th>Fantasy</th>\n",
              "      <th>Sci-Fi</th>\n",
              "      <th>Thriller</th>\n",
              "      <th>Romance</th>\n",
              "      <th>Animation</th>\n",
              "      <th>Comedy</th>\n",
              "      <th>Family</th>\n",
              "      <th>Musical</th>\n",
              "      <th>Mystery</th>\n",
              "      <th>Western</th>\n",
              "      <th>Drama</th>\n",
              "      <th>History</th>\n",
              "      <th>Sport</th>\n",
              "      <th>Crime</th>\n",
              "      <th>Horror</th>\n",
              "      <th>War</th>\n",
              "      <th>Biography</th>\n",
              "      <th>Music</th>\n",
              "      <th>Documentary</th>\n",
              "      <th>Film-Noir</th>\n",
              "      <th>content_rating_Approved</th>\n",
              "      <th>content_rating_G</th>\n",
              "      <th>content_rating_GP</th>\n",
              "      <th>content_rating_M</th>\n",
              "      <th>content_rating_NC-17</th>\n",
              "      <th>content_rating_Not Rated</th>\n",
              "      <th>content_rating_PG</th>\n",
              "      <th>content_rating_PG-13</th>\n",
              "      <th>content_rating_Passed</th>\n",
              "      <th>content_rating_R</th>\n",
              "      <th>content_rating_Unrated</th>\n",
              "      <th>content_rating_X</th>\n",
              "    </tr>\n",
              "  </thead>\n",
              "  <tbody>\n",
              "    <tr>\n",
              "      <th>0</th>\n",
              "      <td>James Cameron</td>\n",
              "      <td>723.0</td>\n",
              "      <td>178.0</td>\n",
              "      <td>0.0</td>\n",
              "      <td>855.0</td>\n",
              "      <td>Joel David Moore</td>\n",
              "      <td>1000.0</td>\n",
              "      <td>760505847.0</td>\n",
              "      <td>CCH Pounder</td>\n",
              "      <td>886204</td>\n",
              "      <td>4834</td>\n",
              "      <td>Wes Studi</td>\n",
              "      <td>237000000.0</td>\n",
              "      <td>2009.0</td>\n",
              "      <td>936.0</td>\n",
              "      <td>7.9</td>\n",
              "      <td>33000</td>\n",
              "      <td>1</td>\n",
              "      <td>1</td>\n",
              "      <td>1</td>\n",
              "      <td>1</td>\n",
              "      <td>0</td>\n",
              "      <td>0</td>\n",
              "      <td>0</td>\n",
              "      <td>0</td>\n",
              "      <td>0</td>\n",
              "      <td>0</td>\n",
              "      <td>0</td>\n",
              "      <td>0</td>\n",
              "      <td>0</td>\n",
              "      <td>0</td>\n",
              "      <td>0</td>\n",
              "      <td>0</td>\n",
              "      <td>0</td>\n",
              "      <td>0</td>\n",
              "      <td>0</td>\n",
              "      <td>0</td>\n",
              "      <td>0</td>\n",
              "      <td>0</td>\n",
              "      <td>0</td>\n",
              "      <td>0</td>\n",
              "      <td>0</td>\n",
              "      <td>0</td>\n",
              "      <td>0</td>\n",
              "      <td>0</td>\n",
              "      <td>0</td>\n",
              "      <td>1</td>\n",
              "      <td>0</td>\n",
              "      <td>0</td>\n",
              "      <td>0</td>\n",
              "      <td>0</td>\n",
              "    </tr>\n",
              "    <tr>\n",
              "      <th>1</th>\n",
              "      <td>Gore Verbinski</td>\n",
              "      <td>302.0</td>\n",
              "      <td>169.0</td>\n",
              "      <td>563.0</td>\n",
              "      <td>1000.0</td>\n",
              "      <td>Orlando Bloom</td>\n",
              "      <td>40000.0</td>\n",
              "      <td>309404152.0</td>\n",
              "      <td>Johnny Depp</td>\n",
              "      <td>471220</td>\n",
              "      <td>48350</td>\n",
              "      <td>Jack Davenport</td>\n",
              "      <td>300000000.0</td>\n",
              "      <td>2007.0</td>\n",
              "      <td>5000.0</td>\n",
              "      <td>7.1</td>\n",
              "      <td>0</td>\n",
              "      <td>1</td>\n",
              "      <td>1</td>\n",
              "      <td>1</td>\n",
              "      <td>0</td>\n",
              "      <td>0</td>\n",
              "      <td>0</td>\n",
              "      <td>0</td>\n",
              "      <td>0</td>\n",
              "      <td>0</td>\n",
              "      <td>0</td>\n",
              "      <td>0</td>\n",
              "      <td>0</td>\n",
              "      <td>0</td>\n",
              "      <td>0</td>\n",
              "      <td>0</td>\n",
              "      <td>0</td>\n",
              "      <td>0</td>\n",
              "      <td>0</td>\n",
              "      <td>0</td>\n",
              "      <td>0</td>\n",
              "      <td>0</td>\n",
              "      <td>0</td>\n",
              "      <td>0</td>\n",
              "      <td>0</td>\n",
              "      <td>0</td>\n",
              "      <td>0</td>\n",
              "      <td>0</td>\n",
              "      <td>0</td>\n",
              "      <td>0</td>\n",
              "      <td>1</td>\n",
              "      <td>0</td>\n",
              "      <td>0</td>\n",
              "      <td>0</td>\n",
              "      <td>0</td>\n",
              "    </tr>\n",
              "    <tr>\n",
              "      <th>2</th>\n",
              "      <td>Sam Mendes</td>\n",
              "      <td>602.0</td>\n",
              "      <td>148.0</td>\n",
              "      <td>0.0</td>\n",
              "      <td>161.0</td>\n",
              "      <td>Rory Kinnear</td>\n",
              "      <td>11000.0</td>\n",
              "      <td>200074175.0</td>\n",
              "      <td>Christoph Waltz</td>\n",
              "      <td>275868</td>\n",
              "      <td>11700</td>\n",
              "      <td>Stephanie Sigman</td>\n",
              "      <td>245000000.0</td>\n",
              "      <td>2015.0</td>\n",
              "      <td>393.0</td>\n",
              "      <td>6.8</td>\n",
              "      <td>85000</td>\n",
              "      <td>1</td>\n",
              "      <td>1</td>\n",
              "      <td>0</td>\n",
              "      <td>0</td>\n",
              "      <td>1</td>\n",
              "      <td>0</td>\n",
              "      <td>0</td>\n",
              "      <td>0</td>\n",
              "      <td>0</td>\n",
              "      <td>0</td>\n",
              "      <td>0</td>\n",
              "      <td>0</td>\n",
              "      <td>0</td>\n",
              "      <td>0</td>\n",
              "      <td>0</td>\n",
              "      <td>0</td>\n",
              "      <td>0</td>\n",
              "      <td>0</td>\n",
              "      <td>0</td>\n",
              "      <td>0</td>\n",
              "      <td>0</td>\n",
              "      <td>0</td>\n",
              "      <td>0</td>\n",
              "      <td>0</td>\n",
              "      <td>0</td>\n",
              "      <td>0</td>\n",
              "      <td>0</td>\n",
              "      <td>0</td>\n",
              "      <td>0</td>\n",
              "      <td>1</td>\n",
              "      <td>0</td>\n",
              "      <td>0</td>\n",
              "      <td>0</td>\n",
              "      <td>0</td>\n",
              "    </tr>\n",
              "    <tr>\n",
              "      <th>3</th>\n",
              "      <td>Christopher Nolan</td>\n",
              "      <td>813.0</td>\n",
              "      <td>164.0</td>\n",
              "      <td>22000.0</td>\n",
              "      <td>23000.0</td>\n",
              "      <td>Christian Bale</td>\n",
              "      <td>27000.0</td>\n",
              "      <td>448130642.0</td>\n",
              "      <td>Tom Hardy</td>\n",
              "      <td>1144337</td>\n",
              "      <td>106759</td>\n",
              "      <td>Joseph Gordon-Levitt</td>\n",
              "      <td>250000000.0</td>\n",
              "      <td>2012.0</td>\n",
              "      <td>23000.0</td>\n",
              "      <td>8.5</td>\n",
              "      <td>164000</td>\n",
              "      <td>1</td>\n",
              "      <td>0</td>\n",
              "      <td>0</td>\n",
              "      <td>0</td>\n",
              "      <td>1</td>\n",
              "      <td>0</td>\n",
              "      <td>0</td>\n",
              "      <td>0</td>\n",
              "      <td>0</td>\n",
              "      <td>0</td>\n",
              "      <td>0</td>\n",
              "      <td>0</td>\n",
              "      <td>0</td>\n",
              "      <td>0</td>\n",
              "      <td>0</td>\n",
              "      <td>0</td>\n",
              "      <td>0</td>\n",
              "      <td>0</td>\n",
              "      <td>0</td>\n",
              "      <td>0</td>\n",
              "      <td>0</td>\n",
              "      <td>0</td>\n",
              "      <td>0</td>\n",
              "      <td>0</td>\n",
              "      <td>0</td>\n",
              "      <td>0</td>\n",
              "      <td>0</td>\n",
              "      <td>0</td>\n",
              "      <td>0</td>\n",
              "      <td>1</td>\n",
              "      <td>0</td>\n",
              "      <td>0</td>\n",
              "      <td>0</td>\n",
              "      <td>0</td>\n",
              "    </tr>\n",
              "    <tr>\n",
              "      <th>4</th>\n",
              "      <td>Andrew Stanton</td>\n",
              "      <td>462.0</td>\n",
              "      <td>132.0</td>\n",
              "      <td>475.0</td>\n",
              "      <td>530.0</td>\n",
              "      <td>Samantha Morton</td>\n",
              "      <td>640.0</td>\n",
              "      <td>73058679.0</td>\n",
              "      <td>Daryl Sabara</td>\n",
              "      <td>212204</td>\n",
              "      <td>1873</td>\n",
              "      <td>Polly Walker</td>\n",
              "      <td>263700000.0</td>\n",
              "      <td>2012.0</td>\n",
              "      <td>632.0</td>\n",
              "      <td>6.6</td>\n",
              "      <td>24000</td>\n",
              "      <td>1</td>\n",
              "      <td>1</td>\n",
              "      <td>0</td>\n",
              "      <td>1</td>\n",
              "      <td>0</td>\n",
              "      <td>0</td>\n",
              "      <td>0</td>\n",
              "      <td>0</td>\n",
              "      <td>0</td>\n",
              "      <td>0</td>\n",
              "      <td>0</td>\n",
              "      <td>0</td>\n",
              "      <td>0</td>\n",
              "      <td>0</td>\n",
              "      <td>0</td>\n",
              "      <td>0</td>\n",
              "      <td>0</td>\n",
              "      <td>0</td>\n",
              "      <td>0</td>\n",
              "      <td>0</td>\n",
              "      <td>0</td>\n",
              "      <td>0</td>\n",
              "      <td>0</td>\n",
              "      <td>0</td>\n",
              "      <td>0</td>\n",
              "      <td>0</td>\n",
              "      <td>0</td>\n",
              "      <td>0</td>\n",
              "      <td>0</td>\n",
              "      <td>1</td>\n",
              "      <td>0</td>\n",
              "      <td>0</td>\n",
              "      <td>0</td>\n",
              "      <td>0</td>\n",
              "    </tr>\n",
              "    <tr>\n",
              "      <th>...</th>\n",
              "      <td>...</td>\n",
              "      <td>...</td>\n",
              "      <td>...</td>\n",
              "      <td>...</td>\n",
              "      <td>...</td>\n",
              "      <td>...</td>\n",
              "      <td>...</td>\n",
              "      <td>...</td>\n",
              "      <td>...</td>\n",
              "      <td>...</td>\n",
              "      <td>...</td>\n",
              "      <td>...</td>\n",
              "      <td>...</td>\n",
              "      <td>...</td>\n",
              "      <td>...</td>\n",
              "      <td>...</td>\n",
              "      <td>...</td>\n",
              "      <td>...</td>\n",
              "      <td>...</td>\n",
              "      <td>...</td>\n",
              "      <td>...</td>\n",
              "      <td>...</td>\n",
              "      <td>...</td>\n",
              "      <td>...</td>\n",
              "      <td>...</td>\n",
              "      <td>...</td>\n",
              "      <td>...</td>\n",
              "      <td>...</td>\n",
              "      <td>...</td>\n",
              "      <td>...</td>\n",
              "      <td>...</td>\n",
              "      <td>...</td>\n",
              "      <td>...</td>\n",
              "      <td>...</td>\n",
              "      <td>...</td>\n",
              "      <td>...</td>\n",
              "      <td>...</td>\n",
              "      <td>...</td>\n",
              "      <td>...</td>\n",
              "      <td>...</td>\n",
              "      <td>...</td>\n",
              "      <td>...</td>\n",
              "      <td>...</td>\n",
              "      <td>...</td>\n",
              "      <td>...</td>\n",
              "      <td>...</td>\n",
              "      <td>...</td>\n",
              "      <td>...</td>\n",
              "      <td>...</td>\n",
              "      <td>...</td>\n",
              "      <td>...</td>\n",
              "    </tr>\n",
              "    <tr>\n",
              "      <th>3828</th>\n",
              "      <td>Shane Carruth</td>\n",
              "      <td>143.0</td>\n",
              "      <td>77.0</td>\n",
              "      <td>291.0</td>\n",
              "      <td>8.0</td>\n",
              "      <td>David Sullivan</td>\n",
              "      <td>291.0</td>\n",
              "      <td>424760.0</td>\n",
              "      <td>Shane Carruth</td>\n",
              "      <td>72639</td>\n",
              "      <td>368</td>\n",
              "      <td>Casey Gooden</td>\n",
              "      <td>7000.0</td>\n",
              "      <td>2004.0</td>\n",
              "      <td>45.0</td>\n",
              "      <td>7.0</td>\n",
              "      <td>19000</td>\n",
              "      <td>0</td>\n",
              "      <td>0</td>\n",
              "      <td>0</td>\n",
              "      <td>1</td>\n",
              "      <td>1</td>\n",
              "      <td>0</td>\n",
              "      <td>0</td>\n",
              "      <td>0</td>\n",
              "      <td>0</td>\n",
              "      <td>0</td>\n",
              "      <td>0</td>\n",
              "      <td>0</td>\n",
              "      <td>1</td>\n",
              "      <td>0</td>\n",
              "      <td>0</td>\n",
              "      <td>0</td>\n",
              "      <td>0</td>\n",
              "      <td>0</td>\n",
              "      <td>0</td>\n",
              "      <td>0</td>\n",
              "      <td>0</td>\n",
              "      <td>0</td>\n",
              "      <td>0</td>\n",
              "      <td>0</td>\n",
              "      <td>0</td>\n",
              "      <td>0</td>\n",
              "      <td>0</td>\n",
              "      <td>0</td>\n",
              "      <td>0</td>\n",
              "      <td>1</td>\n",
              "      <td>0</td>\n",
              "      <td>0</td>\n",
              "      <td>0</td>\n",
              "      <td>0</td>\n",
              "    </tr>\n",
              "    <tr>\n",
              "      <th>3829</th>\n",
              "      <td>Neill Dela Llana</td>\n",
              "      <td>35.0</td>\n",
              "      <td>80.0</td>\n",
              "      <td>0.0</td>\n",
              "      <td>0.0</td>\n",
              "      <td>Edgar Tancangco</td>\n",
              "      <td>0.0</td>\n",
              "      <td>70071.0</td>\n",
              "      <td>Ian Gamazon</td>\n",
              "      <td>589</td>\n",
              "      <td>0</td>\n",
              "      <td>Quynn Ton</td>\n",
              "      <td>7000.0</td>\n",
              "      <td>2005.0</td>\n",
              "      <td>0.0</td>\n",
              "      <td>6.3</td>\n",
              "      <td>74</td>\n",
              "      <td>0</td>\n",
              "      <td>0</td>\n",
              "      <td>0</td>\n",
              "      <td>0</td>\n",
              "      <td>1</td>\n",
              "      <td>0</td>\n",
              "      <td>0</td>\n",
              "      <td>0</td>\n",
              "      <td>0</td>\n",
              "      <td>0</td>\n",
              "      <td>0</td>\n",
              "      <td>0</td>\n",
              "      <td>0</td>\n",
              "      <td>0</td>\n",
              "      <td>0</td>\n",
              "      <td>0</td>\n",
              "      <td>0</td>\n",
              "      <td>0</td>\n",
              "      <td>0</td>\n",
              "      <td>0</td>\n",
              "      <td>0</td>\n",
              "      <td>0</td>\n",
              "      <td>0</td>\n",
              "      <td>0</td>\n",
              "      <td>0</td>\n",
              "      <td>0</td>\n",
              "      <td>0</td>\n",
              "      <td>1</td>\n",
              "      <td>0</td>\n",
              "      <td>0</td>\n",
              "      <td>0</td>\n",
              "      <td>0</td>\n",
              "      <td>0</td>\n",
              "      <td>0</td>\n",
              "    </tr>\n",
              "    <tr>\n",
              "      <th>3830</th>\n",
              "      <td>Robert Rodriguez</td>\n",
              "      <td>56.0</td>\n",
              "      <td>81.0</td>\n",
              "      <td>0.0</td>\n",
              "      <td>6.0</td>\n",
              "      <td>Peter Marquardt</td>\n",
              "      <td>121.0</td>\n",
              "      <td>2040920.0</td>\n",
              "      <td>Carlos Gallardo</td>\n",
              "      <td>52055</td>\n",
              "      <td>147</td>\n",
              "      <td>Consuelo Gómez</td>\n",
              "      <td>7000.0</td>\n",
              "      <td>1992.0</td>\n",
              "      <td>20.0</td>\n",
              "      <td>6.9</td>\n",
              "      <td>0</td>\n",
              "      <td>1</td>\n",
              "      <td>0</td>\n",
              "      <td>0</td>\n",
              "      <td>0</td>\n",
              "      <td>1</td>\n",
              "      <td>1</td>\n",
              "      <td>0</td>\n",
              "      <td>0</td>\n",
              "      <td>0</td>\n",
              "      <td>0</td>\n",
              "      <td>0</td>\n",
              "      <td>0</td>\n",
              "      <td>1</td>\n",
              "      <td>0</td>\n",
              "      <td>0</td>\n",
              "      <td>1</td>\n",
              "      <td>0</td>\n",
              "      <td>0</td>\n",
              "      <td>0</td>\n",
              "      <td>0</td>\n",
              "      <td>0</td>\n",
              "      <td>0</td>\n",
              "      <td>0</td>\n",
              "      <td>0</td>\n",
              "      <td>0</td>\n",
              "      <td>0</td>\n",
              "      <td>0</td>\n",
              "      <td>0</td>\n",
              "      <td>0</td>\n",
              "      <td>0</td>\n",
              "      <td>0</td>\n",
              "      <td>1</td>\n",
              "      <td>0</td>\n",
              "      <td>0</td>\n",
              "    </tr>\n",
              "    <tr>\n",
              "      <th>3831</th>\n",
              "      <td>Edward Burns</td>\n",
              "      <td>14.0</td>\n",
              "      <td>95.0</td>\n",
              "      <td>0.0</td>\n",
              "      <td>133.0</td>\n",
              "      <td>Caitlin FitzGerald</td>\n",
              "      <td>296.0</td>\n",
              "      <td>4584.0</td>\n",
              "      <td>Kerry Bishé</td>\n",
              "      <td>1338</td>\n",
              "      <td>690</td>\n",
              "      <td>Daniella Pineda</td>\n",
              "      <td>9000.0</td>\n",
              "      <td>2011.0</td>\n",
              "      <td>205.0</td>\n",
              "      <td>6.4</td>\n",
              "      <td>413</td>\n",
              "      <td>0</td>\n",
              "      <td>0</td>\n",
              "      <td>0</td>\n",
              "      <td>0</td>\n",
              "      <td>0</td>\n",
              "      <td>0</td>\n",
              "      <td>0</td>\n",
              "      <td>1</td>\n",
              "      <td>0</td>\n",
              "      <td>0</td>\n",
              "      <td>0</td>\n",
              "      <td>0</td>\n",
              "      <td>1</td>\n",
              "      <td>0</td>\n",
              "      <td>0</td>\n",
              "      <td>0</td>\n",
              "      <td>0</td>\n",
              "      <td>0</td>\n",
              "      <td>0</td>\n",
              "      <td>0</td>\n",
              "      <td>0</td>\n",
              "      <td>0</td>\n",
              "      <td>0</td>\n",
              "      <td>0</td>\n",
              "      <td>0</td>\n",
              "      <td>0</td>\n",
              "      <td>0</td>\n",
              "      <td>1</td>\n",
              "      <td>0</td>\n",
              "      <td>0</td>\n",
              "      <td>0</td>\n",
              "      <td>0</td>\n",
              "      <td>0</td>\n",
              "      <td>0</td>\n",
              "    </tr>\n",
              "    <tr>\n",
              "      <th>3832</th>\n",
              "      <td>Jon Gunn</td>\n",
              "      <td>43.0</td>\n",
              "      <td>90.0</td>\n",
              "      <td>16.0</td>\n",
              "      <td>16.0</td>\n",
              "      <td>Brian Herzlinger</td>\n",
              "      <td>86.0</td>\n",
              "      <td>85222.0</td>\n",
              "      <td>John August</td>\n",
              "      <td>4285</td>\n",
              "      <td>163</td>\n",
              "      <td>Jon Gunn</td>\n",
              "      <td>1100.0</td>\n",
              "      <td>2004.0</td>\n",
              "      <td>23.0</td>\n",
              "      <td>6.6</td>\n",
              "      <td>456</td>\n",
              "      <td>0</td>\n",
              "      <td>0</td>\n",
              "      <td>0</td>\n",
              "      <td>0</td>\n",
              "      <td>0</td>\n",
              "      <td>0</td>\n",
              "      <td>0</td>\n",
              "      <td>0</td>\n",
              "      <td>0</td>\n",
              "      <td>0</td>\n",
              "      <td>0</td>\n",
              "      <td>0</td>\n",
              "      <td>0</td>\n",
              "      <td>0</td>\n",
              "      <td>0</td>\n",
              "      <td>0</td>\n",
              "      <td>0</td>\n",
              "      <td>0</td>\n",
              "      <td>0</td>\n",
              "      <td>0</td>\n",
              "      <td>1</td>\n",
              "      <td>0</td>\n",
              "      <td>0</td>\n",
              "      <td>0</td>\n",
              "      <td>0</td>\n",
              "      <td>0</td>\n",
              "      <td>0</td>\n",
              "      <td>0</td>\n",
              "      <td>1</td>\n",
              "      <td>0</td>\n",
              "      <td>0</td>\n",
              "      <td>0</td>\n",
              "      <td>0</td>\n",
              "      <td>0</td>\n",
              "    </tr>\n",
              "  </tbody>\n",
              "</table>\n",
              "<p>3833 rows × 51 columns</p>\n",
              "</div>"
            ],
            "text/plain": [
              "          director_name  ...  content_rating_X\n",
              "0         James Cameron  ...                 0\n",
              "1        Gore Verbinski  ...                 0\n",
              "2            Sam Mendes  ...                 0\n",
              "3     Christopher Nolan  ...                 0\n",
              "4        Andrew Stanton  ...                 0\n",
              "...                 ...  ...               ...\n",
              "3828      Shane Carruth  ...                 0\n",
              "3829   Neill Dela Llana  ...                 0\n",
              "3830   Robert Rodriguez  ...                 0\n",
              "3831       Edward Burns  ...                 0\n",
              "3832           Jon Gunn  ...                 0\n",
              "\n",
              "[3833 rows x 51 columns]"
            ]
          },
          "metadata": {
            "tags": []
          },
          "execution_count": 649
        }
      ]
    },
    {
      "cell_type": "markdown",
      "metadata": {
        "id": "qms5gLrg1aQ5"
      },
      "source": [
        "#Directors and Actors"
      ]
    },
    {
      "cell_type": "markdown",
      "metadata": {
        "id": "NsdYsDNE1dXY"
      },
      "source": [
        "As I mentioned before, directors and actors have hugh influence on movies' quality. We surely don't want to drop these variables. But we have thounds of labels and one-hot coding won't going to make it. \n",
        "<br>As a result, I will replace their name by average imdb score of their works. And this number would represent their influence on movies' quality. <br>However, it happens when an actor only starred in one movie and it has a pretty high rating, while he is not acutally famous and make contribute to that fancy score. Thus, I will only consider the popular ones, that is, Top 50 for directors and Top 150 for actors. Other people would only get a overall average imdb score."
      ]
    },
    {
      "cell_type": "code",
      "metadata": {
        "id": "WHecpzAt3HlP"
      },
      "source": [
        "director = data_ready.groupby('director_name').size().sort_values(ascending=False).head(50)\n",
        "name_list = director.index.tolist()\n",
        "average = {}\n",
        "for i in name_list:\n",
        "  sum = data_ready['imdb_score'][data_ready['director_name'] == i].sum()  \n",
        "  average[i] = sum/director[i]\n",
        "imdb_average = data_ready['imdb_score'].mean()\n",
        "score_column = [imdb_average]*len(data_ready)\n",
        "data_ready['director_score'] = score_column\n",
        "for i in range(len(data_ready)):\n",
        "  if data_ready['director_name'][i] in name_list:\n",
        "    data_ready['director_score'][i] = average[data_ready['director_name'][i]]"
      ],
      "execution_count": 650,
      "outputs": []
    },
    {
      "cell_type": "code",
      "metadata": {
        "colab": {
          "base_uri": "https://localhost:8080/"
        },
        "id": "eLg7Anyr7PwN",
        "outputId": "edb58ec7-f054-40b5-9361-ee130b82cebc"
      },
      "source": [
        "df1 = data_ready[['actor_1_name','imdb_score']]\n",
        "df2 = data_ready[['actor_2_name','imdb_score']]\n",
        "df3 = data_ready[['actor_3_name','imdb_score']]\n",
        "df1.columns = ['name','imdb_score']\n",
        "df2.columns = ['name','imdb_score']\n",
        "df3.columns = ['name','imdb_score']\n",
        "\n",
        "actor_concat = pd.concat([df1,df2,df3],axis = 0)\n",
        "actor = actor_concat.groupby('name').size().sort_values(ascending=False).head(150)\n",
        "actor"
      ],
      "execution_count": 651,
      "outputs": [
        {
          "output_type": "execute_result",
          "data": {
            "text/plain": [
              "name\n",
              "Robert De Niro          47\n",
              "Morgan Freeman          44\n",
              "Johnny Depp             39\n",
              "Bruce Willis            39\n",
              "Matt Damon              35\n",
              "                        ..\n",
              "David Oyelowo           11\n",
              "Kristin Scott Thomas    11\n",
              "Tom Hardy               11\n",
              "Nathan Lane             11\n",
              "Romany Malco            10\n",
              "Length: 150, dtype: int64"
            ]
          },
          "metadata": {
            "tags": []
          },
          "execution_count": 651
        }
      ]
    },
    {
      "cell_type": "code",
      "metadata": {
        "id": "8QHs171R4-hJ"
      },
      "source": [
        "name_list = actor.index.tolist()\n",
        "average = {}\n",
        "for i in name_list:\n",
        "  sum = actor_concat['imdb_score'][actor_concat['name'] == i].sum()  \n",
        "  average[i] = sum/actor[i]\n",
        "imdb_average = data_ready['imdb_score'].mean()\n",
        "score_column = [imdb_average]*len(data_ready)\n",
        "data_ready['actor_1_score'] = score_column\n",
        "data_ready['actor_2_score'] = score_column\n",
        "data_ready['actor_3_score'] = score_column\n",
        "for i in range(len(data_ready)):\n",
        "  if data_ready['actor_1_name'][i] in name_list:\n",
        "    data_ready['actor_1_score'][i] = average[data_ready['actor_1_name'][i]]\n",
        "for i in range(len(data_ready)):\n",
        "  if data_ready['actor_2_name'][i] in name_list:\n",
        "    data_ready['actor_2_score'][i] = average[data_ready['actor_2_name'][i]]\n",
        "for i in range(len(data_ready)):\n",
        "  if data_ready['actor_3_name'][i] in name_list:\n",
        "    data_ready['actor_3_score'][i] = average[data_ready['actor_3_name'][i]]\n",
        "data_finished = data_ready.drop(columns=['director_name','actor_1_name','actor_2_name','actor_3_name'])"
      ],
      "execution_count": 652,
      "outputs": []
    },
    {
      "cell_type": "code",
      "metadata": {
        "colab": {
          "base_uri": "https://localhost:8080/",
          "height": 456
        },
        "id": "Bremeny1AAEn",
        "outputId": "2655820f-d39b-4a44-cc0b-d8fa3a2b86ca"
      },
      "source": [
        "data_finished"
      ],
      "execution_count": 653,
      "outputs": [
        {
          "output_type": "execute_result",
          "data": {
            "text/html": [
              "<div>\n",
              "<style scoped>\n",
              "    .dataframe tbody tr th:only-of-type {\n",
              "        vertical-align: middle;\n",
              "    }\n",
              "\n",
              "    .dataframe tbody tr th {\n",
              "        vertical-align: top;\n",
              "    }\n",
              "\n",
              "    .dataframe thead th {\n",
              "        text-align: right;\n",
              "    }\n",
              "</style>\n",
              "<table border=\"1\" class=\"dataframe\">\n",
              "  <thead>\n",
              "    <tr style=\"text-align: right;\">\n",
              "      <th></th>\n",
              "      <th>num_critic_for_reviews</th>\n",
              "      <th>duration</th>\n",
              "      <th>director_facebook_likes</th>\n",
              "      <th>actor_3_facebook_likes</th>\n",
              "      <th>actor_1_facebook_likes</th>\n",
              "      <th>gross</th>\n",
              "      <th>num_voted_users</th>\n",
              "      <th>cast_total_facebook_likes</th>\n",
              "      <th>budget</th>\n",
              "      <th>title_year</th>\n",
              "      <th>actor_2_facebook_likes</th>\n",
              "      <th>imdb_score</th>\n",
              "      <th>movie_facebook_likes</th>\n",
              "      <th>Action</th>\n",
              "      <th>Adventure</th>\n",
              "      <th>Fantasy</th>\n",
              "      <th>Sci-Fi</th>\n",
              "      <th>Thriller</th>\n",
              "      <th>Romance</th>\n",
              "      <th>Animation</th>\n",
              "      <th>Comedy</th>\n",
              "      <th>Family</th>\n",
              "      <th>Musical</th>\n",
              "      <th>Mystery</th>\n",
              "      <th>Western</th>\n",
              "      <th>Drama</th>\n",
              "      <th>History</th>\n",
              "      <th>Sport</th>\n",
              "      <th>Crime</th>\n",
              "      <th>Horror</th>\n",
              "      <th>War</th>\n",
              "      <th>Biography</th>\n",
              "      <th>Music</th>\n",
              "      <th>Documentary</th>\n",
              "      <th>Film-Noir</th>\n",
              "      <th>content_rating_Approved</th>\n",
              "      <th>content_rating_G</th>\n",
              "      <th>content_rating_GP</th>\n",
              "      <th>content_rating_M</th>\n",
              "      <th>content_rating_NC-17</th>\n",
              "      <th>content_rating_Not Rated</th>\n",
              "      <th>content_rating_PG</th>\n",
              "      <th>content_rating_PG-13</th>\n",
              "      <th>content_rating_Passed</th>\n",
              "      <th>content_rating_R</th>\n",
              "      <th>content_rating_Unrated</th>\n",
              "      <th>content_rating_X</th>\n",
              "      <th>director_score</th>\n",
              "      <th>actor_1_score</th>\n",
              "      <th>actor_2_score</th>\n",
              "      <th>actor_3_score</th>\n",
              "    </tr>\n",
              "  </thead>\n",
              "  <tbody>\n",
              "    <tr>\n",
              "      <th>0</th>\n",
              "      <td>723.0</td>\n",
              "      <td>178.0</td>\n",
              "      <td>0.0</td>\n",
              "      <td>855.0</td>\n",
              "      <td>1000.0</td>\n",
              "      <td>760505847.0</td>\n",
              "      <td>886204</td>\n",
              "      <td>4834</td>\n",
              "      <td>237000000.0</td>\n",
              "      <td>2009.0</td>\n",
              "      <td>936.0</td>\n",
              "      <td>7.9</td>\n",
              "      <td>33000</td>\n",
              "      <td>1</td>\n",
              "      <td>1</td>\n",
              "      <td>1</td>\n",
              "      <td>1</td>\n",
              "      <td>0</td>\n",
              "      <td>0</td>\n",
              "      <td>0</td>\n",
              "      <td>0</td>\n",
              "      <td>0</td>\n",
              "      <td>0</td>\n",
              "      <td>0</td>\n",
              "      <td>0</td>\n",
              "      <td>0</td>\n",
              "      <td>0</td>\n",
              "      <td>0</td>\n",
              "      <td>0</td>\n",
              "      <td>0</td>\n",
              "      <td>0</td>\n",
              "      <td>0</td>\n",
              "      <td>0</td>\n",
              "      <td>0</td>\n",
              "      <td>0</td>\n",
              "      <td>0</td>\n",
              "      <td>0</td>\n",
              "      <td>0</td>\n",
              "      <td>0</td>\n",
              "      <td>0</td>\n",
              "      <td>0</td>\n",
              "      <td>0</td>\n",
              "      <td>1</td>\n",
              "      <td>0</td>\n",
              "      <td>0</td>\n",
              "      <td>0</td>\n",
              "      <td>0</td>\n",
              "      <td>6.459144</td>\n",
              "      <td>6.459144</td>\n",
              "      <td>6.459144</td>\n",
              "      <td>6.459144</td>\n",
              "    </tr>\n",
              "    <tr>\n",
              "      <th>1</th>\n",
              "      <td>302.0</td>\n",
              "      <td>169.0</td>\n",
              "      <td>563.0</td>\n",
              "      <td>1000.0</td>\n",
              "      <td>40000.0</td>\n",
              "      <td>309404152.0</td>\n",
              "      <td>471220</td>\n",
              "      <td>48350</td>\n",
              "      <td>300000000.0</td>\n",
              "      <td>2007.0</td>\n",
              "      <td>5000.0</td>\n",
              "      <td>7.1</td>\n",
              "      <td>0</td>\n",
              "      <td>1</td>\n",
              "      <td>1</td>\n",
              "      <td>1</td>\n",
              "      <td>0</td>\n",
              "      <td>0</td>\n",
              "      <td>0</td>\n",
              "      <td>0</td>\n",
              "      <td>0</td>\n",
              "      <td>0</td>\n",
              "      <td>0</td>\n",
              "      <td>0</td>\n",
              "      <td>0</td>\n",
              "      <td>0</td>\n",
              "      <td>0</td>\n",
              "      <td>0</td>\n",
              "      <td>0</td>\n",
              "      <td>0</td>\n",
              "      <td>0</td>\n",
              "      <td>0</td>\n",
              "      <td>0</td>\n",
              "      <td>0</td>\n",
              "      <td>0</td>\n",
              "      <td>0</td>\n",
              "      <td>0</td>\n",
              "      <td>0</td>\n",
              "      <td>0</td>\n",
              "      <td>0</td>\n",
              "      <td>0</td>\n",
              "      <td>0</td>\n",
              "      <td>1</td>\n",
              "      <td>0</td>\n",
              "      <td>0</td>\n",
              "      <td>0</td>\n",
              "      <td>0</td>\n",
              "      <td>6.459144</td>\n",
              "      <td>6.794872</td>\n",
              "      <td>6.459144</td>\n",
              "      <td>6.459144</td>\n",
              "    </tr>\n",
              "    <tr>\n",
              "      <th>2</th>\n",
              "      <td>602.0</td>\n",
              "      <td>148.0</td>\n",
              "      <td>0.0</td>\n",
              "      <td>161.0</td>\n",
              "      <td>11000.0</td>\n",
              "      <td>200074175.0</td>\n",
              "      <td>275868</td>\n",
              "      <td>11700</td>\n",
              "      <td>245000000.0</td>\n",
              "      <td>2015.0</td>\n",
              "      <td>393.0</td>\n",
              "      <td>6.8</td>\n",
              "      <td>85000</td>\n",
              "      <td>1</td>\n",
              "      <td>1</td>\n",
              "      <td>0</td>\n",
              "      <td>0</td>\n",
              "      <td>1</td>\n",
              "      <td>0</td>\n",
              "      <td>0</td>\n",
              "      <td>0</td>\n",
              "      <td>0</td>\n",
              "      <td>0</td>\n",
              "      <td>0</td>\n",
              "      <td>0</td>\n",
              "      <td>0</td>\n",
              "      <td>0</td>\n",
              "      <td>0</td>\n",
              "      <td>0</td>\n",
              "      <td>0</td>\n",
              "      <td>0</td>\n",
              "      <td>0</td>\n",
              "      <td>0</td>\n",
              "      <td>0</td>\n",
              "      <td>0</td>\n",
              "      <td>0</td>\n",
              "      <td>0</td>\n",
              "      <td>0</td>\n",
              "      <td>0</td>\n",
              "      <td>0</td>\n",
              "      <td>0</td>\n",
              "      <td>0</td>\n",
              "      <td>1</td>\n",
              "      <td>0</td>\n",
              "      <td>0</td>\n",
              "      <td>0</td>\n",
              "      <td>0</td>\n",
              "      <td>6.459144</td>\n",
              "      <td>6.459144</td>\n",
              "      <td>6.459144</td>\n",
              "      <td>6.459144</td>\n",
              "    </tr>\n",
              "    <tr>\n",
              "      <th>3</th>\n",
              "      <td>813.0</td>\n",
              "      <td>164.0</td>\n",
              "      <td>22000.0</td>\n",
              "      <td>23000.0</td>\n",
              "      <td>27000.0</td>\n",
              "      <td>448130642.0</td>\n",
              "      <td>1144337</td>\n",
              "      <td>106759</td>\n",
              "      <td>250000000.0</td>\n",
              "      <td>2012.0</td>\n",
              "      <td>23000.0</td>\n",
              "      <td>8.5</td>\n",
              "      <td>164000</td>\n",
              "      <td>1</td>\n",
              "      <td>0</td>\n",
              "      <td>0</td>\n",
              "      <td>0</td>\n",
              "      <td>1</td>\n",
              "      <td>0</td>\n",
              "      <td>0</td>\n",
              "      <td>0</td>\n",
              "      <td>0</td>\n",
              "      <td>0</td>\n",
              "      <td>0</td>\n",
              "      <td>0</td>\n",
              "      <td>0</td>\n",
              "      <td>0</td>\n",
              "      <td>0</td>\n",
              "      <td>0</td>\n",
              "      <td>0</td>\n",
              "      <td>0</td>\n",
              "      <td>0</td>\n",
              "      <td>0</td>\n",
              "      <td>0</td>\n",
              "      <td>0</td>\n",
              "      <td>0</td>\n",
              "      <td>0</td>\n",
              "      <td>0</td>\n",
              "      <td>0</td>\n",
              "      <td>0</td>\n",
              "      <td>0</td>\n",
              "      <td>0</td>\n",
              "      <td>1</td>\n",
              "      <td>0</td>\n",
              "      <td>0</td>\n",
              "      <td>0</td>\n",
              "      <td>0</td>\n",
              "      <td>6.459144</td>\n",
              "      <td>7.500000</td>\n",
              "      <td>7.266667</td>\n",
              "      <td>7.055556</td>\n",
              "    </tr>\n",
              "    <tr>\n",
              "      <th>4</th>\n",
              "      <td>462.0</td>\n",
              "      <td>132.0</td>\n",
              "      <td>475.0</td>\n",
              "      <td>530.0</td>\n",
              "      <td>640.0</td>\n",
              "      <td>73058679.0</td>\n",
              "      <td>212204</td>\n",
              "      <td>1873</td>\n",
              "      <td>263700000.0</td>\n",
              "      <td>2012.0</td>\n",
              "      <td>632.0</td>\n",
              "      <td>6.6</td>\n",
              "      <td>24000</td>\n",
              "      <td>1</td>\n",
              "      <td>1</td>\n",
              "      <td>0</td>\n",
              "      <td>1</td>\n",
              "      <td>0</td>\n",
              "      <td>0</td>\n",
              "      <td>0</td>\n",
              "      <td>0</td>\n",
              "      <td>0</td>\n",
              "      <td>0</td>\n",
              "      <td>0</td>\n",
              "      <td>0</td>\n",
              "      <td>0</td>\n",
              "      <td>0</td>\n",
              "      <td>0</td>\n",
              "      <td>0</td>\n",
              "      <td>0</td>\n",
              "      <td>0</td>\n",
              "      <td>0</td>\n",
              "      <td>0</td>\n",
              "      <td>0</td>\n",
              "      <td>0</td>\n",
              "      <td>0</td>\n",
              "      <td>0</td>\n",
              "      <td>0</td>\n",
              "      <td>0</td>\n",
              "      <td>0</td>\n",
              "      <td>0</td>\n",
              "      <td>0</td>\n",
              "      <td>1</td>\n",
              "      <td>0</td>\n",
              "      <td>0</td>\n",
              "      <td>0</td>\n",
              "      <td>0</td>\n",
              "      <td>6.459144</td>\n",
              "      <td>6.459144</td>\n",
              "      <td>6.459144</td>\n",
              "      <td>6.459144</td>\n",
              "    </tr>\n",
              "    <tr>\n",
              "      <th>...</th>\n",
              "      <td>...</td>\n",
              "      <td>...</td>\n",
              "      <td>...</td>\n",
              "      <td>...</td>\n",
              "      <td>...</td>\n",
              "      <td>...</td>\n",
              "      <td>...</td>\n",
              "      <td>...</td>\n",
              "      <td>...</td>\n",
              "      <td>...</td>\n",
              "      <td>...</td>\n",
              "      <td>...</td>\n",
              "      <td>...</td>\n",
              "      <td>...</td>\n",
              "      <td>...</td>\n",
              "      <td>...</td>\n",
              "      <td>...</td>\n",
              "      <td>...</td>\n",
              "      <td>...</td>\n",
              "      <td>...</td>\n",
              "      <td>...</td>\n",
              "      <td>...</td>\n",
              "      <td>...</td>\n",
              "      <td>...</td>\n",
              "      <td>...</td>\n",
              "      <td>...</td>\n",
              "      <td>...</td>\n",
              "      <td>...</td>\n",
              "      <td>...</td>\n",
              "      <td>...</td>\n",
              "      <td>...</td>\n",
              "      <td>...</td>\n",
              "      <td>...</td>\n",
              "      <td>...</td>\n",
              "      <td>...</td>\n",
              "      <td>...</td>\n",
              "      <td>...</td>\n",
              "      <td>...</td>\n",
              "      <td>...</td>\n",
              "      <td>...</td>\n",
              "      <td>...</td>\n",
              "      <td>...</td>\n",
              "      <td>...</td>\n",
              "      <td>...</td>\n",
              "      <td>...</td>\n",
              "      <td>...</td>\n",
              "      <td>...</td>\n",
              "      <td>...</td>\n",
              "      <td>...</td>\n",
              "      <td>...</td>\n",
              "      <td>...</td>\n",
              "    </tr>\n",
              "    <tr>\n",
              "      <th>3828</th>\n",
              "      <td>143.0</td>\n",
              "      <td>77.0</td>\n",
              "      <td>291.0</td>\n",
              "      <td>8.0</td>\n",
              "      <td>291.0</td>\n",
              "      <td>424760.0</td>\n",
              "      <td>72639</td>\n",
              "      <td>368</td>\n",
              "      <td>7000.0</td>\n",
              "      <td>2004.0</td>\n",
              "      <td>45.0</td>\n",
              "      <td>7.0</td>\n",
              "      <td>19000</td>\n",
              "      <td>0</td>\n",
              "      <td>0</td>\n",
              "      <td>0</td>\n",
              "      <td>1</td>\n",
              "      <td>1</td>\n",
              "      <td>0</td>\n",
              "      <td>0</td>\n",
              "      <td>0</td>\n",
              "      <td>0</td>\n",
              "      <td>0</td>\n",
              "      <td>0</td>\n",
              "      <td>0</td>\n",
              "      <td>1</td>\n",
              "      <td>0</td>\n",
              "      <td>0</td>\n",
              "      <td>0</td>\n",
              "      <td>0</td>\n",
              "      <td>0</td>\n",
              "      <td>0</td>\n",
              "      <td>0</td>\n",
              "      <td>0</td>\n",
              "      <td>0</td>\n",
              "      <td>0</td>\n",
              "      <td>0</td>\n",
              "      <td>0</td>\n",
              "      <td>0</td>\n",
              "      <td>0</td>\n",
              "      <td>0</td>\n",
              "      <td>0</td>\n",
              "      <td>1</td>\n",
              "      <td>0</td>\n",
              "      <td>0</td>\n",
              "      <td>0</td>\n",
              "      <td>0</td>\n",
              "      <td>6.459144</td>\n",
              "      <td>6.459144</td>\n",
              "      <td>6.459144</td>\n",
              "      <td>6.459144</td>\n",
              "    </tr>\n",
              "    <tr>\n",
              "      <th>3829</th>\n",
              "      <td>35.0</td>\n",
              "      <td>80.0</td>\n",
              "      <td>0.0</td>\n",
              "      <td>0.0</td>\n",
              "      <td>0.0</td>\n",
              "      <td>70071.0</td>\n",
              "      <td>589</td>\n",
              "      <td>0</td>\n",
              "      <td>7000.0</td>\n",
              "      <td>2005.0</td>\n",
              "      <td>0.0</td>\n",
              "      <td>6.3</td>\n",
              "      <td>74</td>\n",
              "      <td>0</td>\n",
              "      <td>0</td>\n",
              "      <td>0</td>\n",
              "      <td>0</td>\n",
              "      <td>1</td>\n",
              "      <td>0</td>\n",
              "      <td>0</td>\n",
              "      <td>0</td>\n",
              "      <td>0</td>\n",
              "      <td>0</td>\n",
              "      <td>0</td>\n",
              "      <td>0</td>\n",
              "      <td>0</td>\n",
              "      <td>0</td>\n",
              "      <td>0</td>\n",
              "      <td>0</td>\n",
              "      <td>0</td>\n",
              "      <td>0</td>\n",
              "      <td>0</td>\n",
              "      <td>0</td>\n",
              "      <td>0</td>\n",
              "      <td>0</td>\n",
              "      <td>0</td>\n",
              "      <td>0</td>\n",
              "      <td>0</td>\n",
              "      <td>0</td>\n",
              "      <td>0</td>\n",
              "      <td>1</td>\n",
              "      <td>0</td>\n",
              "      <td>0</td>\n",
              "      <td>0</td>\n",
              "      <td>0</td>\n",
              "      <td>0</td>\n",
              "      <td>0</td>\n",
              "      <td>6.459144</td>\n",
              "      <td>6.459144</td>\n",
              "      <td>6.459144</td>\n",
              "      <td>6.459144</td>\n",
              "    </tr>\n",
              "    <tr>\n",
              "      <th>3830</th>\n",
              "      <td>56.0</td>\n",
              "      <td>81.0</td>\n",
              "      <td>0.0</td>\n",
              "      <td>6.0</td>\n",
              "      <td>121.0</td>\n",
              "      <td>2040920.0</td>\n",
              "      <td>52055</td>\n",
              "      <td>147</td>\n",
              "      <td>7000.0</td>\n",
              "      <td>1992.0</td>\n",
              "      <td>20.0</td>\n",
              "      <td>6.9</td>\n",
              "      <td>0</td>\n",
              "      <td>1</td>\n",
              "      <td>0</td>\n",
              "      <td>0</td>\n",
              "      <td>0</td>\n",
              "      <td>1</td>\n",
              "      <td>1</td>\n",
              "      <td>0</td>\n",
              "      <td>0</td>\n",
              "      <td>0</td>\n",
              "      <td>0</td>\n",
              "      <td>0</td>\n",
              "      <td>0</td>\n",
              "      <td>1</td>\n",
              "      <td>0</td>\n",
              "      <td>0</td>\n",
              "      <td>1</td>\n",
              "      <td>0</td>\n",
              "      <td>0</td>\n",
              "      <td>0</td>\n",
              "      <td>0</td>\n",
              "      <td>0</td>\n",
              "      <td>0</td>\n",
              "      <td>0</td>\n",
              "      <td>0</td>\n",
              "      <td>0</td>\n",
              "      <td>0</td>\n",
              "      <td>0</td>\n",
              "      <td>0</td>\n",
              "      <td>0</td>\n",
              "      <td>0</td>\n",
              "      <td>0</td>\n",
              "      <td>1</td>\n",
              "      <td>0</td>\n",
              "      <td>0</td>\n",
              "      <td>5.692308</td>\n",
              "      <td>6.459144</td>\n",
              "      <td>6.459144</td>\n",
              "      <td>6.459144</td>\n",
              "    </tr>\n",
              "    <tr>\n",
              "      <th>3831</th>\n",
              "      <td>14.0</td>\n",
              "      <td>95.0</td>\n",
              "      <td>0.0</td>\n",
              "      <td>133.0</td>\n",
              "      <td>296.0</td>\n",
              "      <td>4584.0</td>\n",
              "      <td>1338</td>\n",
              "      <td>690</td>\n",
              "      <td>9000.0</td>\n",
              "      <td>2011.0</td>\n",
              "      <td>205.0</td>\n",
              "      <td>6.4</td>\n",
              "      <td>413</td>\n",
              "      <td>0</td>\n",
              "      <td>0</td>\n",
              "      <td>0</td>\n",
              "      <td>0</td>\n",
              "      <td>0</td>\n",
              "      <td>0</td>\n",
              "      <td>0</td>\n",
              "      <td>1</td>\n",
              "      <td>0</td>\n",
              "      <td>0</td>\n",
              "      <td>0</td>\n",
              "      <td>0</td>\n",
              "      <td>1</td>\n",
              "      <td>0</td>\n",
              "      <td>0</td>\n",
              "      <td>0</td>\n",
              "      <td>0</td>\n",
              "      <td>0</td>\n",
              "      <td>0</td>\n",
              "      <td>0</td>\n",
              "      <td>0</td>\n",
              "      <td>0</td>\n",
              "      <td>0</td>\n",
              "      <td>0</td>\n",
              "      <td>0</td>\n",
              "      <td>0</td>\n",
              "      <td>0</td>\n",
              "      <td>1</td>\n",
              "      <td>0</td>\n",
              "      <td>0</td>\n",
              "      <td>0</td>\n",
              "      <td>0</td>\n",
              "      <td>0</td>\n",
              "      <td>0</td>\n",
              "      <td>6.459144</td>\n",
              "      <td>6.459144</td>\n",
              "      <td>6.459144</td>\n",
              "      <td>6.459144</td>\n",
              "    </tr>\n",
              "    <tr>\n",
              "      <th>3832</th>\n",
              "      <td>43.0</td>\n",
              "      <td>90.0</td>\n",
              "      <td>16.0</td>\n",
              "      <td>16.0</td>\n",
              "      <td>86.0</td>\n",
              "      <td>85222.0</td>\n",
              "      <td>4285</td>\n",
              "      <td>163</td>\n",
              "      <td>1100.0</td>\n",
              "      <td>2004.0</td>\n",
              "      <td>23.0</td>\n",
              "      <td>6.6</td>\n",
              "      <td>456</td>\n",
              "      <td>0</td>\n",
              "      <td>0</td>\n",
              "      <td>0</td>\n",
              "      <td>0</td>\n",
              "      <td>0</td>\n",
              "      <td>0</td>\n",
              "      <td>0</td>\n",
              "      <td>0</td>\n",
              "      <td>0</td>\n",
              "      <td>0</td>\n",
              "      <td>0</td>\n",
              "      <td>0</td>\n",
              "      <td>0</td>\n",
              "      <td>0</td>\n",
              "      <td>0</td>\n",
              "      <td>0</td>\n",
              "      <td>0</td>\n",
              "      <td>0</td>\n",
              "      <td>0</td>\n",
              "      <td>0</td>\n",
              "      <td>1</td>\n",
              "      <td>0</td>\n",
              "      <td>0</td>\n",
              "      <td>0</td>\n",
              "      <td>0</td>\n",
              "      <td>0</td>\n",
              "      <td>0</td>\n",
              "      <td>0</td>\n",
              "      <td>1</td>\n",
              "      <td>0</td>\n",
              "      <td>0</td>\n",
              "      <td>0</td>\n",
              "      <td>0</td>\n",
              "      <td>0</td>\n",
              "      <td>6.459144</td>\n",
              "      <td>6.459144</td>\n",
              "      <td>6.459144</td>\n",
              "      <td>6.459144</td>\n",
              "    </tr>\n",
              "  </tbody>\n",
              "</table>\n",
              "<p>3833 rows × 51 columns</p>\n",
              "</div>"
            ],
            "text/plain": [
              "      num_critic_for_reviews  duration  ...  actor_2_score  actor_3_score\n",
              "0                      723.0     178.0  ...       6.459144       6.459144\n",
              "1                      302.0     169.0  ...       6.459144       6.459144\n",
              "2                      602.0     148.0  ...       6.459144       6.459144\n",
              "3                      813.0     164.0  ...       7.266667       7.055556\n",
              "4                      462.0     132.0  ...       6.459144       6.459144\n",
              "...                      ...       ...  ...            ...            ...\n",
              "3828                   143.0      77.0  ...       6.459144       6.459144\n",
              "3829                    35.0      80.0  ...       6.459144       6.459144\n",
              "3830                    56.0      81.0  ...       6.459144       6.459144\n",
              "3831                    14.0      95.0  ...       6.459144       6.459144\n",
              "3832                    43.0      90.0  ...       6.459144       6.459144\n",
              "\n",
              "[3833 rows x 51 columns]"
            ]
          },
          "metadata": {
            "tags": []
          },
          "execution_count": 653
        }
      ]
    },
    {
      "cell_type": "markdown",
      "metadata": {
        "id": "RzxsYbNdkm80"
      },
      "source": [
        "# Dataset Split"
      ]
    },
    {
      "cell_type": "code",
      "metadata": {
        "colab": {
          "base_uri": "https://localhost:8080/"
        },
        "id": "5B3yg890Ws5p",
        "outputId": "6da3cae3-c755-478b-dbca-d0d4d9cf3dae"
      },
      "source": [
        "df = data_finished.sample(n = len(data_finished), random_state = 1)\n",
        "df_data = df.reset_index(drop = True)\n",
        "df_test=df_data.sample(frac=0.30,random_state=42)\n",
        "print('Split size: %.3f'%(len(df_valid_test)/len(df_data)))"
      ],
      "execution_count": 654,
      "outputs": [
        {
          "output_type": "stream",
          "text": [
            "Split size: 0.300\n"
          ],
          "name": "stdout"
        }
      ]
    },
    {
      "cell_type": "code",
      "metadata": {
        "id": "8D-pHX1PXDIY"
      },
      "source": [
        "df_train = df_data.drop(df_test.index)"
      ],
      "execution_count": 664,
      "outputs": []
    },
    {
      "cell_type": "code",
      "metadata": {
        "colab": {
          "base_uri": "https://localhost:8080/"
        },
        "id": "dHyTWUZPXcYw",
        "outputId": "a49fdb9f-3c60-4fdb-fdeb-606bb7c93094"
      },
      "source": [
        "col_to_use = [c for c in list(df_train.columns) if c != 'imdb_score']\n",
        "print('Number of attributes:', len(col_to_use))"
      ],
      "execution_count": 666,
      "outputs": [
        {
          "output_type": "stream",
          "text": [
            "Number of attributes: 50\n"
          ],
          "name": "stdout"
        }
      ]
    },
    {
      "cell_type": "code",
      "metadata": {
        "colab": {
          "base_uri": "https://localhost:8080/"
        },
        "id": "ILYQC1qfX2Yy",
        "outputId": "f2d13f70-a27e-4b56-cef1-58bd0a5160ec"
      },
      "source": [
        "X_train = df_train[col_to_use].values\n",
        "X_test = df_test[col_to_use].values\n",
        "y_train = df_train['imdb_score'].values\n",
        "y_test = df_test['imdb_score'].values\n",
        "print('Training shapes:',X_train.shape, y_train.shape)\n",
        "print('Testing shapes:',X_test.shape, y_test.shape)"
      ],
      "execution_count": 669,
      "outputs": [
        {
          "output_type": "stream",
          "text": [
            "Training shapes: (2683, 50) (2683,)\n",
            "Testing shapes: (1150, 50) (1150,)\n"
          ],
          "name": "stdout"
        }
      ]
    },
    {
      "cell_type": "markdown",
      "metadata": {
        "id": "sRqxAZ6-I_kv"
      },
      "source": [
        "#Simple Multiple Linear Regression\n",
        "\n"
      ]
    },
    {
      "cell_type": "markdown",
      "metadata": {
        "id": "LI6GcLgmpf9X"
      },
      "source": [
        "In this section, I build a very simple linear regression model as baseline."
      ]
    },
    {
      "cell_type": "code",
      "metadata": {
        "colab": {
          "base_uri": "https://localhost:8080/"
        },
        "id": "opovvNJAcfTo",
        "outputId": "7d64a0c6-1f36-401a-d9a9-22ec3878417e"
      },
      "source": [
        "y_train_a = y_train[:, np.newaxis]\n",
        "model = LinearRegression() # 构建线性模型\n",
        "model.fit(X_train, y_train_a) # 自变量在前，因变量在后\n",
        "predicts = model.predict(X_train) # 预测值\n",
        "R2 = model.score(X_train, y_train_a) # 拟合程度 R2\n",
        "print('R2 = %.3f' % R2) # 输出 R2\n",
        "coef = model.coef_ # 斜率\n",
        "intercept = model.intercept_ # 截距"
      ],
      "execution_count": 671,
      "outputs": [
        {
          "output_type": "stream",
          "text": [
            "R2 = 0.510\n"
          ],
          "name": "stdout"
        }
      ]
    },
    {
      "cell_type": "markdown",
      "metadata": {
        "id": "0IkbvdMcdA5t"
      },
      "source": [
        "Print out the coefficients"
      ]
    },
    {
      "cell_type": "code",
      "metadata": {
        "colab": {
          "base_uri": "https://localhost:8080/"
        },
        "id": "-bFz3kgLdAKN",
        "outputId": "f6bc8887-db08-4a3f-b090-aa12e39345c3"
      },
      "source": [
        "print(model.coef_, model.intercept_) "
      ],
      "execution_count": 672,
      "outputs": [
        {
          "output_type": "stream",
          "text": [
            "[[ 2.70883066e-03  3.55507208e-03 -5.59449149e-06  2.06409374e-05\n",
            "   3.38771744e-05 -7.55508897e-10  2.40908781e-06 -3.25872946e-05\n",
            "   2.80442009e-11 -2.74853818e-02  2.70217136e-05 -5.56086774e-07\n",
            "  -2.15239587e-01 -3.61999366e-02 -1.04619311e-01 -1.26337145e-01\n",
            "  -1.47651091e-01 -4.67495234e-02  8.27405488e-01 -1.25923585e-01\n",
            "  -1.28848276e-01  4.21869143e-02  2.11041090e-02 -1.15995904e-01\n",
            "   4.46069174e-01  8.36354779e-02  1.29653834e-01  6.68189254e-02\n",
            "  -4.09519883e-01  1.00665257e-01  1.51313349e-01  1.20464296e-02\n",
            "   9.68588259e-01 -7.48238020e-01  9.31309005e-04 -1.47046577e-01\n",
            "  -5.97934228e-02  3.50160474e-02 -1.88684141e-01  5.03294612e-01\n",
            "  -3.46058594e-02 -1.44973975e-01 -7.33025727e-01  4.76272706e-02\n",
            "   3.25879720e-01  3.95380744e-01  1.43622546e-01  1.79400114e-01\n",
            "   2.87293649e-01  1.06431000e-01]] [55.82515277]\n"
          ],
          "name": "stdout"
        }
      ]
    },
    {
      "cell_type": "code",
      "metadata": {
        "id": "QdBLaLpEdVYJ"
      },
      "source": [
        "LR_result = model.predict(X_test)"
      ],
      "execution_count": 673,
      "outputs": []
    },
    {
      "cell_type": "markdown",
      "metadata": {
        "id": "pvVg9Z6gGNGr"
      },
      "source": [
        "#Ridge and LASSO Regression"
      ]
    },
    {
      "cell_type": "markdown",
      "metadata": {
        "id": "cSbaRIE-o5jJ"
      },
      "source": [
        "In order to prevent over-fitting of the model, we often need to add regularization items when building a linear model, generally there are L1 regularization and L2 regularization. Ridge regression(L2) and Lasso(L1) can prevet overfitting. \n",
        "<br>Ridge regression reduces the regression coefficients without abandoning any feature, making the model relatively stable, but compared with Lasso regression, this will leave a lot of model features and poor model interpretation.\n",
        "<br>The regularization term of ridge regression has a constant coefficient alpha to adjust the weight of the mean square error term and the regularization term of the loss function. Larger alpha means more penalty. I set two initial alpha to find their difference."
      ]
    },
    {
      "cell_type": "code",
      "metadata": {
        "colab": {
          "base_uri": "https://localhost:8080/"
        },
        "id": "_Lq6-Yz_FU37",
        "outputId": "26964d5c-ea22-46ac-d786-9b1c647a47a8"
      },
      "source": [
        "lr = LinearRegression()\n",
        "lr.fit(X_train, y_train)\n",
        "\n",
        "rr = Ridge(alpha=0.01) \n",
        "rr.fit(X_train, y_train)\n",
        "\n",
        "rr100 = Ridge(alpha=100) \n",
        "rr100.fit(X_train, y_train)\n",
        "\n",
        "train_score=lr.score(X_train, y_train)\n",
        "test_score=lr.score(X_valid, y_valid)\n",
        "\n",
        "Ridge_train_score = rr.score(X_train,y_train)\n",
        "Ridge_test_score = rr.score(X_valid, y_valid)\n",
        "\n",
        "Ridge_train_score100 = rr100.score(X_train,y_train)\n",
        "Ridge_test_score100 = rr100.score(X_valid, y_valid)\n",
        "\n",
        "print (\"linear regression train score:\", train_score)\n",
        "print (\"linear regression test score:\", test_score)\n",
        "print (\"ridge regression train score low alpha:\", Ridge_train_score)\n",
        "print (\"ridge regression test score low alpha:\", Ridge_test_score)\n",
        "print (\"ridge regression train score high alpha:\", Ridge_train_score100)\n",
        "print (\"ridge regression test score high alpha:\", Ridge_test_score100)"
      ],
      "execution_count": 674,
      "outputs": [
        {
          "output_type": "stream",
          "text": [
            "linear regression train score: 0.5098707388489385\n",
            "linear regression test score: 0.4793769609946402\n",
            "ridge regression train score low alpha: 0.5098707081208159\n",
            "ridge regression test score low alpha: 0.479384777543556\n",
            "ridge regression train score high alpha: 0.49196034919115267\n",
            "ridge regression test score high alpha: 0.4653872606092868\n"
          ],
          "name": "stdout"
        }
      ]
    },
    {
      "cell_type": "code",
      "metadata": {
        "colab": {
          "base_uri": "https://localhost:8080/",
          "height": 714
        },
        "id": "uDL9-xyQFU63",
        "outputId": "dffcf2cc-7e62-44fe-932c-a6932b8249bf"
      },
      "source": [
        "figure(figsize=(16, 10), dpi=80)\n",
        "plt.plot(rr.coef_,alpha=0.7,linestyle='none',marker='+',markersize=5,color='red',label=r'Ridge; $\\alpha = 0.01$',zorder=7)\n",
        "plt.plot(rr100.coef_,alpha=0.5,linestyle='none',marker='d',markersize=6,color='blue',label=r'Ridge; $\\alpha = 100$') \n",
        "plt.plot(lr.coef_,alpha=0.4,linestyle='none',marker='o',markersize=7,color='green',label='Linear Regression')\n",
        "\n",
        "plt.xlabel('Coefficient Index',fontsize=16)\n",
        "plt.ylabel('Coefficient Magnitude',fontsize=16)\n",
        "plt.legend(fontsize=13,loc=4)\n",
        "plt.show()"
      ],
      "execution_count": 675,
      "outputs": [
        {
          "output_type": "stream",
          "text": [
            "findfont: Font family ['sans-serif'] not found. Falling back to DejaVu Sans.\n",
            "findfont: Font family ['sans-serif'] not found. Falling back to DejaVu Sans.\n"
          ],
          "name": "stderr"
        },
        {
          "output_type": "display_data",
          "data": {
            "image/png": "[encoded data removed]",
            "text/plain": [
              "<Figure size 1280x800 with 1 Axes>"
            ]
          },
          "metadata": {
            "tags": [],
            "needs_background": "light"
          }
        }
      ]
    },
    {
      "cell_type": "markdown",
      "metadata": {
        "id": "FlYHxABTqLl_"
      },
      "source": [
        "As we can see, when alpha = 0.01, the coefficient is pretty close to linear regression. Lots of coefficient remain the same. We are still going to have much overfitting. \n",
        "<br>To save some time, I evade creating a loop to find the best alpha, but rather using sklearn to calculate it at once."
      ]
    },
    {
      "cell_type": "code",
      "metadata": {
        "colab": {
          "base_uri": "https://localhost:8080/"
        },
        "id": "pAr1b_ugFVC_",
        "outputId": "692973b2-b40d-40bc-d6e0-de5996a209be"
      },
      "source": [
        "from sklearn.linear_model import RidgeCV\n",
        "ridgecv = RidgeCV(alphas=[0.01, 0.1, 0.5, 1, 5, 7, 10, 30,100, 200])\n",
        "ridgecv.fit(X_train, y_train)\n",
        "print(\"Best alpha should be:\" + str(ridgecv.alpha_)) "
      ],
      "execution_count": 676,
      "outputs": [
        {
          "output_type": "stream",
          "text": [
            "Best alpha should be:5.0\n"
          ],
          "name": "stdout"
        }
      ]
    },
    {
      "cell_type": "markdown",
      "metadata": {
        "id": "uxmTqCLiq_Aa"
      },
      "source": [
        "Ok, alpha = 5. Fit the model again and we will make comparision later."
      ]
    },
    {
      "cell_type": "code",
      "metadata": {
        "id": "aWT1_TZbmt1u"
      },
      "source": [
        "rr5 = Ridge(alpha=5) \n",
        "rr5.fit(X_train, y_train)\n",
        "rr_result = rr5.predict(X_test)"
      ],
      "execution_count": 677,
      "outputs": []
    },
    {
      "cell_type": "markdown",
      "metadata": {
        "id": "yx346ATyrSDc"
      },
      "source": [
        "Without abandoning any feature, ridge regression reduces the regression coefficients, making the model relatively stable. But compared with Lasso regression, this will leave a lot of model features and poor model interpretation. "
      ]
    },
    {
      "cell_type": "code",
      "metadata": {
        "colab": {
          "base_uri": "https://localhost:8080/",
          "height": 990
        },
        "id": "PDNspe9fHL1D",
        "outputId": "47adc4a0-8ef4-4c33-c6d8-7bd3994bc207"
      },
      "source": [
        "lasso = Lasso() # 默认alpha =1 \n",
        "lasso.fit(X_train,y_train)\n",
        "\n",
        "train_score=lasso.score(X_train,y_train)\n",
        "test_score=lasso.score(X_valid,y_valid)\n",
        "\n",
        "coeff_used = np.sum(lasso.coef_!=0)\n",
        "print(\"training score:\", train_score )\n",
        "print (\"test score: \", test_score)\n",
        "print (\"number of features used: \", coeff_used)\n",
        "\n",
        "lasso001 = Lasso(alpha=0.01, max_iter=10e5)\n",
        "lasso001.fit(X_train,y_train)\n",
        "\n",
        "train_score001=lasso001.score(X_train,y_train)\n",
        "test_score001=lasso001.score(X_valid,y_valid)\n",
        "\n",
        "coeff_used001 = np.sum(lasso001.coef_!=0)\n",
        "print (\"training score for alpha=0.01:\", train_score001 )\n",
        "print (\"test score for alpha =0.01: \", test_score001)\n",
        "print (\"number of features used: for alpha =0.01:\", coeff_used001)\n",
        "\n",
        "lasso00001 = Lasso(alpha=0.0001, max_iter=10e5)\n",
        "lasso00001.fit(X_train,y_train)\n",
        "\n",
        "train_score00001=lasso00001.score(X_train,y_train)\n",
        "test_score00001=lasso00001.score(X_valid,y_valid)\n",
        "\n",
        "coeff_used00001 = np.sum(lasso00001.coef_!=0)\n",
        "print (\"training score for alpha=0.0001:\", train_score00001 )\n",
        "print( \"test score for alpha =0.0001: \", test_score00001)\n",
        "print (\"number of features used: for alpha =0.0001:\", coeff_used00001)\n",
        "\n",
        "lr = LinearRegression()\n",
        "lr.fit(X_train,y_train)\n",
        "lr_train_score=lr.score(X_train,y_train)\n",
        "lr_test_score=lr.score(X_valid,y_valid)\n",
        "print (\"LR training score:\", lr_train_score )\n",
        "print (\"LR test score: \", lr_test_score)\n",
        "figure(figsize=(16, 10), dpi=80)\n",
        "\n",
        "plt.subplot(1,2,1)\n",
        "plt.plot(lasso.coef_,alpha=0.7,linestyle='none',marker='*',markersize=5,color='red',label=r'Lasso; $\\alpha = 1$',zorder=7) # alpha here is for transparency\n",
        "plt.plot(lasso001.coef_,alpha=0.5,linestyle='none',marker='d',markersize=6,color='blue',label=r'Lasso; $\\alpha = 0.01$') # alpha here is for transparency\n",
        "\n",
        "plt.xlabel('Coefficient Index',fontsize=16)\n",
        "plt.ylabel('Coefficient Magnitude',fontsize=16)\n",
        "plt.legend(fontsize=13,loc=4)\n",
        "plt.subplot(1,2,2)\n",
        "plt.plot(lasso.coef_,alpha=0.7,linestyle='none',marker='*',markersize=5,color='red',label=r'Lasso; $\\alpha = 1$',zorder=7) # alpha here is for transparency\n",
        "plt.plot(lasso001.coef_,alpha=0.5,linestyle='none',marker='d',markersize=6,color='blue',label=r'Lasso; $\\alpha = 0.01$') # alpha here is for transparency\n",
        "plt.plot(lasso00001.coef_,alpha=0.8,linestyle='none',marker='v',markersize=6,color='black',label=r'Lasso; $\\alpha = 0.00001$') # alpha here is for transparency\n",
        "plt.plot(lr.coef_,alpha=0.7,linestyle='none',marker='o',markersize=5,color='green',label='Linear Regression',zorder=2)\n",
        "plt.xlabel('Coefficient Index',fontsize=16)\n",
        "plt.ylabel('Coefficient Magnitude',fontsize=16)\n",
        "plt.legend(fontsize=13,loc=4)\n",
        "plt.tight_layout()\n",
        "plt.show()"
      ],
      "execution_count": 678,
      "outputs": [
        {
          "output_type": "stream",
          "text": [
            "training score: 0.3354963706780224\n",
            "test score:  0.2790770637234491\n",
            "number of features used:  12\n",
            "training score for alpha=0.01: 0.4852405649033092\n",
            "test score for alpha =0.01:  0.4572169458961612\n",
            "number of features used: for alpha =0.01: 27\n",
            "training score for alpha=0.0001: 0.5098119359755454\n",
            "test score for alpha =0.0001:  0.4797847516161179\n",
            "number of features used: for alpha =0.0001: 47\n",
            "LR training score: 0.5098707388489385\n",
            "LR test score:  0.4793769609946402\n"
          ],
          "name": "stdout"
        },
        {
          "output_type": "display_data",
          "data": {
            "image/png": "[encoded data removed]",
            "text/plain": [
              "<Figure size 1280x800 with 2 Axes>"
            ]
          },
          "metadata": {
            "tags": [],
            "needs_background": "light"
          }
        }
      ]
    },
    {
      "cell_type": "markdown",
      "metadata": {
        "id": "cs_P8_XRreSQ"
      },
      "source": [
        "When we look at the picture on the left, we can see that for alpha = 1,most of the coefficients are zero or close to zero. Lasso kills too many features. And with alpha = 0.01, this model has more features.\n",
        "When we set alpha = 0.0001, 47 non-zero feature attributes remain in the model and the training and test scores are the same as the basic linear regression. Based on this result, alpha = 0.01 could be a little better."
      ]
    },
    {
      "cell_type": "code",
      "metadata": {
        "id": "dOGEET5ym6Iq"
      },
      "source": [
        "lasso_result = lasso001.predict(X_test)"
      ],
      "execution_count": 679,
      "outputs": []
    },
    {
      "cell_type": "markdown",
      "metadata": {
        "id": "4ejf3LSzjnjA"
      },
      "source": [
        "#Model Comparation"
      ]
    },
    {
      "cell_type": "code",
      "metadata": {
        "colab": {
          "base_uri": "https://localhost:8080/",
          "height": 419
        },
        "id": "Yx8RauSsnQ6W",
        "outputId": "58292fb8-cc60-4933-ff53-0f2f1be6456b"
      },
      "source": [
        "result_table = pd.DataFrame(y_test)\n",
        "result_table.columns = ['IMDB_score']\n",
        "result_table['Linear'] = LR_result\n",
        "result_table['Ridge'] = rr_result\n",
        "result_table['Lasso'] = lasso_result\n",
        "result_table.sort_values(by=['IMDB_score'])\n",
        "new_table = result_table.reset_index(drop=True)\n",
        "new_table"
      ],
      "execution_count": 680,
      "outputs": [
        {
          "output_type": "execute_result",
          "data": {
            "text/html": [
              "<div>\n",
              "<style scoped>\n",
              "    .dataframe tbody tr th:only-of-type {\n",
              "        vertical-align: middle;\n",
              "    }\n",
              "\n",
              "    .dataframe tbody tr th {\n",
              "        vertical-align: top;\n",
              "    }\n",
              "\n",
              "    .dataframe thead th {\n",
              "        text-align: right;\n",
              "    }\n",
              "</style>\n",
              "<table border=\"1\" class=\"dataframe\">\n",
              "  <thead>\n",
              "    <tr style=\"text-align: right;\">\n",
              "      <th></th>\n",
              "      <th>IMDB_score</th>\n",
              "      <th>Linear</th>\n",
              "      <th>Ridge</th>\n",
              "      <th>Lasso</th>\n",
              "    </tr>\n",
              "  </thead>\n",
              "  <tbody>\n",
              "    <tr>\n",
              "      <th>0</th>\n",
              "      <td>4.3</td>\n",
              "      <td>5.688365</td>\n",
              "      <td>5.695836</td>\n",
              "      <td>5.806589</td>\n",
              "    </tr>\n",
              "    <tr>\n",
              "      <th>1</th>\n",
              "      <td>4.6</td>\n",
              "      <td>6.126685</td>\n",
              "      <td>6.118443</td>\n",
              "      <td>6.167607</td>\n",
              "    </tr>\n",
              "    <tr>\n",
              "      <th>2</th>\n",
              "      <td>6.5</td>\n",
              "      <td>5.987510</td>\n",
              "      <td>5.995089</td>\n",
              "      <td>6.169073</td>\n",
              "    </tr>\n",
              "    <tr>\n",
              "      <th>3</th>\n",
              "      <td>6.6</td>\n",
              "      <td>6.307683</td>\n",
              "      <td>6.302308</td>\n",
              "      <td>6.168252</td>\n",
              "    </tr>\n",
              "    <tr>\n",
              "      <th>4</th>\n",
              "      <td>7.3</td>\n",
              "      <td>6.662066</td>\n",
              "      <td>6.663338</td>\n",
              "      <td>6.661530</td>\n",
              "    </tr>\n",
              "    <tr>\n",
              "      <th>...</th>\n",
              "      <td>...</td>\n",
              "      <td>...</td>\n",
              "      <td>...</td>\n",
              "      <td>...</td>\n",
              "    </tr>\n",
              "    <tr>\n",
              "      <th>1145</th>\n",
              "      <td>7.5</td>\n",
              "      <td>5.984478</td>\n",
              "      <td>6.002163</td>\n",
              "      <td>6.017775</td>\n",
              "    </tr>\n",
              "    <tr>\n",
              "      <th>1146</th>\n",
              "      <td>6.8</td>\n",
              "      <td>6.471635</td>\n",
              "      <td>6.487194</td>\n",
              "      <td>6.620229</td>\n",
              "    </tr>\n",
              "    <tr>\n",
              "      <th>1147</th>\n",
              "      <td>6.7</td>\n",
              "      <td>6.435611</td>\n",
              "      <td>6.386730</td>\n",
              "      <td>6.210141</td>\n",
              "    </tr>\n",
              "    <tr>\n",
              "      <th>1148</th>\n",
              "      <td>8.0</td>\n",
              "      <td>7.287553</td>\n",
              "      <td>7.291819</td>\n",
              "      <td>7.550669</td>\n",
              "    </tr>\n",
              "    <tr>\n",
              "      <th>1149</th>\n",
              "      <td>1.9</td>\n",
              "      <td>5.736781</td>\n",
              "      <td>5.746833</td>\n",
              "      <td>5.763123</td>\n",
              "    </tr>\n",
              "  </tbody>\n",
              "</table>\n",
              "<p>1150 rows × 4 columns</p>\n",
              "</div>"
            ],
            "text/plain": [
              "      IMDB_score    Linear     Ridge     Lasso\n",
              "0            4.3  5.688365  5.695836  5.806589\n",
              "1            4.6  6.126685  6.118443  6.167607\n",
              "2            6.5  5.987510  5.995089  6.169073\n",
              "3            6.6  6.307683  6.302308  6.168252\n",
              "4            7.3  6.662066  6.663338  6.661530\n",
              "...          ...       ...       ...       ...\n",
              "1145         7.5  5.984478  6.002163  6.017775\n",
              "1146         6.8  6.471635  6.487194  6.620229\n",
              "1147         6.7  6.435611  6.386730  6.210141\n",
              "1148         8.0  7.287553  7.291819  7.550669\n",
              "1149         1.9  5.736781  5.746833  5.763123\n",
              "\n",
              "[1150 rows x 4 columns]"
            ]
          },
          "metadata": {
            "tags": []
          },
          "execution_count": 680
        }
      ]
    },
    {
      "cell_type": "code",
      "metadata": {
        "id": "IbPgoRaXuNKm"
      },
      "source": [
        "IMDB_score = new_table['IMDB_score']\n",
        "linear = new_table['Linear']\n",
        "ridge = new_table['Ridge']\n",
        "lasso = new_table['Lasso']\n",
        "index = range(len(new_table))"
      ],
      "execution_count": 681,
      "outputs": []
    },
    {
      "cell_type": "code",
      "metadata": {
        "colab": {
          "base_uri": "https://localhost:8080/",
          "height": 712
        },
        "id": "w3-arwyBskqB",
        "outputId": "78e4002d-c8d5-444e-d707-017a05d978ba"
      },
      "source": [
        "figure(figsize=(16, 10), dpi=80)\n",
        "plt.plot(index,  IMDB_score, mec='r', mfc='w',label='IMDB_score',linewidth=1)\n",
        "\n",
        "plt.plot(index, linear, mec='r', mfc='w',label='Linear',linewidth=1)\n",
        "plt.plot(index, ridge, ms=10,label='Ridge',linewidth=1)\n",
        "plt.legend()  \n",
        " \n",
        "plt.margins(0)\n",
        "plt.subplots_adjust(bottom=0.10)\n",
        "plt.xlabel('Movies') \n",
        "plt.ylabel(\"Score\")\n"
      ],
      "execution_count": 682,
      "outputs": [
        {
          "output_type": "execute_result",
          "data": {
            "text/plain": [
              "Text(0, 0.5, 'Score')"
            ]
          },
          "metadata": {
            "tags": []
          },
          "execution_count": 682
        },
        {
          "output_type": "display_data",
          "data": {
            "image/png": "[encoded data removed]",
            "text/plain": [
              "<Figure size 1280x800 with 1 Axes>"
            ]
          },
          "metadata": {
            "tags": [],
            "needs_background": "light"
          }
        }
      ]
    },
    {
      "cell_type": "code",
      "metadata": {
        "colab": {
          "base_uri": "https://localhost:8080/"
        },
        "id": "pBzZ04ImwRbX",
        "outputId": "37dbe59f-7f02-4130-836f-d1ebe36d0560"
      },
      "source": [
        "print(f\"Linear Regression MSE：{mean_squared_error(LR_result, y_test)}\")\n",
        "print(f\"Linear Regression RMSE：{np.sqrt(mean_squared_error(LR_result, y_test))}\")\n",
        "print(f\"Linear Regression R^2：{r2_score(y_test, LR_result)}\")"
      ],
      "execution_count": 683,
      "outputs": [
        {
          "output_type": "stream",
          "text": [
            "Linear Regression MSE：0.584968462720589\n",
            "Linear Regression RMSE：0.7648323101965483\n",
            "Linear Regression R^2：0.46195133755505724\n"
          ],
          "name": "stdout"
        }
      ]
    },
    {
      "cell_type": "code",
      "metadata": {
        "colab": {
          "base_uri": "https://localhost:8080/"
        },
        "id": "PCS68oVyuIZz",
        "outputId": "fe51ef41-7c65-4417-88a5-d1f5132597c2"
      },
      "source": [
        "print(f\"Ridge Regression MSE：{mean_squared_error(rr_result, y_test)}\")\n",
        "print(f\"Ridge Regression RMSE：{np.sqrt(mean_squared_error(rr_result, y_test))}\")\n",
        "print(f\"Ridge Regression R^2：{r2_score(y_test, rr_result)}\")"
      ],
      "execution_count": 684,
      "outputs": [
        {
          "output_type": "stream",
          "text": [
            "Ridge Regression MSE：0.5835446818982589\n",
            "Ridge Regression RMSE：0.7639009634096942\n",
            "Ridge Regression R^2：0.4632609181835694\n"
          ],
          "name": "stdout"
        }
      ]
    },
    {
      "cell_type": "code",
      "metadata": {
        "colab": {
          "base_uri": "https://localhost:8080/"
        },
        "id": "LnPXgGwAwRQz",
        "outputId": "bf1a45dd-7202-44f6-8606-87ebca9e9bc5"
      },
      "source": [
        "print(f\"Lasso Regression MSE：{mean_squared_error(lasso_result, y_test)}\")\n",
        "print(f\"Lasso Regression RMSE：{np.sqrt(mean_squared_error(lasso_result, y_test))}\")\n",
        "print(f\"Lasso Regression R^2：{r2_score(y_test, lasso_result)}\")"
      ],
      "execution_count": 685,
      "outputs": [
        {
          "output_type": "stream",
          "text": [
            "Lasso Regression MSE：0.6004378791253496\n",
            "Lasso Regression RMSE：0.7748792674509686\n",
            "Lasso Regression R^2：0.4477227092856373\n"
          ],
          "name": "stdout"
        }
      ]
    }
  ]
}