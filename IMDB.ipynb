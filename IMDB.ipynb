{
  "nbformat": 4,
  "nbformat_minor": 0,
  "metadata": {
    "colab": {
      "name": "Untitled1.ipynb",
      "provenance": [],
      "authorship_tag": "ABX9TyNw7oGJU2/YL9dx5d6cyhvC",
      "include_colab_link": true
    },
    "kernelspec": {
      "name": "python3",
      "display_name": "Python 3"
    },
    "language_info": {
      "name": "python"
    }
  },
  "cells": [
    {
      "cell_type": "markdown",
      "metadata": {
        "id": "view-in-github",
        "colab_type": "text"
      },
      "source": [
        "<a href=\"https://colab.research.google.com/github/parkerhale/demo_project/blob/main/IMDB.ipynb\" target=\"_parent\"><img src=\"https://colab.research.google.com/assets/colab-badge.svg\" alt=\"Open In Colab\"/></a>"
      ]
    },
    {
      "cell_type": "markdown",
      "metadata": {
        "id": "KdZVqON6kuK7"
      },
      "source": [
        "# Import\n"
      ]
    },
    {
      "cell_type": "code",
      "metadata": {
        "id": "owzE-BJta200"
      },
      "source": [
        "import os\n",
        "from google.colab import drive\n",
        "from argparse import Namespace\n",
        "import numpy as np\n",
        "import pandas as pd\n",
        "import httpimport\n",
        "import torch\n",
        "import torch.optim as optim\n",
        "from tqdm import tqdm_notebook, tqdm\n",
        "import math\n",
        "import statsmodels.formula.api as smf  \n",
        "import statsmodels.api as sm\n",
        "from numpy import genfromtxt\n",
        "import csv\n",
        "import urllib.request\n",
        "import seaborn as sns\n",
        "import matplotlib.pyplot as plt\n",
        "from matplotlib.pyplot import figure\n",
        "from sklearn.preprocessing import StandardScaler\n",
        "import matplotlib\n",
        "from sklearn.linear_model import LinearRegression\n",
        "from sklearn.linear_model import Ridge\n",
        "from sklearn.linear_model import Lasso\n",
        "\n",
        "import torch\n",
        "import torch.nn as nn\n",
        "import torch.optim as optim\n",
        "import torch.nn.functional as F\n",
        "from torch.utils.data import Dataset, DataLoader\n",
        "from torch.autograd import Variable\n",
        "import numpy as np\n",
        "import pandas as pd\n",
        "from sklearn.metrics import mean_squared_error\n",
        "from sklearn.model_selection import train_test_split \n",
        "from torch.utils.data import TensorDataset, DataLoader\n",
        "from tqdm import tqdm\n",
        "from datetime import datetime\n",
        "import torch.nn.functional as F\n",
        "import random\n",
        "import statsmodels.api as sm\n",
        "import sklearn\n",
        "from sklearn.metrics import mean_squared_error, r2_score\n",
        "from sklearn.neighbors import KNeighborsClassifier\n",
        "from sklearn.metrics import roc_auc_score, accuracy_score, precision_score, recall_score\n",
        "from sklearn.metrics import hamming_loss\n",
        "from sklearn.linear_model import LogisticRegression\n",
        "from sklearn.linear_model import SGDClassifier\n",
        "from sklearn.naive_bayes import GaussianNB"
      ],
      "execution_count": 162,
      "outputs": []
    },
    {
      "cell_type": "markdown",
      "metadata": {
        "id": "Hzt8FOMakzDN"
      },
      "source": [
        "#Data Preprocessing and EDA"
      ]
    },
    {
      "cell_type": "code",
      "metadata": {
        "colab": {
          "base_uri": "https://localhost:8080/",
          "height": 406
        },
        "id": "N0fwyE1ja5dr",
        "outputId": "c074abf5-b52a-4704-f622-b7c6e83b149a"
      },
      "source": [
        "url = \"https://github.com/sundeepblue/movie_rating_prediction/raw/master/movie_metadata.csv\"\n",
        "data = pd.read_csv(url)\n",
        "data.head()"
      ],
      "execution_count": 2,
      "outputs": [
        {
          "output_type": "execute_result",
          "data": {
            "text/html": [
              "<div>\n",
              "<style scoped>\n",
              "    .dataframe tbody tr th:only-of-type {\n",
              "        vertical-align: middle;\n",
              "    }\n",
              "\n",
              "    .dataframe tbody tr th {\n",
              "        vertical-align: top;\n",
              "    }\n",
              "\n",
              "    .dataframe thead th {\n",
              "        text-align: right;\n",
              "    }\n",
              "</style>\n",
              "<table border=\"1\" class=\"dataframe\">\n",
              "  <thead>\n",
              "    <tr style=\"text-align: right;\">\n",
              "      <th></th>\n",
              "      <th>color</th>\n",
              "      <th>director_name</th>\n",
              "      <th>num_critic_for_reviews</th>\n",
              "      <th>duration</th>\n",
              "      <th>director_facebook_likes</th>\n",
              "      <th>actor_3_facebook_likes</th>\n",
              "      <th>actor_2_name</th>\n",
              "      <th>actor_1_facebook_likes</th>\n",
              "      <th>gross</th>\n",
              "      <th>genres</th>\n",
              "      <th>actor_1_name</th>\n",
              "      <th>movie_title</th>\n",
              "      <th>num_voted_users</th>\n",
              "      <th>cast_total_facebook_likes</th>\n",
              "      <th>actor_3_name</th>\n",
              "      <th>facenumber_in_poster</th>\n",
              "      <th>plot_keywords</th>\n",
              "      <th>movie_imdb_link</th>\n",
              "      <th>num_user_for_reviews</th>\n",
              "      <th>language</th>\n",
              "      <th>country</th>\n",
              "      <th>content_rating</th>\n",
              "      <th>budget</th>\n",
              "      <th>title_year</th>\n",
              "      <th>actor_2_facebook_likes</th>\n",
              "      <th>imdb_score</th>\n",
              "      <th>aspect_ratio</th>\n",
              "      <th>movie_facebook_likes</th>\n",
              "    </tr>\n",
              "  </thead>\n",
              "  <tbody>\n",
              "    <tr>\n",
              "      <th>0</th>\n",
              "      <td>Color</td>\n",
              "      <td>James Cameron</td>\n",
              "      <td>723.0</td>\n",
              "      <td>178.0</td>\n",
              "      <td>0.0</td>\n",
              "      <td>855.0</td>\n",
              "      <td>Joel David Moore</td>\n",
              "      <td>1000.0</td>\n",
              "      <td>760505847.0</td>\n",
              "      <td>Action|Adventure|Fantasy|Sci-Fi</td>\n",
              "      <td>CCH Pounder</td>\n",
              "      <td>Avatar</td>\n",
              "      <td>886204</td>\n",
              "      <td>4834</td>\n",
              "      <td>Wes Studi</td>\n",
              "      <td>0.0</td>\n",
              "      <td>avatar|future|marine|native|paraplegic</td>\n",
              "      <td>http://www.imdb.com/title/tt0499549/?ref_=fn_t...</td>\n",
              "      <td>3054.0</td>\n",
              "      <td>English</td>\n",
              "      <td>USA</td>\n",
              "      <td>PG-13</td>\n",
              "      <td>237000000.0</td>\n",
              "      <td>2009.0</td>\n",
              "      <td>936.0</td>\n",
              "      <td>7.9</td>\n",
              "      <td>1.78</td>\n",
              "      <td>33000</td>\n",
              "    </tr>\n",
              "    <tr>\n",
              "      <th>1</th>\n",
              "      <td>Color</td>\n",
              "      <td>Gore Verbinski</td>\n",
              "      <td>302.0</td>\n",
              "      <td>169.0</td>\n",
              "      <td>563.0</td>\n",
              "      <td>1000.0</td>\n",
              "      <td>Orlando Bloom</td>\n",
              "      <td>40000.0</td>\n",
              "      <td>309404152.0</td>\n",
              "      <td>Action|Adventure|Fantasy</td>\n",
              "      <td>Johnny Depp</td>\n",
              "      <td>Pirates of the Caribbean: At World's End</td>\n",
              "      <td>471220</td>\n",
              "      <td>48350</td>\n",
              "      <td>Jack Davenport</td>\n",
              "      <td>0.0</td>\n",
              "      <td>goddess|marriage ceremony|marriage proposal|pi...</td>\n",
              "      <td>http://www.imdb.com/title/tt0449088/?ref_=fn_t...</td>\n",
              "      <td>1238.0</td>\n",
              "      <td>English</td>\n",
              "      <td>USA</td>\n",
              "      <td>PG-13</td>\n",
              "      <td>300000000.0</td>\n",
              "      <td>2007.0</td>\n",
              "      <td>5000.0</td>\n",
              "      <td>7.1</td>\n",
              "      <td>2.35</td>\n",
              "      <td>0</td>\n",
              "    </tr>\n",
              "    <tr>\n",
              "      <th>2</th>\n",
              "      <td>Color</td>\n",
              "      <td>Sam Mendes</td>\n",
              "      <td>602.0</td>\n",
              "      <td>148.0</td>\n",
              "      <td>0.0</td>\n",
              "      <td>161.0</td>\n",
              "      <td>Rory Kinnear</td>\n",
              "      <td>11000.0</td>\n",
              "      <td>200074175.0</td>\n",
              "      <td>Action|Adventure|Thriller</td>\n",
              "      <td>Christoph Waltz</td>\n",
              "      <td>Spectre</td>\n",
              "      <td>275868</td>\n",
              "      <td>11700</td>\n",
              "      <td>Stephanie Sigman</td>\n",
              "      <td>1.0</td>\n",
              "      <td>bomb|espionage|sequel|spy|terrorist</td>\n",
              "      <td>http://www.imdb.com/title/tt2379713/?ref_=fn_t...</td>\n",
              "      <td>994.0</td>\n",
              "      <td>English</td>\n",
              "      <td>UK</td>\n",
              "      <td>PG-13</td>\n",
              "      <td>245000000.0</td>\n",
              "      <td>2015.0</td>\n",
              "      <td>393.0</td>\n",
              "      <td>6.8</td>\n",
              "      <td>2.35</td>\n",
              "      <td>85000</td>\n",
              "    </tr>\n",
              "    <tr>\n",
              "      <th>3</th>\n",
              "      <td>Color</td>\n",
              "      <td>Christopher Nolan</td>\n",
              "      <td>813.0</td>\n",
              "      <td>164.0</td>\n",
              "      <td>22000.0</td>\n",
              "      <td>23000.0</td>\n",
              "      <td>Christian Bale</td>\n",
              "      <td>27000.0</td>\n",
              "      <td>448130642.0</td>\n",
              "      <td>Action|Thriller</td>\n",
              "      <td>Tom Hardy</td>\n",
              "      <td>The Dark Knight Rises</td>\n",
              "      <td>1144337</td>\n",
              "      <td>106759</td>\n",
              "      <td>Joseph Gordon-Levitt</td>\n",
              "      <td>0.0</td>\n",
              "      <td>deception|imprisonment|lawlessness|police offi...</td>\n",
              "      <td>http://www.imdb.com/title/tt1345836/?ref_=fn_t...</td>\n",
              "      <td>2701.0</td>\n",
              "      <td>English</td>\n",
              "      <td>USA</td>\n",
              "      <td>PG-13</td>\n",
              "      <td>250000000.0</td>\n",
              "      <td>2012.0</td>\n",
              "      <td>23000.0</td>\n",
              "      <td>8.5</td>\n",
              "      <td>2.35</td>\n",
              "      <td>164000</td>\n",
              "    </tr>\n",
              "    <tr>\n",
              "      <th>4</th>\n",
              "      <td>NaN</td>\n",
              "      <td>Doug Walker</td>\n",
              "      <td>NaN</td>\n",
              "      <td>NaN</td>\n",
              "      <td>131.0</td>\n",
              "      <td>NaN</td>\n",
              "      <td>Rob Walker</td>\n",
              "      <td>131.0</td>\n",
              "      <td>NaN</td>\n",
              "      <td>Documentary</td>\n",
              "      <td>Doug Walker</td>\n",
              "      <td>Star Wars: Episode VII - The Force Awakens    ...</td>\n",
              "      <td>8</td>\n",
              "      <td>143</td>\n",
              "      <td>NaN</td>\n",
              "      <td>0.0</td>\n",
              "      <td>NaN</td>\n",
              "      <td>http://www.imdb.com/title/tt5289954/?ref_=fn_t...</td>\n",
              "      <td>NaN</td>\n",
              "      <td>NaN</td>\n",
              "      <td>NaN</td>\n",
              "      <td>NaN</td>\n",
              "      <td>NaN</td>\n",
              "      <td>NaN</td>\n",
              "      <td>12.0</td>\n",
              "      <td>7.1</td>\n",
              "      <td>NaN</td>\n",
              "      <td>0</td>\n",
              "    </tr>\n",
              "  </tbody>\n",
              "</table>\n",
              "</div>"
            ],
            "text/plain": [
              "   color      director_name  ...  aspect_ratio  movie_facebook_likes\n",
              "0  Color      James Cameron  ...          1.78                 33000\n",
              "1  Color     Gore Verbinski  ...          2.35                     0\n",
              "2  Color         Sam Mendes  ...          2.35                 85000\n",
              "3  Color  Christopher Nolan  ...          2.35                164000\n",
              "4    NaN        Doug Walker  ...           NaN                     0\n",
              "\n",
              "[5 rows x 28 columns]"
            ]
          },
          "metadata": {
            "tags": []
          },
          "execution_count": 2
        }
      ]
    },
    {
      "cell_type": "code",
      "metadata": {
        "colab": {
          "base_uri": "https://localhost:8080/",
          "height": 685
        },
        "id": "GmsTUMT7IAPZ",
        "outputId": "fa34967a-0dfa-4c0b-8a56-5dfd8a7f22aa"
      },
      "source": [
        "figure(figsize=(16, 10), dpi=80)\n",
        "n, bins, patches = plt.hist(x=data['imdb_score'], bins='auto', color='#0504aa',alpha=0.7, rwidth=0.85)\n",
        "plt.grid(axis='y', alpha=0.75)\n",
        "plt.xlabel('Score')\n",
        "plt.ylabel('Movie Count')\n",
        "plt.title('imdb score layout')\n",
        "maxfreq = n.max()"
      ],
      "execution_count": 3,
      "outputs": [
        {
          "output_type": "display_data",
          "data": {
            "image/png": "[encoded data removed]",
            "text/plain": [
              "<Figure size 1280x800 with 1 Axes>"
            ]
          },
          "metadata": {
            "tags": [],
            "needs_background": "light"
          }
        }
      ]
    },
    {
      "cell_type": "markdown",
      "metadata": {
        "id": "vlrH-rNhng5D"
      },
      "source": [
        "We want to make a prediction for imdb scores. And as we know, the quality of movies is highly related to the person who direct them. Let's make a breif view of our producers."
      ]
    },
    {
      "cell_type": "code",
      "metadata": {
        "colab": {
          "base_uri": "https://localhost:8080/"
        },
        "id": "CBP3xIATVnrZ",
        "outputId": "0ae03f46-afa9-4c26-96c7-f6ff156274f8"
      },
      "source": [
        "director = data.groupby('director_name').size().sort_values(ascending=False).head(20)\n",
        "director"
      ],
      "execution_count": 4,
      "outputs": [
        {
          "output_type": "execute_result",
          "data": {
            "text/plain": [
              "director_name\n",
              "Steven Spielberg     26\n",
              "Woody Allen          22\n",
              "Martin Scorsese      20\n",
              "Clint Eastwood       20\n",
              "Ridley Scott         17\n",
              "Tim Burton           16\n",
              "Spike Lee            16\n",
              "Steven Soderbergh    16\n",
              "Renny Harlin         15\n",
              "Oliver Stone         14\n",
              "Sam Raimi            13\n",
              "Michael Bay          13\n",
              "Barry Levinson       13\n",
              "Robert Zemeckis      13\n",
              "John Carpenter       13\n",
              "Joel Schumacher      13\n",
              "Ron Howard           13\n",
              "Robert Rodriguez     13\n",
              "Richard Donner       12\n",
              "Shawn Levy           12\n",
              "dtype: int64"
            ]
          },
          "metadata": {
            "tags": []
          },
          "execution_count": 4
        }
      ]
    },
    {
      "cell_type": "markdown",
      "metadata": {
        "id": "Ty4WKEwpn8-t"
      },
      "source": [
        "Steven Spielberg is a reputated director, so as Woody Allen. I really appreciate their masterpieces during my childhood. I believe lots of audiences facinate their work as well. How about the average scores of their works?"
      ]
    },
    {
      "cell_type": "code",
      "metadata": {
        "colab": {
          "base_uri": "https://localhost:8080/"
        },
        "id": "AZKihrULohY2",
        "outputId": "56c00121-cf48-4aac-eb74-d3dfd9af553f"
      },
      "source": [
        "name_list = director.index.tolist()\n",
        "average = {}\n",
        "for i in name_list:\n",
        "  sum = data['imdb_score'][data['director_name'] == i].sum()  \n",
        "  average[i] = sum/director[i]\n",
        "sorted(average.items(), key=lambda x: -x[1])"
      ],
      "execution_count": 5,
      "outputs": [
        {
          "output_type": "execute_result",
          "data": {
            "text/plain": [
              "[('Martin Scorsese', 7.659999999999999),\n",
              " ('Steven Spielberg', 7.480769230769232),\n",
              " ('Robert Zemeckis', 7.307692307692308),\n",
              " ('Clint Eastwood', 7.225),\n",
              " ('Ridley Scott', 7.070588235294117),\n",
              " ('Woody Allen', 7.00909090909091),\n",
              " ('Oliver Stone', 6.95),\n",
              " ('Tim Burton', 6.93125),\n",
              " ('Ron Howard', 6.93076923076923),\n",
              " ('John Carpenter', 6.915384615384615),\n",
              " ('Sam Raimi', 6.907692307692307),\n",
              " ('Richard Donner', 6.824999999999999),\n",
              " ('Steven Soderbergh', 6.70625),\n",
              " ('Michael Bay', 6.638461538461538),\n",
              " ('Barry Levinson', 6.576923076923076),\n",
              " ('Spike Lee', 6.56875),\n",
              " ('Joel Schumacher', 6.407692307692307),\n",
              " ('Shawn Levy', 6.033333333333334),\n",
              " ('Renny Harlin', 5.746666666666666),\n",
              " ('Robert Rodriguez', 5.6923076923076925)]"
            ]
          },
          "metadata": {
            "tags": []
          },
          "execution_count": 5
        }
      ]
    },
    {
      "cell_type": "markdown",
      "metadata": {
        "id": "1SjDup-4rmzp"
      },
      "source": [
        "Christopher Nolan, my favorite sci-film director has the best overall imdb score. His moive is not just so good, or brilliant. It's beyond that. I have seen Inception for multiple times. Maybe I should do one more time.\n",
        "<br>Ok, so we should agree that talented directors and casts will make a moive more entertaining and quality, which always result in a better rating. And we should consider that in our model."
      ]
    },
    {
      "cell_type": "code",
      "metadata": {
        "colab": {
          "base_uri": "https://localhost:8080/",
          "height": 663
        },
        "id": "qYDzvM2DehMl",
        "outputId": "2675236b-4335-4c9f-a949-51c4a19f2851"
      },
      "source": [
        "director_score = pd.DataFrame(average.items(),columns=['Director','Score'])\n",
        "director_score['Movies'] = director.to_list()\n",
        "director_score"
      ],
      "execution_count": 6,
      "outputs": [
        {
          "output_type": "execute_result",
          "data": {
            "text/html": [
              "<div>\n",
              "<style scoped>\n",
              "    .dataframe tbody tr th:only-of-type {\n",
              "        vertical-align: middle;\n",
              "    }\n",
              "\n",
              "    .dataframe tbody tr th {\n",
              "        vertical-align: top;\n",
              "    }\n",
              "\n",
              "    .dataframe thead th {\n",
              "        text-align: right;\n",
              "    }\n",
              "</style>\n",
              "<table border=\"1\" class=\"dataframe\">\n",
              "  <thead>\n",
              "    <tr style=\"text-align: right;\">\n",
              "      <th></th>\n",
              "      <th>Director</th>\n",
              "      <th>Score</th>\n",
              "      <th>Movies</th>\n",
              "    </tr>\n",
              "  </thead>\n",
              "  <tbody>\n",
              "    <tr>\n",
              "      <th>0</th>\n",
              "      <td>Steven Spielberg</td>\n",
              "      <td>7.480769</td>\n",
              "      <td>26</td>\n",
              "    </tr>\n",
              "    <tr>\n",
              "      <th>1</th>\n",
              "      <td>Woody Allen</td>\n",
              "      <td>7.009091</td>\n",
              "      <td>22</td>\n",
              "    </tr>\n",
              "    <tr>\n",
              "      <th>2</th>\n",
              "      <td>Martin Scorsese</td>\n",
              "      <td>7.660000</td>\n",
              "      <td>20</td>\n",
              "    </tr>\n",
              "    <tr>\n",
              "      <th>3</th>\n",
              "      <td>Clint Eastwood</td>\n",
              "      <td>7.225000</td>\n",
              "      <td>20</td>\n",
              "    </tr>\n",
              "    <tr>\n",
              "      <th>4</th>\n",
              "      <td>Ridley Scott</td>\n",
              "      <td>7.070588</td>\n",
              "      <td>17</td>\n",
              "    </tr>\n",
              "    <tr>\n",
              "      <th>5</th>\n",
              "      <td>Tim Burton</td>\n",
              "      <td>6.931250</td>\n",
              "      <td>16</td>\n",
              "    </tr>\n",
              "    <tr>\n",
              "      <th>6</th>\n",
              "      <td>Spike Lee</td>\n",
              "      <td>6.568750</td>\n",
              "      <td>16</td>\n",
              "    </tr>\n",
              "    <tr>\n",
              "      <th>7</th>\n",
              "      <td>Steven Soderbergh</td>\n",
              "      <td>6.706250</td>\n",
              "      <td>16</td>\n",
              "    </tr>\n",
              "    <tr>\n",
              "      <th>8</th>\n",
              "      <td>Renny Harlin</td>\n",
              "      <td>5.746667</td>\n",
              "      <td>15</td>\n",
              "    </tr>\n",
              "    <tr>\n",
              "      <th>9</th>\n",
              "      <td>Oliver Stone</td>\n",
              "      <td>6.950000</td>\n",
              "      <td>14</td>\n",
              "    </tr>\n",
              "    <tr>\n",
              "      <th>10</th>\n",
              "      <td>Sam Raimi</td>\n",
              "      <td>6.907692</td>\n",
              "      <td>13</td>\n",
              "    </tr>\n",
              "    <tr>\n",
              "      <th>11</th>\n",
              "      <td>Michael Bay</td>\n",
              "      <td>6.638462</td>\n",
              "      <td>13</td>\n",
              "    </tr>\n",
              "    <tr>\n",
              "      <th>12</th>\n",
              "      <td>Barry Levinson</td>\n",
              "      <td>6.576923</td>\n",
              "      <td>13</td>\n",
              "    </tr>\n",
              "    <tr>\n",
              "      <th>13</th>\n",
              "      <td>Robert Zemeckis</td>\n",
              "      <td>7.307692</td>\n",
              "      <td>13</td>\n",
              "    </tr>\n",
              "    <tr>\n",
              "      <th>14</th>\n",
              "      <td>John Carpenter</td>\n",
              "      <td>6.915385</td>\n",
              "      <td>13</td>\n",
              "    </tr>\n",
              "    <tr>\n",
              "      <th>15</th>\n",
              "      <td>Joel Schumacher</td>\n",
              "      <td>6.407692</td>\n",
              "      <td>13</td>\n",
              "    </tr>\n",
              "    <tr>\n",
              "      <th>16</th>\n",
              "      <td>Ron Howard</td>\n",
              "      <td>6.930769</td>\n",
              "      <td>13</td>\n",
              "    </tr>\n",
              "    <tr>\n",
              "      <th>17</th>\n",
              "      <td>Robert Rodriguez</td>\n",
              "      <td>5.692308</td>\n",
              "      <td>13</td>\n",
              "    </tr>\n",
              "    <tr>\n",
              "      <th>18</th>\n",
              "      <td>Richard Donner</td>\n",
              "      <td>6.825000</td>\n",
              "      <td>12</td>\n",
              "    </tr>\n",
              "    <tr>\n",
              "      <th>19</th>\n",
              "      <td>Shawn Levy</td>\n",
              "      <td>6.033333</td>\n",
              "      <td>12</td>\n",
              "    </tr>\n",
              "  </tbody>\n",
              "</table>\n",
              "</div>"
            ],
            "text/plain": [
              "             Director     Score  Movies\n",
              "0    Steven Spielberg  7.480769      26\n",
              "1         Woody Allen  7.009091      22\n",
              "2     Martin Scorsese  7.660000      20\n",
              "3      Clint Eastwood  7.225000      20\n",
              "4        Ridley Scott  7.070588      17\n",
              "5          Tim Burton  6.931250      16\n",
              "6           Spike Lee  6.568750      16\n",
              "7   Steven Soderbergh  6.706250      16\n",
              "8        Renny Harlin  5.746667      15\n",
              "9        Oliver Stone  6.950000      14\n",
              "10          Sam Raimi  6.907692      13\n",
              "11        Michael Bay  6.638462      13\n",
              "12     Barry Levinson  6.576923      13\n",
              "13    Robert Zemeckis  7.307692      13\n",
              "14     John Carpenter  6.915385      13\n",
              "15    Joel Schumacher  6.407692      13\n",
              "16         Ron Howard  6.930769      13\n",
              "17   Robert Rodriguez  5.692308      13\n",
              "18     Richard Donner  6.825000      12\n",
              "19         Shawn Levy  6.033333      12"
            ]
          },
          "metadata": {
            "tags": []
          },
          "execution_count": 6
        }
      ]
    },
    {
      "cell_type": "code",
      "metadata": {
        "colab": {
          "base_uri": "https://localhost:8080/",
          "height": 730
        },
        "id": "AlPLu0Tmgkw_",
        "outputId": "f9e47b5c-3c27-4d8f-adac-2d1ede36a00f"
      },
      "source": [
        "plt.rcParams['axes.unicode_minus']=False \n",
        "director=director_score['Director'] \n",
        "score=director_score['Score'] \n",
        "movies=director_score['Movies'] \n",
        "\n",
        "fig=plt.figure(figsize=(18,12))\n",
        "ax=plt.subplot(1,1,1) \n",
        "ax.scatter(score,movies)    \n",
        "ax.set_title(\"Director IMDB rating and total number of movies\")\n",
        "ax.set_xlabel(\"IMDB rating\")\n",
        "ax.set_ylabel(\"Movies\")\n",
        "for i in range(len(movies)):\n",
        "    ax.text(score[i]*1.01, movies[i]*1.01, director[i], \n",
        "            fontsize=10, color = \"r\", style = \"italic\", weight = \"light\",\n",
        "            verticalalignment='center', horizontalalignment='right',rotation=-20) \n",
        "plt.show()"
      ],
      "execution_count": 7,
      "outputs": [
        {
          "output_type": "display_data",
          "data": {
            "image/png": "[encoded data removed]",
            "text/plain": [
              "<Figure size 1296x864 with 1 Axes>"
            ]
          },
          "metadata": {
            "tags": [],
            "needs_background": "light"
          }
        }
      ]
    },
    {
      "cell_type": "markdown",
      "metadata": {
        "id": "eXu_8M90iTfe"
      },
      "source": [
        "As we can see, directors with good reputation also have produced lots of movies. Maybe audiences love those famous figures and lead to celebrity effect. "
      ]
    },
    {
      "cell_type": "code",
      "metadata": {
        "colab": {
          "base_uri": "https://localhost:8080/"
        },
        "id": "5Y-eRSbEfNdt",
        "outputId": "2c5b84b8-8b94-4c8b-cd5b-c84f1920c064"
      },
      "source": [
        "director_score = sorted(average.items(), key=lambda x: -x[1])\n",
        "type(director_score)"
      ],
      "execution_count": 8,
      "outputs": [
        {
          "output_type": "execute_result",
          "data": {
            "text/plain": [
              "list"
            ]
          },
          "metadata": {
            "tags": []
          },
          "execution_count": 8
        }
      ]
    },
    {
      "cell_type": "code",
      "metadata": {
        "colab": {
          "base_uri": "https://localhost:8080/"
        },
        "id": "vYtOetYgNThz",
        "outputId": "eaa24904-ee5e-4c85-9b58-fa1dd0adca93"
      },
      "source": [
        "data.info()"
      ],
      "execution_count": 9,
      "outputs": [
        {
          "output_type": "stream",
          "text": [
            "<class 'pandas.core.frame.DataFrame'>\n",
            "RangeIndex: 5043 entries, 0 to 5042\n",
            "Data columns (total 28 columns):\n",
            " #   Column                     Non-Null Count  Dtype  \n",
            "---  ------                     --------------  -----  \n",
            " 0   color                      5024 non-null   object \n",
            " 1   director_name              4939 non-null   object \n",
            " 2   num_critic_for_reviews     4993 non-null   float64\n",
            " 3   duration                   5028 non-null   float64\n",
            " 4   director_facebook_likes    4939 non-null   float64\n",
            " 5   actor_3_facebook_likes     5020 non-null   float64\n",
            " 6   actor_2_name               5030 non-null   object \n",
            " 7   actor_1_facebook_likes     5036 non-null   float64\n",
            " 8   gross                      4159 non-null   float64\n",
            " 9   genres                     5043 non-null   object \n",
            " 10  actor_1_name               5036 non-null   object \n",
            " 11  movie_title                5043 non-null   object \n",
            " 12  num_voted_users            5043 non-null   int64  \n",
            " 13  cast_total_facebook_likes  5043 non-null   int64  \n",
            " 14  actor_3_name               5020 non-null   object \n",
            " 15  facenumber_in_poster       5030 non-null   float64\n",
            " 16  plot_keywords              4890 non-null   object \n",
            " 17  movie_imdb_link            5043 non-null   object \n",
            " 18  num_user_for_reviews       5022 non-null   float64\n",
            " 19  language                   5031 non-null   object \n",
            " 20  country                    5038 non-null   object \n",
            " 21  content_rating             4740 non-null   object \n",
            " 22  budget                     4551 non-null   float64\n",
            " 23  title_year                 4935 non-null   float64\n",
            " 24  actor_2_facebook_likes     5030 non-null   float64\n",
            " 25  imdb_score                 5043 non-null   float64\n",
            " 26  aspect_ratio               4714 non-null   float64\n",
            " 27  movie_facebook_likes       5043 non-null   int64  \n",
            "dtypes: float64(13), int64(3), object(12)\n",
            "memory usage: 1.1+ MB\n"
          ],
          "name": "stdout"
        }
      ]
    },
    {
      "cell_type": "markdown",
      "metadata": {
        "id": "l7oFofVffxWS"
      },
      "source": [
        "This dataset contains lots of information, including 9 characteristic variables, 15 numeric variables and 2 categorical variables. Before we processing feature engineering, I want to check data integrity so that missing values and outliers won't affect our prediction result.\n",
        "The first step is to find out how many missing values we have here."
      ]
    },
    {
      "cell_type": "code",
      "metadata": {
        "colab": {
          "base_uri": "https://localhost:8080/"
        },
        "id": "vj-kPfVRnXyj",
        "outputId": "8e76f691-6f5c-40cd-eb3d-0f1ee675d5ed"
      },
      "source": [
        "data.isna().sum()"
      ],
      "execution_count": 10,
      "outputs": [
        {
          "output_type": "execute_result",
          "data": {
            "text/plain": [
              "color                         19\n",
              "director_name                104\n",
              "num_critic_for_reviews        50\n",
              "duration                      15\n",
              "director_facebook_likes      104\n",
              "actor_3_facebook_likes        23\n",
              "actor_2_name                  13\n",
              "actor_1_facebook_likes         7\n",
              "gross                        884\n",
              "genres                         0\n",
              "actor_1_name                   7\n",
              "movie_title                    0\n",
              "num_voted_users                0\n",
              "cast_total_facebook_likes      0\n",
              "actor_3_name                  23\n",
              "facenumber_in_poster          13\n",
              "plot_keywords                153\n",
              "movie_imdb_link                0\n",
              "num_user_for_reviews          21\n",
              "language                      12\n",
              "country                        5\n",
              "content_rating               303\n",
              "budget                       492\n",
              "title_year                   108\n",
              "actor_2_facebook_likes        13\n",
              "imdb_score                     0\n",
              "aspect_ratio                 329\n",
              "movie_facebook_likes           0\n",
              "dtype: int64"
            ]
          },
          "metadata": {
            "tags": []
          },
          "execution_count": 10
        }
      ]
    },
    {
      "cell_type": "markdown",
      "metadata": {
        "id": "vfjvUG61uCnZ"
      },
      "source": [
        "That's a lot missing here. It is unpropriate if we processing the raw data without cleaning them out. \n",
        "<br>I would assume that those directors and actors who do not have \"facebook likes\" is because they do not have a official facebook account or is not avaliable currently. I would fill them as 0 to make it works. "
      ]
    },
    {
      "cell_type": "code",
      "metadata": {
        "id": "D0zhg-Cxcg1m"
      },
      "source": [
        "data['director_facebook_likes'] = data['director_facebook_likes'].fillna(0)\n",
        "data['actor_1_facebook_likes'] = data['actor_1_facebook_likes'].fillna(0)\n",
        "data['actor_2_facebook_likes'] = data['actor_2_facebook_likes'].fillna(0)\n",
        "data['actor_3_facebook_likes'] = data['actor_3_facebook_likes'].fillna(0)"
      ],
      "execution_count": 11,
      "outputs": []
    },
    {
      "cell_type": "markdown",
      "metadata": {
        "id": "AktekptWlMIT"
      },
      "source": [
        "Face number in movies' poster should not affect review scores, as well as their imdb links, the number of reviews and aspect ratio.\n",
        "<br>We have to admit that movie title might have positive or negative influence here. For instance, rating of movies in franchise series are affected by their precessors. Audiences always expect more on great movies' successors. On another hand, moives which named after a famous charactor, like spider-man or Donald Duck, will give their audiences a special impression.\n",
        "<br>Still, I will delete these columns because their influence in this dataset is minimal and this will save us some time."
      ]
    },
    {
      "cell_type": "code",
      "metadata": {
        "id": "B6UK5FgkdfI6"
      },
      "source": [
        "data_wo_useless_attributes = data.drop(columns=['color','movie_imdb_link','num_user_for_reviews','aspect_ratio','movie_title','plot_keywords','language','country'])"
      ],
      "execution_count": 12,
      "outputs": []
    },
    {
      "cell_type": "code",
      "metadata": {
        "id": "v7i616e1qqY9"
      },
      "source": [
        "data_wo_useless_attributes = data_wo_useless_attributes.drop(columns=['facenumber_in_poster'])"
      ],
      "execution_count": 13,
      "outputs": []
    },
    {
      "cell_type": "markdown",
      "metadata": {
        "id": "_Cwgu2ghuvZ3"
      },
      "source": [
        "Drop the na rows for numeric varibles. It is not approriate if we just fill them with means or median here. As we have enough samples here and na rows of numeric varibles are no more than 400 rows, I would say it is safer to focus on rows without missing values."
      ]
    },
    {
      "cell_type": "code",
      "metadata": {
        "id": "Z39SlXzPp5Oj"
      },
      "source": [
        "data_numeric_cleaned = data_wo_useless_attributes.dropna(subset=['num_critic_for_reviews','duration','director_name','title_year','gross','budget'])"
      ],
      "execution_count": 14,
      "outputs": []
    },
    {
      "cell_type": "code",
      "metadata": {
        "id": "6YxaqbyaqVZV"
      },
      "source": [
        "data_categoric_cleaned = data_numeric_cleaned.dropna(subset=['director_name','actor_1_name','actor_2_name','actor_3_name','content_rating'])"
      ],
      "execution_count": 15,
      "outputs": []
    },
    {
      "cell_type": "code",
      "metadata": {
        "colab": {
          "base_uri": "https://localhost:8080/"
        },
        "id": "KCx3wmrYsspo",
        "outputId": "69e10a35-686a-49a3-9b05-55e7a99c7e6c"
      },
      "source": [
        "data_categoric_cleaned.isna().sum()"
      ],
      "execution_count": 16,
      "outputs": [
        {
          "output_type": "execute_result",
          "data": {
            "text/plain": [
              "director_name                0\n",
              "num_critic_for_reviews       0\n",
              "duration                     0\n",
              "director_facebook_likes      0\n",
              "actor_3_facebook_likes       0\n",
              "actor_2_name                 0\n",
              "actor_1_facebook_likes       0\n",
              "gross                        0\n",
              "genres                       0\n",
              "actor_1_name                 0\n",
              "num_voted_users              0\n",
              "cast_total_facebook_likes    0\n",
              "actor_3_name                 0\n",
              "content_rating               0\n",
              "budget                       0\n",
              "title_year                   0\n",
              "actor_2_facebook_likes       0\n",
              "imdb_score                   0\n",
              "movie_facebook_likes         0\n",
              "dtype: int64"
            ]
          },
          "metadata": {
            "tags": []
          },
          "execution_count": 16
        }
      ]
    },
    {
      "cell_type": "markdown",
      "metadata": {
        "id": "_fhqeqQmzACE"
      },
      "source": [
        "Index needs to be resets here to make sure following step will work well."
      ]
    },
    {
      "cell_type": "code",
      "metadata": {
        "id": "i7z73zB8hIyw"
      },
      "source": [
        "data_categoric_cleaned = data_categoric_cleaned.reset_index(drop=True)"
      ],
      "execution_count": 17,
      "outputs": []
    },
    {
      "cell_type": "code",
      "metadata": {
        "colab": {
          "base_uri": "https://localhost:8080/"
        },
        "id": "IH4DNYUsdjom",
        "outputId": "a7883e9b-0e3b-4f18-ed13-2db5026eafc9"
      },
      "source": [
        "data_categoric_cleaned.info()"
      ],
      "execution_count": 18,
      "outputs": [
        {
          "output_type": "stream",
          "text": [
            "<class 'pandas.core.frame.DataFrame'>\n",
            "RangeIndex: 3833 entries, 0 to 3832\n",
            "Data columns (total 19 columns):\n",
            " #   Column                     Non-Null Count  Dtype  \n",
            "---  ------                     --------------  -----  \n",
            " 0   director_name              3833 non-null   object \n",
            " 1   num_critic_for_reviews     3833 non-null   float64\n",
            " 2   duration                   3833 non-null   float64\n",
            " 3   director_facebook_likes    3833 non-null   float64\n",
            " 4   actor_3_facebook_likes     3833 non-null   float64\n",
            " 5   actor_2_name               3833 non-null   object \n",
            " 6   actor_1_facebook_likes     3833 non-null   float64\n",
            " 7   gross                      3833 non-null   float64\n",
            " 8   genres                     3833 non-null   object \n",
            " 9   actor_1_name               3833 non-null   object \n",
            " 10  num_voted_users            3833 non-null   int64  \n",
            " 11  cast_total_facebook_likes  3833 non-null   int64  \n",
            " 12  actor_3_name               3833 non-null   object \n",
            " 13  content_rating             3833 non-null   object \n",
            " 14  budget                     3833 non-null   float64\n",
            " 15  title_year                 3833 non-null   float64\n",
            " 16  actor_2_facebook_likes     3833 non-null   float64\n",
            " 17  imdb_score                 3833 non-null   float64\n",
            " 18  movie_facebook_likes       3833 non-null   int64  \n",
            "dtypes: float64(10), int64(3), object(6)\n",
            "memory usage: 569.1+ KB\n"
          ],
          "name": "stdout"
        }
      ]
    },
    {
      "cell_type": "markdown",
      "metadata": {
        "id": "8B9NGYRJzPaJ"
      },
      "source": [
        "# Characteristic Variables and categorical variables"
      ]
    },
    {
      "cell_type": "markdown",
      "metadata": {
        "id": "r9Nz0bgZzfla"
      },
      "source": [
        "Genres is a little difficult to deal with. It has been put into one column and separate by \"|\". I will divide them into several columns using one hot coding. This is the only variable I want to use one hot coding since the labels is not so many."
      ]
    },
    {
      "cell_type": "code",
      "metadata": {
        "colab": {
          "base_uri": "https://localhost:8080/"
        },
        "id": "XjKUlB0od6wv",
        "outputId": "d3bfe7c5-0166-4ffc-aa08-d3c8450b453d"
      },
      "source": [
        "data_categoric_cleaned['genres'].describe()"
      ],
      "execution_count": 19,
      "outputs": [
        {
          "output_type": "execute_result",
          "data": {
            "text/plain": [
              "count                     3833\n",
              "unique                     751\n",
              "top       Comedy|Drama|Romance\n",
              "freq                       150\n",
              "Name: genres, dtype: object"
            ]
          },
          "metadata": {
            "tags": []
          },
          "execution_count": 19
        }
      ]
    },
    {
      "cell_type": "markdown",
      "metadata": {
        "id": "51b9cIK10f5O"
      },
      "source": [
        "I create a list to store all genres values."
      ]
    },
    {
      "cell_type": "code",
      "metadata": {
        "id": "hWfwELCJeqUa"
      },
      "source": [
        "genres = []\n",
        "for i in range(len(data_categoric_cleaned)):\n",
        "  temp = data_categoric_cleaned['genres'][i].split('|')\n",
        "  for n in range(len(temp)):\n",
        "    if temp[n] not in genres:\n",
        "      genres.append(temp[n])"
      ],
      "execution_count": 20,
      "outputs": []
    },
    {
      "cell_type": "markdown",
      "metadata": {
        "id": "tKkJC3e40q21"
      },
      "source": [
        "Create new empty columns for genres."
      ]
    },
    {
      "cell_type": "code",
      "metadata": {
        "id": "3hoXQPtShegy"
      },
      "source": [
        "for i in genres:\n",
        "  temp = [0]*len(data_categoric_cleaned)\n",
        "  col_name = i\n",
        "  data_categoric_cleaned[col_name] = temp"
      ],
      "execution_count": 21,
      "outputs": []
    },
    {
      "cell_type": "markdown",
      "metadata": {
        "id": "pDCZuUFA0wkM"
      },
      "source": [
        "One-hot coding and we have genres attributes separated."
      ]
    },
    {
      "cell_type": "code",
      "metadata": {
        "id": "NogDL0A2jUUF",
        "outputId": "d3b196f3-e9cb-4f40-e1af-015494de8279",
        "colab": {
          "base_uri": "https://localhost:8080/"
        }
      },
      "source": [
        "for i in range(len(data_categoric_cleaned)):\n",
        "  temp = data_categoric_cleaned['genres'][i].split('|')\n",
        "  for n in range(len(temp)):\n",
        "    data_categoric_cleaned[temp[n]][i] = 1"
      ],
      "execution_count": 22,
      "outputs": [
        {
          "output_type": "stream",
          "text": [
            "/usr/local/lib/python3.7/dist-packages/ipykernel_launcher.py:4: SettingWithCopyWarning: \n",
            "A value is trying to be set on a copy of a slice from a DataFrame\n",
            "\n",
            "See the caveats in the documentation: https://pandas.pydata.org/pandas-docs/stable/user_guide/indexing.html#returning-a-view-versus-a-copy\n",
            "  after removing the cwd from sys.path.\n"
          ],
          "name": "stderr"
        }
      ]
    },
    {
      "cell_type": "code",
      "metadata": {
        "colab": {
          "base_uri": "https://localhost:8080/",
          "height": 415
        },
        "id": "nmOHlfh2jAPd",
        "outputId": "ba8fcfef-59ab-4395-cd07-7fd3d8725128"
      },
      "source": [
        "data_categoric_cleaned[genres]"
      ],
      "execution_count": 23,
      "outputs": [
        {
          "output_type": "execute_result",
          "data": {
            "text/html": [
              "<div>\n",
              "<style scoped>\n",
              "    .dataframe tbody tr th:only-of-type {\n",
              "        vertical-align: middle;\n",
              "    }\n",
              "\n",
              "    .dataframe tbody tr th {\n",
              "        vertical-align: top;\n",
              "    }\n",
              "\n",
              "    .dataframe thead th {\n",
              "        text-align: right;\n",
              "    }\n",
              "</style>\n",
              "<table border=\"1\" class=\"dataframe\">\n",
              "  <thead>\n",
              "    <tr style=\"text-align: right;\">\n",
              "      <th></th>\n",
              "      <th>Action</th>\n",
              "      <th>Adventure</th>\n",
              "      <th>Fantasy</th>\n",
              "      <th>Sci-Fi</th>\n",
              "      <th>Thriller</th>\n",
              "      <th>Romance</th>\n",
              "      <th>Animation</th>\n",
              "      <th>Comedy</th>\n",
              "      <th>Family</th>\n",
              "      <th>Musical</th>\n",
              "      <th>Mystery</th>\n",
              "      <th>Western</th>\n",
              "      <th>Drama</th>\n",
              "      <th>History</th>\n",
              "      <th>Sport</th>\n",
              "      <th>Crime</th>\n",
              "      <th>Horror</th>\n",
              "      <th>War</th>\n",
              "      <th>Biography</th>\n",
              "      <th>Music</th>\n",
              "      <th>Documentary</th>\n",
              "      <th>Film-Noir</th>\n",
              "    </tr>\n",
              "  </thead>\n",
              "  <tbody>\n",
              "    <tr>\n",
              "      <th>0</th>\n",
              "      <td>1</td>\n",
              "      <td>1</td>\n",
              "      <td>1</td>\n",
              "      <td>1</td>\n",
              "      <td>0</td>\n",
              "      <td>0</td>\n",
              "      <td>0</td>\n",
              "      <td>0</td>\n",
              "      <td>0</td>\n",
              "      <td>0</td>\n",
              "      <td>0</td>\n",
              "      <td>0</td>\n",
              "      <td>0</td>\n",
              "      <td>0</td>\n",
              "      <td>0</td>\n",
              "      <td>0</td>\n",
              "      <td>0</td>\n",
              "      <td>0</td>\n",
              "      <td>0</td>\n",
              "      <td>0</td>\n",
              "      <td>0</td>\n",
              "      <td>0</td>\n",
              "    </tr>\n",
              "    <tr>\n",
              "      <th>1</th>\n",
              "      <td>1</td>\n",
              "      <td>1</td>\n",
              "      <td>1</td>\n",
              "      <td>0</td>\n",
              "      <td>0</td>\n",
              "      <td>0</td>\n",
              "      <td>0</td>\n",
              "      <td>0</td>\n",
              "      <td>0</td>\n",
              "      <td>0</td>\n",
              "      <td>0</td>\n",
              "      <td>0</td>\n",
              "      <td>0</td>\n",
              "      <td>0</td>\n",
              "      <td>0</td>\n",
              "      <td>0</td>\n",
              "      <td>0</td>\n",
              "      <td>0</td>\n",
              "      <td>0</td>\n",
              "      <td>0</td>\n",
              "      <td>0</td>\n",
              "      <td>0</td>\n",
              "    </tr>\n",
              "    <tr>\n",
              "      <th>2</th>\n",
              "      <td>1</td>\n",
              "      <td>1</td>\n",
              "      <td>0</td>\n",
              "      <td>0</td>\n",
              "      <td>1</td>\n",
              "      <td>0</td>\n",
              "      <td>0</td>\n",
              "      <td>0</td>\n",
              "      <td>0</td>\n",
              "      <td>0</td>\n",
              "      <td>0</td>\n",
              "      <td>0</td>\n",
              "      <td>0</td>\n",
              "      <td>0</td>\n",
              "      <td>0</td>\n",
              "      <td>0</td>\n",
              "      <td>0</td>\n",
              "      <td>0</td>\n",
              "      <td>0</td>\n",
              "      <td>0</td>\n",
              "      <td>0</td>\n",
              "      <td>0</td>\n",
              "    </tr>\n",
              "    <tr>\n",
              "      <th>3</th>\n",
              "      <td>1</td>\n",
              "      <td>0</td>\n",
              "      <td>0</td>\n",
              "      <td>0</td>\n",
              "      <td>1</td>\n",
              "      <td>0</td>\n",
              "      <td>0</td>\n",
              "      <td>0</td>\n",
              "      <td>0</td>\n",
              "      <td>0</td>\n",
              "      <td>0</td>\n",
              "      <td>0</td>\n",
              "      <td>0</td>\n",
              "      <td>0</td>\n",
              "      <td>0</td>\n",
              "      <td>0</td>\n",
              "      <td>0</td>\n",
              "      <td>0</td>\n",
              "      <td>0</td>\n",
              "      <td>0</td>\n",
              "      <td>0</td>\n",
              "      <td>0</td>\n",
              "    </tr>\n",
              "    <tr>\n",
              "      <th>4</th>\n",
              "      <td>1</td>\n",
              "      <td>1</td>\n",
              "      <td>0</td>\n",
              "      <td>1</td>\n",
              "      <td>0</td>\n",
              "      <td>0</td>\n",
              "      <td>0</td>\n",
              "      <td>0</td>\n",
              "      <td>0</td>\n",
              "      <td>0</td>\n",
              "      <td>0</td>\n",
              "      <td>0</td>\n",
              "      <td>0</td>\n",
              "      <td>0</td>\n",
              "      <td>0</td>\n",
              "      <td>0</td>\n",
              "      <td>0</td>\n",
              "      <td>0</td>\n",
              "      <td>0</td>\n",
              "      <td>0</td>\n",
              "      <td>0</td>\n",
              "      <td>0</td>\n",
              "    </tr>\n",
              "    <tr>\n",
              "      <th>...</th>\n",
              "      <td>...</td>\n",
              "      <td>...</td>\n",
              "      <td>...</td>\n",
              "      <td>...</td>\n",
              "      <td>...</td>\n",
              "      <td>...</td>\n",
              "      <td>...</td>\n",
              "      <td>...</td>\n",
              "      <td>...</td>\n",
              "      <td>...</td>\n",
              "      <td>...</td>\n",
              "      <td>...</td>\n",
              "      <td>...</td>\n",
              "      <td>...</td>\n",
              "      <td>...</td>\n",
              "      <td>...</td>\n",
              "      <td>...</td>\n",
              "      <td>...</td>\n",
              "      <td>...</td>\n",
              "      <td>...</td>\n",
              "      <td>...</td>\n",
              "      <td>...</td>\n",
              "    </tr>\n",
              "    <tr>\n",
              "      <th>3828</th>\n",
              "      <td>0</td>\n",
              "      <td>0</td>\n",
              "      <td>0</td>\n",
              "      <td>1</td>\n",
              "      <td>1</td>\n",
              "      <td>0</td>\n",
              "      <td>0</td>\n",
              "      <td>0</td>\n",
              "      <td>0</td>\n",
              "      <td>0</td>\n",
              "      <td>0</td>\n",
              "      <td>0</td>\n",
              "      <td>1</td>\n",
              "      <td>0</td>\n",
              "      <td>0</td>\n",
              "      <td>0</td>\n",
              "      <td>0</td>\n",
              "      <td>0</td>\n",
              "      <td>0</td>\n",
              "      <td>0</td>\n",
              "      <td>0</td>\n",
              "      <td>0</td>\n",
              "    </tr>\n",
              "    <tr>\n",
              "      <th>3829</th>\n",
              "      <td>0</td>\n",
              "      <td>0</td>\n",
              "      <td>0</td>\n",
              "      <td>0</td>\n",
              "      <td>1</td>\n",
              "      <td>0</td>\n",
              "      <td>0</td>\n",
              "      <td>0</td>\n",
              "      <td>0</td>\n",
              "      <td>0</td>\n",
              "      <td>0</td>\n",
              "      <td>0</td>\n",
              "      <td>0</td>\n",
              "      <td>0</td>\n",
              "      <td>0</td>\n",
              "      <td>0</td>\n",
              "      <td>0</td>\n",
              "      <td>0</td>\n",
              "      <td>0</td>\n",
              "      <td>0</td>\n",
              "      <td>0</td>\n",
              "      <td>0</td>\n",
              "    </tr>\n",
              "    <tr>\n",
              "      <th>3830</th>\n",
              "      <td>1</td>\n",
              "      <td>0</td>\n",
              "      <td>0</td>\n",
              "      <td>0</td>\n",
              "      <td>1</td>\n",
              "      <td>1</td>\n",
              "      <td>0</td>\n",
              "      <td>0</td>\n",
              "      <td>0</td>\n",
              "      <td>0</td>\n",
              "      <td>0</td>\n",
              "      <td>0</td>\n",
              "      <td>1</td>\n",
              "      <td>0</td>\n",
              "      <td>0</td>\n",
              "      <td>1</td>\n",
              "      <td>0</td>\n",
              "      <td>0</td>\n",
              "      <td>0</td>\n",
              "      <td>0</td>\n",
              "      <td>0</td>\n",
              "      <td>0</td>\n",
              "    </tr>\n",
              "    <tr>\n",
              "      <th>3831</th>\n",
              "      <td>0</td>\n",
              "      <td>0</td>\n",
              "      <td>0</td>\n",
              "      <td>0</td>\n",
              "      <td>0</td>\n",
              "      <td>0</td>\n",
              "      <td>0</td>\n",
              "      <td>1</td>\n",
              "      <td>0</td>\n",
              "      <td>0</td>\n",
              "      <td>0</td>\n",
              "      <td>0</td>\n",
              "      <td>1</td>\n",
              "      <td>0</td>\n",
              "      <td>0</td>\n",
              "      <td>0</td>\n",
              "      <td>0</td>\n",
              "      <td>0</td>\n",
              "      <td>0</td>\n",
              "      <td>0</td>\n",
              "      <td>0</td>\n",
              "      <td>0</td>\n",
              "    </tr>\n",
              "    <tr>\n",
              "      <th>3832</th>\n",
              "      <td>0</td>\n",
              "      <td>0</td>\n",
              "      <td>0</td>\n",
              "      <td>0</td>\n",
              "      <td>0</td>\n",
              "      <td>0</td>\n",
              "      <td>0</td>\n",
              "      <td>0</td>\n",
              "      <td>0</td>\n",
              "      <td>0</td>\n",
              "      <td>0</td>\n",
              "      <td>0</td>\n",
              "      <td>0</td>\n",
              "      <td>0</td>\n",
              "      <td>0</td>\n",
              "      <td>0</td>\n",
              "      <td>0</td>\n",
              "      <td>0</td>\n",
              "      <td>0</td>\n",
              "      <td>0</td>\n",
              "      <td>1</td>\n",
              "      <td>0</td>\n",
              "    </tr>\n",
              "  </tbody>\n",
              "</table>\n",
              "<p>3833 rows × 22 columns</p>\n",
              "</div>"
            ],
            "text/plain": [
              "      Action  Adventure  Fantasy  ...  Music  Documentary  Film-Noir\n",
              "0          1          1        1  ...      0            0          0\n",
              "1          1          1        1  ...      0            0          0\n",
              "2          1          1        0  ...      0            0          0\n",
              "3          1          0        0  ...      0            0          0\n",
              "4          1          1        0  ...      0            0          0\n",
              "...      ...        ...      ...  ...    ...          ...        ...\n",
              "3828       0          0        0  ...      0            0          0\n",
              "3829       0          0        0  ...      0            0          0\n",
              "3830       1          0        0  ...      0            0          0\n",
              "3831       0          0        0  ...      0            0          0\n",
              "3832       0          0        0  ...      0            1          0\n",
              "\n",
              "[3833 rows x 22 columns]"
            ]
          },
          "metadata": {
            "tags": []
          },
          "execution_count": 23
        }
      ]
    },
    {
      "cell_type": "markdown",
      "metadata": {
        "id": "t1eH81x10_Iz"
      },
      "source": [
        "Drop the original genres column"
      ]
    },
    {
      "cell_type": "code",
      "metadata": {
        "id": "k0VyvFnqkfzI"
      },
      "source": [
        "data_categoric_cleaned = data_categoric_cleaned.drop(columns=['genres'])\n",
        "data_ready = data_categoric_cleaned"
      ],
      "execution_count": 24,
      "outputs": []
    },
    {
      "cell_type": "markdown",
      "metadata": {
        "id": "foelfQW1CAYm"
      },
      "source": [
        "#One hot encoding for content rating"
      ]
    },
    {
      "cell_type": "code",
      "metadata": {
        "colab": {
          "base_uri": "https://localhost:8080/",
          "height": 452
        },
        "id": "z3QMyxxJCJJv",
        "outputId": "7e9e6219-6026-4e7a-dce4-6b4188e5c647"
      },
      "source": [
        "content_rating = pd.get_dummies(data_ready.content_rating, prefix='content_rating')\n",
        "content_rating"
      ],
      "execution_count": 25,
      "outputs": [
        {
          "output_type": "execute_result",
          "data": {
            "text/html": [
              "<div>\n",
              "<style scoped>\n",
              "    .dataframe tbody tr th:only-of-type {\n",
              "        vertical-align: middle;\n",
              "    }\n",
              "\n",
              "    .dataframe tbody tr th {\n",
              "        vertical-align: top;\n",
              "    }\n",
              "\n",
              "    .dataframe thead th {\n",
              "        text-align: right;\n",
              "    }\n",
              "</style>\n",
              "<table border=\"1\" class=\"dataframe\">\n",
              "  <thead>\n",
              "    <tr style=\"text-align: right;\">\n",
              "      <th></th>\n",
              "      <th>content_rating_Approved</th>\n",
              "      <th>content_rating_G</th>\n",
              "      <th>content_rating_GP</th>\n",
              "      <th>content_rating_M</th>\n",
              "      <th>content_rating_NC-17</th>\n",
              "      <th>content_rating_Not Rated</th>\n",
              "      <th>content_rating_PG</th>\n",
              "      <th>content_rating_PG-13</th>\n",
              "      <th>content_rating_Passed</th>\n",
              "      <th>content_rating_R</th>\n",
              "      <th>content_rating_Unrated</th>\n",
              "      <th>content_rating_X</th>\n",
              "    </tr>\n",
              "  </thead>\n",
              "  <tbody>\n",
              "    <tr>\n",
              "      <th>0</th>\n",
              "      <td>0</td>\n",
              "      <td>0</td>\n",
              "      <td>0</td>\n",
              "      <td>0</td>\n",
              "      <td>0</td>\n",
              "      <td>0</td>\n",
              "      <td>0</td>\n",
              "      <td>1</td>\n",
              "      <td>0</td>\n",
              "      <td>0</td>\n",
              "      <td>0</td>\n",
              "      <td>0</td>\n",
              "    </tr>\n",
              "    <tr>\n",
              "      <th>1</th>\n",
              "      <td>0</td>\n",
              "      <td>0</td>\n",
              "      <td>0</td>\n",
              "      <td>0</td>\n",
              "      <td>0</td>\n",
              "      <td>0</td>\n",
              "      <td>0</td>\n",
              "      <td>1</td>\n",
              "      <td>0</td>\n",
              "      <td>0</td>\n",
              "      <td>0</td>\n",
              "      <td>0</td>\n",
              "    </tr>\n",
              "    <tr>\n",
              "      <th>2</th>\n",
              "      <td>0</td>\n",
              "      <td>0</td>\n",
              "      <td>0</td>\n",
              "      <td>0</td>\n",
              "      <td>0</td>\n",
              "      <td>0</td>\n",
              "      <td>0</td>\n",
              "      <td>1</td>\n",
              "      <td>0</td>\n",
              "      <td>0</td>\n",
              "      <td>0</td>\n",
              "      <td>0</td>\n",
              "    </tr>\n",
              "    <tr>\n",
              "      <th>3</th>\n",
              "      <td>0</td>\n",
              "      <td>0</td>\n",
              "      <td>0</td>\n",
              "      <td>0</td>\n",
              "      <td>0</td>\n",
              "      <td>0</td>\n",
              "      <td>0</td>\n",
              "      <td>1</td>\n",
              "      <td>0</td>\n",
              "      <td>0</td>\n",
              "      <td>0</td>\n",
              "      <td>0</td>\n",
              "    </tr>\n",
              "    <tr>\n",
              "      <th>4</th>\n",
              "      <td>0</td>\n",
              "      <td>0</td>\n",
              "      <td>0</td>\n",
              "      <td>0</td>\n",
              "      <td>0</td>\n",
              "      <td>0</td>\n",
              "      <td>0</td>\n",
              "      <td>1</td>\n",
              "      <td>0</td>\n",
              "      <td>0</td>\n",
              "      <td>0</td>\n",
              "      <td>0</td>\n",
              "    </tr>\n",
              "    <tr>\n",
              "      <th>...</th>\n",
              "      <td>...</td>\n",
              "      <td>...</td>\n",
              "      <td>...</td>\n",
              "      <td>...</td>\n",
              "      <td>...</td>\n",
              "      <td>...</td>\n",
              "      <td>...</td>\n",
              "      <td>...</td>\n",
              "      <td>...</td>\n",
              "      <td>...</td>\n",
              "      <td>...</td>\n",
              "      <td>...</td>\n",
              "    </tr>\n",
              "    <tr>\n",
              "      <th>3828</th>\n",
              "      <td>0</td>\n",
              "      <td>0</td>\n",
              "      <td>0</td>\n",
              "      <td>0</td>\n",
              "      <td>0</td>\n",
              "      <td>0</td>\n",
              "      <td>0</td>\n",
              "      <td>1</td>\n",
              "      <td>0</td>\n",
              "      <td>0</td>\n",
              "      <td>0</td>\n",
              "      <td>0</td>\n",
              "    </tr>\n",
              "    <tr>\n",
              "      <th>3829</th>\n",
              "      <td>0</td>\n",
              "      <td>0</td>\n",
              "      <td>0</td>\n",
              "      <td>0</td>\n",
              "      <td>0</td>\n",
              "      <td>1</td>\n",
              "      <td>0</td>\n",
              "      <td>0</td>\n",
              "      <td>0</td>\n",
              "      <td>0</td>\n",
              "      <td>0</td>\n",
              "      <td>0</td>\n",
              "    </tr>\n",
              "    <tr>\n",
              "      <th>3830</th>\n",
              "      <td>0</td>\n",
              "      <td>0</td>\n",
              "      <td>0</td>\n",
              "      <td>0</td>\n",
              "      <td>0</td>\n",
              "      <td>0</td>\n",
              "      <td>0</td>\n",
              "      <td>0</td>\n",
              "      <td>0</td>\n",
              "      <td>1</td>\n",
              "      <td>0</td>\n",
              "      <td>0</td>\n",
              "    </tr>\n",
              "    <tr>\n",
              "      <th>3831</th>\n",
              "      <td>0</td>\n",
              "      <td>0</td>\n",
              "      <td>0</td>\n",
              "      <td>0</td>\n",
              "      <td>0</td>\n",
              "      <td>1</td>\n",
              "      <td>0</td>\n",
              "      <td>0</td>\n",
              "      <td>0</td>\n",
              "      <td>0</td>\n",
              "      <td>0</td>\n",
              "      <td>0</td>\n",
              "    </tr>\n",
              "    <tr>\n",
              "      <th>3832</th>\n",
              "      <td>0</td>\n",
              "      <td>0</td>\n",
              "      <td>0</td>\n",
              "      <td>0</td>\n",
              "      <td>0</td>\n",
              "      <td>0</td>\n",
              "      <td>1</td>\n",
              "      <td>0</td>\n",
              "      <td>0</td>\n",
              "      <td>0</td>\n",
              "      <td>0</td>\n",
              "      <td>0</td>\n",
              "    </tr>\n",
              "  </tbody>\n",
              "</table>\n",
              "<p>3833 rows × 12 columns</p>\n",
              "</div>"
            ],
            "text/plain": [
              "      content_rating_Approved  ...  content_rating_X\n",
              "0                           0  ...                 0\n",
              "1                           0  ...                 0\n",
              "2                           0  ...                 0\n",
              "3                           0  ...                 0\n",
              "4                           0  ...                 0\n",
              "...                       ...  ...               ...\n",
              "3828                        0  ...                 0\n",
              "3829                        0  ...                 0\n",
              "3830                        0  ...                 0\n",
              "3831                        0  ...                 0\n",
              "3832                        0  ...                 0\n",
              "\n",
              "[3833 rows x 12 columns]"
            ]
          },
          "metadata": {
            "tags": []
          },
          "execution_count": 25
        }
      ]
    },
    {
      "cell_type": "code",
      "metadata": {
        "colab": {
          "base_uri": "https://localhost:8080/",
          "height": 636
        },
        "id": "n7Z2Nw-xDmnc",
        "outputId": "315ce706-d221-4484-ff23-5bb05250f2e2"
      },
      "source": [
        "data_ready= data_ready.drop('content_rating',axis = 1)\n",
        "data_ready = data_ready.join(content_rating)\n",
        "data_ready"
      ],
      "execution_count": 26,
      "outputs": [
        {
          "output_type": "execute_result",
          "data": {
            "text/html": [
              "<div>\n",
              "<style scoped>\n",
              "    .dataframe tbody tr th:only-of-type {\n",
              "        vertical-align: middle;\n",
              "    }\n",
              "\n",
              "    .dataframe tbody tr th {\n",
              "        vertical-align: top;\n",
              "    }\n",
              "\n",
              "    .dataframe thead th {\n",
              "        text-align: right;\n",
              "    }\n",
              "</style>\n",
              "<table border=\"1\" class=\"dataframe\">\n",
              "  <thead>\n",
              "    <tr style=\"text-align: right;\">\n",
              "      <th></th>\n",
              "      <th>director_name</th>\n",
              "      <th>num_critic_for_reviews</th>\n",
              "      <th>duration</th>\n",
              "      <th>director_facebook_likes</th>\n",
              "      <th>actor_3_facebook_likes</th>\n",
              "      <th>actor_2_name</th>\n",
              "      <th>actor_1_facebook_likes</th>\n",
              "      <th>gross</th>\n",
              "      <th>actor_1_name</th>\n",
              "      <th>num_voted_users</th>\n",
              "      <th>cast_total_facebook_likes</th>\n",
              "      <th>actor_3_name</th>\n",
              "      <th>budget</th>\n",
              "      <th>title_year</th>\n",
              "      <th>actor_2_facebook_likes</th>\n",
              "      <th>imdb_score</th>\n",
              "      <th>movie_facebook_likes</th>\n",
              "      <th>Action</th>\n",
              "      <th>Adventure</th>\n",
              "      <th>Fantasy</th>\n",
              "      <th>Sci-Fi</th>\n",
              "      <th>Thriller</th>\n",
              "      <th>Romance</th>\n",
              "      <th>Animation</th>\n",
              "      <th>Comedy</th>\n",
              "      <th>Family</th>\n",
              "      <th>Musical</th>\n",
              "      <th>Mystery</th>\n",
              "      <th>Western</th>\n",
              "      <th>Drama</th>\n",
              "      <th>History</th>\n",
              "      <th>Sport</th>\n",
              "      <th>Crime</th>\n",
              "      <th>Horror</th>\n",
              "      <th>War</th>\n",
              "      <th>Biography</th>\n",
              "      <th>Music</th>\n",
              "      <th>Documentary</th>\n",
              "      <th>Film-Noir</th>\n",
              "      <th>content_rating_Approved</th>\n",
              "      <th>content_rating_G</th>\n",
              "      <th>content_rating_GP</th>\n",
              "      <th>content_rating_M</th>\n",
              "      <th>content_rating_NC-17</th>\n",
              "      <th>content_rating_Not Rated</th>\n",
              "      <th>content_rating_PG</th>\n",
              "      <th>content_rating_PG-13</th>\n",
              "      <th>content_rating_Passed</th>\n",
              "      <th>content_rating_R</th>\n",
              "      <th>content_rating_Unrated</th>\n",
              "      <th>content_rating_X</th>\n",
              "    </tr>\n",
              "  </thead>\n",
              "  <tbody>\n",
              "    <tr>\n",
              "      <th>0</th>\n",
              "      <td>James Cameron</td>\n",
              "      <td>723.0</td>\n",
              "      <td>178.0</td>\n",
              "      <td>0.0</td>\n",
              "      <td>855.0</td>\n",
              "      <td>Joel David Moore</td>\n",
              "      <td>1000.0</td>\n",
              "      <td>760505847.0</td>\n",
              "      <td>CCH Pounder</td>\n",
              "      <td>886204</td>\n",
              "      <td>4834</td>\n",
              "      <td>Wes Studi</td>\n",
              "      <td>237000000.0</td>\n",
              "      <td>2009.0</td>\n",
              "      <td>936.0</td>\n",
              "      <td>7.9</td>\n",
              "      <td>33000</td>\n",
              "      <td>1</td>\n",
              "      <td>1</td>\n",
              "      <td>1</td>\n",
              "      <td>1</td>\n",
              "      <td>0</td>\n",
              "      <td>0</td>\n",
              "      <td>0</td>\n",
              "      <td>0</td>\n",
              "      <td>0</td>\n",
              "      <td>0</td>\n",
              "      <td>0</td>\n",
              "      <td>0</td>\n",
              "      <td>0</td>\n",
              "      <td>0</td>\n",
              "      <td>0</td>\n",
              "      <td>0</td>\n",
              "      <td>0</td>\n",
              "      <td>0</td>\n",
              "      <td>0</td>\n",
              "      <td>0</td>\n",
              "      <td>0</td>\n",
              "      <td>0</td>\n",
              "      <td>0</td>\n",
              "      <td>0</td>\n",
              "      <td>0</td>\n",
              "      <td>0</td>\n",
              "      <td>0</td>\n",
              "      <td>0</td>\n",
              "      <td>0</td>\n",
              "      <td>1</td>\n",
              "      <td>0</td>\n",
              "      <td>0</td>\n",
              "      <td>0</td>\n",
              "      <td>0</td>\n",
              "    </tr>\n",
              "    <tr>\n",
              "      <th>1</th>\n",
              "      <td>Gore Verbinski</td>\n",
              "      <td>302.0</td>\n",
              "      <td>169.0</td>\n",
              "      <td>563.0</td>\n",
              "      <td>1000.0</td>\n",
              "      <td>Orlando Bloom</td>\n",
              "      <td>40000.0</td>\n",
              "      <td>309404152.0</td>\n",
              "      <td>Johnny Depp</td>\n",
              "      <td>471220</td>\n",
              "      <td>48350</td>\n",
              "      <td>Jack Davenport</td>\n",
              "      <td>300000000.0</td>\n",
              "      <td>2007.0</td>\n",
              "      <td>5000.0</td>\n",
              "      <td>7.1</td>\n",
              "      <td>0</td>\n",
              "      <td>1</td>\n",
              "      <td>1</td>\n",
              "      <td>1</td>\n",
              "      <td>0</td>\n",
              "      <td>0</td>\n",
              "      <td>0</td>\n",
              "      <td>0</td>\n",
              "      <td>0</td>\n",
              "      <td>0</td>\n",
              "      <td>0</td>\n",
              "      <td>0</td>\n",
              "      <td>0</td>\n",
              "      <td>0</td>\n",
              "      <td>0</td>\n",
              "      <td>0</td>\n",
              "      <td>0</td>\n",
              "      <td>0</td>\n",
              "      <td>0</td>\n",
              "      <td>0</td>\n",
              "      <td>0</td>\n",
              "      <td>0</td>\n",
              "      <td>0</td>\n",
              "      <td>0</td>\n",
              "      <td>0</td>\n",
              "      <td>0</td>\n",
              "      <td>0</td>\n",
              "      <td>0</td>\n",
              "      <td>0</td>\n",
              "      <td>0</td>\n",
              "      <td>1</td>\n",
              "      <td>0</td>\n",
              "      <td>0</td>\n",
              "      <td>0</td>\n",
              "      <td>0</td>\n",
              "    </tr>\n",
              "    <tr>\n",
              "      <th>2</th>\n",
              "      <td>Sam Mendes</td>\n",
              "      <td>602.0</td>\n",
              "      <td>148.0</td>\n",
              "      <td>0.0</td>\n",
              "      <td>161.0</td>\n",
              "      <td>Rory Kinnear</td>\n",
              "      <td>11000.0</td>\n",
              "      <td>200074175.0</td>\n",
              "      <td>Christoph Waltz</td>\n",
              "      <td>275868</td>\n",
              "      <td>11700</td>\n",
              "      <td>Stephanie Sigman</td>\n",
              "      <td>245000000.0</td>\n",
              "      <td>2015.0</td>\n",
              "      <td>393.0</td>\n",
              "      <td>6.8</td>\n",
              "      <td>85000</td>\n",
              "      <td>1</td>\n",
              "      <td>1</td>\n",
              "      <td>0</td>\n",
              "      <td>0</td>\n",
              "      <td>1</td>\n",
              "      <td>0</td>\n",
              "      <td>0</td>\n",
              "      <td>0</td>\n",
              "      <td>0</td>\n",
              "      <td>0</td>\n",
              "      <td>0</td>\n",
              "      <td>0</td>\n",
              "      <td>0</td>\n",
              "      <td>0</td>\n",
              "      <td>0</td>\n",
              "      <td>0</td>\n",
              "      <td>0</td>\n",
              "      <td>0</td>\n",
              "      <td>0</td>\n",
              "      <td>0</td>\n",
              "      <td>0</td>\n",
              "      <td>0</td>\n",
              "      <td>0</td>\n",
              "      <td>0</td>\n",
              "      <td>0</td>\n",
              "      <td>0</td>\n",
              "      <td>0</td>\n",
              "      <td>0</td>\n",
              "      <td>0</td>\n",
              "      <td>1</td>\n",
              "      <td>0</td>\n",
              "      <td>0</td>\n",
              "      <td>0</td>\n",
              "      <td>0</td>\n",
              "    </tr>\n",
              "    <tr>\n",
              "      <th>3</th>\n",
              "      <td>Christopher Nolan</td>\n",
              "      <td>813.0</td>\n",
              "      <td>164.0</td>\n",
              "      <td>22000.0</td>\n",
              "      <td>23000.0</td>\n",
              "      <td>Christian Bale</td>\n",
              "      <td>27000.0</td>\n",
              "      <td>448130642.0</td>\n",
              "      <td>Tom Hardy</td>\n",
              "      <td>1144337</td>\n",
              "      <td>106759</td>\n",
              "      <td>Joseph Gordon-Levitt</td>\n",
              "      <td>250000000.0</td>\n",
              "      <td>2012.0</td>\n",
              "      <td>23000.0</td>\n",
              "      <td>8.5</td>\n",
              "      <td>164000</td>\n",
              "      <td>1</td>\n",
              "      <td>0</td>\n",
              "      <td>0</td>\n",
              "      <td>0</td>\n",
              "      <td>1</td>\n",
              "      <td>0</td>\n",
              "      <td>0</td>\n",
              "      <td>0</td>\n",
              "      <td>0</td>\n",
              "      <td>0</td>\n",
              "      <td>0</td>\n",
              "      <td>0</td>\n",
              "      <td>0</td>\n",
              "      <td>0</td>\n",
              "      <td>0</td>\n",
              "      <td>0</td>\n",
              "      <td>0</td>\n",
              "      <td>0</td>\n",
              "      <td>0</td>\n",
              "      <td>0</td>\n",
              "      <td>0</td>\n",
              "      <td>0</td>\n",
              "      <td>0</td>\n",
              "      <td>0</td>\n",
              "      <td>0</td>\n",
              "      <td>0</td>\n",
              "      <td>0</td>\n",
              "      <td>0</td>\n",
              "      <td>0</td>\n",
              "      <td>1</td>\n",
              "      <td>0</td>\n",
              "      <td>0</td>\n",
              "      <td>0</td>\n",
              "      <td>0</td>\n",
              "    </tr>\n",
              "    <tr>\n",
              "      <th>4</th>\n",
              "      <td>Andrew Stanton</td>\n",
              "      <td>462.0</td>\n",
              "      <td>132.0</td>\n",
              "      <td>475.0</td>\n",
              "      <td>530.0</td>\n",
              "      <td>Samantha Morton</td>\n",
              "      <td>640.0</td>\n",
              "      <td>73058679.0</td>\n",
              "      <td>Daryl Sabara</td>\n",
              "      <td>212204</td>\n",
              "      <td>1873</td>\n",
              "      <td>Polly Walker</td>\n",
              "      <td>263700000.0</td>\n",
              "      <td>2012.0</td>\n",
              "      <td>632.0</td>\n",
              "      <td>6.6</td>\n",
              "      <td>24000</td>\n",
              "      <td>1</td>\n",
              "      <td>1</td>\n",
              "      <td>0</td>\n",
              "      <td>1</td>\n",
              "      <td>0</td>\n",
              "      <td>0</td>\n",
              "      <td>0</td>\n",
              "      <td>0</td>\n",
              "      <td>0</td>\n",
              "      <td>0</td>\n",
              "      <td>0</td>\n",
              "      <td>0</td>\n",
              "      <td>0</td>\n",
              "      <td>0</td>\n",
              "      <td>0</td>\n",
              "      <td>0</td>\n",
              "      <td>0</td>\n",
              "      <td>0</td>\n",
              "      <td>0</td>\n",
              "      <td>0</td>\n",
              "      <td>0</td>\n",
              "      <td>0</td>\n",
              "      <td>0</td>\n",
              "      <td>0</td>\n",
              "      <td>0</td>\n",
              "      <td>0</td>\n",
              "      <td>0</td>\n",
              "      <td>0</td>\n",
              "      <td>0</td>\n",
              "      <td>1</td>\n",
              "      <td>0</td>\n",
              "      <td>0</td>\n",
              "      <td>0</td>\n",
              "      <td>0</td>\n",
              "    </tr>\n",
              "    <tr>\n",
              "      <th>...</th>\n",
              "      <td>...</td>\n",
              "      <td>...</td>\n",
              "      <td>...</td>\n",
              "      <td>...</td>\n",
              "      <td>...</td>\n",
              "      <td>...</td>\n",
              "      <td>...</td>\n",
              "      <td>...</td>\n",
              "      <td>...</td>\n",
              "      <td>...</td>\n",
              "      <td>...</td>\n",
              "      <td>...</td>\n",
              "      <td>...</td>\n",
              "      <td>...</td>\n",
              "      <td>...</td>\n",
              "      <td>...</td>\n",
              "      <td>...</td>\n",
              "      <td>...</td>\n",
              "      <td>...</td>\n",
              "      <td>...</td>\n",
              "      <td>...</td>\n",
              "      <td>...</td>\n",
              "      <td>...</td>\n",
              "      <td>...</td>\n",
              "      <td>...</td>\n",
              "      <td>...</td>\n",
              "      <td>...</td>\n",
              "      <td>...</td>\n",
              "      <td>...</td>\n",
              "      <td>...</td>\n",
              "      <td>...</td>\n",
              "      <td>...</td>\n",
              "      <td>...</td>\n",
              "      <td>...</td>\n",
              "      <td>...</td>\n",
              "      <td>...</td>\n",
              "      <td>...</td>\n",
              "      <td>...</td>\n",
              "      <td>...</td>\n",
              "      <td>...</td>\n",
              "      <td>...</td>\n",
              "      <td>...</td>\n",
              "      <td>...</td>\n",
              "      <td>...</td>\n",
              "      <td>...</td>\n",
              "      <td>...</td>\n",
              "      <td>...</td>\n",
              "      <td>...</td>\n",
              "      <td>...</td>\n",
              "      <td>...</td>\n",
              "      <td>...</td>\n",
              "    </tr>\n",
              "    <tr>\n",
              "      <th>3828</th>\n",
              "      <td>Shane Carruth</td>\n",
              "      <td>143.0</td>\n",
              "      <td>77.0</td>\n",
              "      <td>291.0</td>\n",
              "      <td>8.0</td>\n",
              "      <td>David Sullivan</td>\n",
              "      <td>291.0</td>\n",
              "      <td>424760.0</td>\n",
              "      <td>Shane Carruth</td>\n",
              "      <td>72639</td>\n",
              "      <td>368</td>\n",
              "      <td>Casey Gooden</td>\n",
              "      <td>7000.0</td>\n",
              "      <td>2004.0</td>\n",
              "      <td>45.0</td>\n",
              "      <td>7.0</td>\n",
              "      <td>19000</td>\n",
              "      <td>0</td>\n",
              "      <td>0</td>\n",
              "      <td>0</td>\n",
              "      <td>1</td>\n",
              "      <td>1</td>\n",
              "      <td>0</td>\n",
              "      <td>0</td>\n",
              "      <td>0</td>\n",
              "      <td>0</td>\n",
              "      <td>0</td>\n",
              "      <td>0</td>\n",
              "      <td>0</td>\n",
              "      <td>1</td>\n",
              "      <td>0</td>\n",
              "      <td>0</td>\n",
              "      <td>0</td>\n",
              "      <td>0</td>\n",
              "      <td>0</td>\n",
              "      <td>0</td>\n",
              "      <td>0</td>\n",
              "      <td>0</td>\n",
              "      <td>0</td>\n",
              "      <td>0</td>\n",
              "      <td>0</td>\n",
              "      <td>0</td>\n",
              "      <td>0</td>\n",
              "      <td>0</td>\n",
              "      <td>0</td>\n",
              "      <td>0</td>\n",
              "      <td>1</td>\n",
              "      <td>0</td>\n",
              "      <td>0</td>\n",
              "      <td>0</td>\n",
              "      <td>0</td>\n",
              "    </tr>\n",
              "    <tr>\n",
              "      <th>3829</th>\n",
              "      <td>Neill Dela Llana</td>\n",
              "      <td>35.0</td>\n",
              "      <td>80.0</td>\n",
              "      <td>0.0</td>\n",
              "      <td>0.0</td>\n",
              "      <td>Edgar Tancangco</td>\n",
              "      <td>0.0</td>\n",
              "      <td>70071.0</td>\n",
              "      <td>Ian Gamazon</td>\n",
              "      <td>589</td>\n",
              "      <td>0</td>\n",
              "      <td>Quynn Ton</td>\n",
              "      <td>7000.0</td>\n",
              "      <td>2005.0</td>\n",
              "      <td>0.0</td>\n",
              "      <td>6.3</td>\n",
              "      <td>74</td>\n",
              "      <td>0</td>\n",
              "      <td>0</td>\n",
              "      <td>0</td>\n",
              "      <td>0</td>\n",
              "      <td>1</td>\n",
              "      <td>0</td>\n",
              "      <td>0</td>\n",
              "      <td>0</td>\n",
              "      <td>0</td>\n",
              "      <td>0</td>\n",
              "      <td>0</td>\n",
              "      <td>0</td>\n",
              "      <td>0</td>\n",
              "      <td>0</td>\n",
              "      <td>0</td>\n",
              "      <td>0</td>\n",
              "      <td>0</td>\n",
              "      <td>0</td>\n",
              "      <td>0</td>\n",
              "      <td>0</td>\n",
              "      <td>0</td>\n",
              "      <td>0</td>\n",
              "      <td>0</td>\n",
              "      <td>0</td>\n",
              "      <td>0</td>\n",
              "      <td>0</td>\n",
              "      <td>0</td>\n",
              "      <td>1</td>\n",
              "      <td>0</td>\n",
              "      <td>0</td>\n",
              "      <td>0</td>\n",
              "      <td>0</td>\n",
              "      <td>0</td>\n",
              "      <td>0</td>\n",
              "    </tr>\n",
              "    <tr>\n",
              "      <th>3830</th>\n",
              "      <td>Robert Rodriguez</td>\n",
              "      <td>56.0</td>\n",
              "      <td>81.0</td>\n",
              "      <td>0.0</td>\n",
              "      <td>6.0</td>\n",
              "      <td>Peter Marquardt</td>\n",
              "      <td>121.0</td>\n",
              "      <td>2040920.0</td>\n",
              "      <td>Carlos Gallardo</td>\n",
              "      <td>52055</td>\n",
              "      <td>147</td>\n",
              "      <td>Consuelo Gómez</td>\n",
              "      <td>7000.0</td>\n",
              "      <td>1992.0</td>\n",
              "      <td>20.0</td>\n",
              "      <td>6.9</td>\n",
              "      <td>0</td>\n",
              "      <td>1</td>\n",
              "      <td>0</td>\n",
              "      <td>0</td>\n",
              "      <td>0</td>\n",
              "      <td>1</td>\n",
              "      <td>1</td>\n",
              "      <td>0</td>\n",
              "      <td>0</td>\n",
              "      <td>0</td>\n",
              "      <td>0</td>\n",
              "      <td>0</td>\n",
              "      <td>0</td>\n",
              "      <td>1</td>\n",
              "      <td>0</td>\n",
              "      <td>0</td>\n",
              "      <td>1</td>\n",
              "      <td>0</td>\n",
              "      <td>0</td>\n",
              "      <td>0</td>\n",
              "      <td>0</td>\n",
              "      <td>0</td>\n",
              "      <td>0</td>\n",
              "      <td>0</td>\n",
              "      <td>0</td>\n",
              "      <td>0</td>\n",
              "      <td>0</td>\n",
              "      <td>0</td>\n",
              "      <td>0</td>\n",
              "      <td>0</td>\n",
              "      <td>0</td>\n",
              "      <td>0</td>\n",
              "      <td>1</td>\n",
              "      <td>0</td>\n",
              "      <td>0</td>\n",
              "    </tr>\n",
              "    <tr>\n",
              "      <th>3831</th>\n",
              "      <td>Edward Burns</td>\n",
              "      <td>14.0</td>\n",
              "      <td>95.0</td>\n",
              "      <td>0.0</td>\n",
              "      <td>133.0</td>\n",
              "      <td>Caitlin FitzGerald</td>\n",
              "      <td>296.0</td>\n",
              "      <td>4584.0</td>\n",
              "      <td>Kerry Bishé</td>\n",
              "      <td>1338</td>\n",
              "      <td>690</td>\n",
              "      <td>Daniella Pineda</td>\n",
              "      <td>9000.0</td>\n",
              "      <td>2011.0</td>\n",
              "      <td>205.0</td>\n",
              "      <td>6.4</td>\n",
              "      <td>413</td>\n",
              "      <td>0</td>\n",
              "      <td>0</td>\n",
              "      <td>0</td>\n",
              "      <td>0</td>\n",
              "      <td>0</td>\n",
              "      <td>0</td>\n",
              "      <td>0</td>\n",
              "      <td>1</td>\n",
              "      <td>0</td>\n",
              "      <td>0</td>\n",
              "      <td>0</td>\n",
              "      <td>0</td>\n",
              "      <td>1</td>\n",
              "      <td>0</td>\n",
              "      <td>0</td>\n",
              "      <td>0</td>\n",
              "      <td>0</td>\n",
              "      <td>0</td>\n",
              "      <td>0</td>\n",
              "      <td>0</td>\n",
              "      <td>0</td>\n",
              "      <td>0</td>\n",
              "      <td>0</td>\n",
              "      <td>0</td>\n",
              "      <td>0</td>\n",
              "      <td>0</td>\n",
              "      <td>0</td>\n",
              "      <td>1</td>\n",
              "      <td>0</td>\n",
              "      <td>0</td>\n",
              "      <td>0</td>\n",
              "      <td>0</td>\n",
              "      <td>0</td>\n",
              "      <td>0</td>\n",
              "    </tr>\n",
              "    <tr>\n",
              "      <th>3832</th>\n",
              "      <td>Jon Gunn</td>\n",
              "      <td>43.0</td>\n",
              "      <td>90.0</td>\n",
              "      <td>16.0</td>\n",
              "      <td>16.0</td>\n",
              "      <td>Brian Herzlinger</td>\n",
              "      <td>86.0</td>\n",
              "      <td>85222.0</td>\n",
              "      <td>John August</td>\n",
              "      <td>4285</td>\n",
              "      <td>163</td>\n",
              "      <td>Jon Gunn</td>\n",
              "      <td>1100.0</td>\n",
              "      <td>2004.0</td>\n",
              "      <td>23.0</td>\n",
              "      <td>6.6</td>\n",
              "      <td>456</td>\n",
              "      <td>0</td>\n",
              "      <td>0</td>\n",
              "      <td>0</td>\n",
              "      <td>0</td>\n",
              "      <td>0</td>\n",
              "      <td>0</td>\n",
              "      <td>0</td>\n",
              "      <td>0</td>\n",
              "      <td>0</td>\n",
              "      <td>0</td>\n",
              "      <td>0</td>\n",
              "      <td>0</td>\n",
              "      <td>0</td>\n",
              "      <td>0</td>\n",
              "      <td>0</td>\n",
              "      <td>0</td>\n",
              "      <td>0</td>\n",
              "      <td>0</td>\n",
              "      <td>0</td>\n",
              "      <td>0</td>\n",
              "      <td>1</td>\n",
              "      <td>0</td>\n",
              "      <td>0</td>\n",
              "      <td>0</td>\n",
              "      <td>0</td>\n",
              "      <td>0</td>\n",
              "      <td>0</td>\n",
              "      <td>0</td>\n",
              "      <td>1</td>\n",
              "      <td>0</td>\n",
              "      <td>0</td>\n",
              "      <td>0</td>\n",
              "      <td>0</td>\n",
              "      <td>0</td>\n",
              "    </tr>\n",
              "  </tbody>\n",
              "</table>\n",
              "<p>3833 rows × 51 columns</p>\n",
              "</div>"
            ],
            "text/plain": [
              "          director_name  ...  content_rating_X\n",
              "0         James Cameron  ...                 0\n",
              "1        Gore Verbinski  ...                 0\n",
              "2            Sam Mendes  ...                 0\n",
              "3     Christopher Nolan  ...                 0\n",
              "4        Andrew Stanton  ...                 0\n",
              "...                 ...  ...               ...\n",
              "3828      Shane Carruth  ...                 0\n",
              "3829   Neill Dela Llana  ...                 0\n",
              "3830   Robert Rodriguez  ...                 0\n",
              "3831       Edward Burns  ...                 0\n",
              "3832           Jon Gunn  ...                 0\n",
              "\n",
              "[3833 rows x 51 columns]"
            ]
          },
          "metadata": {
            "tags": []
          },
          "execution_count": 26
        }
      ]
    },
    {
      "cell_type": "markdown",
      "metadata": {
        "id": "qms5gLrg1aQ5"
      },
      "source": [
        "#Directors and Actors"
      ]
    },
    {
      "cell_type": "markdown",
      "metadata": {
        "id": "NsdYsDNE1dXY"
      },
      "source": [
        "As I mentioned before, directors and actors have hugh influence on movies' quality. We surely don't want to drop these variables. But we have thounds of labels and one-hot coding won't going to make it. \n",
        "<br>As a result, I will replace their name by average imdb score of their works. And this number would represent their influence on movies' quality. <br>However, it happens when an actor only starred in one movie and it has a pretty high rating, while he is not acutally famous and make contribute to that fancy score. Thus, I will only consider the popular ones, that is, Top 50 for directors and Top 150 for actors. Other people would only get a overall average imdb score."
      ]
    },
    {
      "cell_type": "code",
      "metadata": {
        "id": "WHecpzAt3HlP",
        "outputId": "f6564696-6e41-42bf-a783-e2afc67b5cdd",
        "colab": {
          "base_uri": "https://localhost:8080/"
        }
      },
      "source": [
        "director = data_ready.groupby('director_name').size().sort_values(ascending=False).head(50)\n",
        "name_list = director.index.tolist()\n",
        "average = {}\n",
        "for i in name_list:\n",
        "  sum = data_ready['imdb_score'][data_ready['director_name'] == i].sum()  \n",
        "  average[i] = sum/director[i]\n",
        "imdb_average = data_ready['imdb_score'].mean()\n",
        "score_column = [imdb_average]*len(data_ready)\n",
        "data_ready['director_score'] = score_column\n",
        "for i in range(len(data_ready)):\n",
        "  if data_ready['director_name'][i] in name_list:\n",
        "    data_ready['director_score'][i] = average[data_ready['director_name'][i]]"
      ],
      "execution_count": 51,
      "outputs": [
        {
          "output_type": "stream",
          "text": [
            "/usr/local/lib/python3.7/dist-packages/ipykernel_launcher.py:12: SettingWithCopyWarning: \n",
            "A value is trying to be set on a copy of a slice from a DataFrame\n",
            "\n",
            "See the caveats in the documentation: https://pandas.pydata.org/pandas-docs/stable/user_guide/indexing.html#returning-a-view-versus-a-copy\n",
            "  if sys.path[0] == '':\n"
          ],
          "name": "stderr"
        }
      ]
    },
    {
      "cell_type": "code",
      "metadata": {
        "colab": {
          "base_uri": "https://localhost:8080/"
        },
        "id": "eLg7Anyr7PwN",
        "outputId": "234b2d0f-06bd-4a1c-9582-0cf02174cd33"
      },
      "source": [
        "df1 = data_ready[['actor_1_name','imdb_score']]\n",
        "df2 = data_ready[['actor_2_name','imdb_score']]\n",
        "df3 = data_ready[['actor_3_name','imdb_score']]\n",
        "df1.columns = ['name','imdb_score']\n",
        "df2.columns = ['name','imdb_score']\n",
        "df3.columns = ['name','imdb_score']\n",
        "\n",
        "actor_concat = pd.concat([df1,df2,df3],axis = 0)\n",
        "actor = actor_concat.groupby('name').size().sort_values(ascending=False).head(150)\n",
        "actor"
      ],
      "execution_count": 52,
      "outputs": [
        {
          "output_type": "execute_result",
          "data": {
            "text/plain": [
              "name\n",
              "Robert De Niro          47\n",
              "Morgan Freeman          44\n",
              "Johnny Depp             39\n",
              "Bruce Willis            39\n",
              "Matt Damon              35\n",
              "                        ..\n",
              "David Oyelowo           11\n",
              "Kristin Scott Thomas    11\n",
              "Tom Hardy               11\n",
              "Nathan Lane             11\n",
              "Romany Malco            10\n",
              "Length: 150, dtype: int64"
            ]
          },
          "metadata": {
            "tags": []
          },
          "execution_count": 52
        }
      ]
    },
    {
      "cell_type": "code",
      "metadata": {
        "id": "8QHs171R4-hJ",
        "outputId": "9ce09619-bfd0-4ab5-d8dd-730bda499182",
        "colab": {
          "base_uri": "https://localhost:8080/"
        }
      },
      "source": [
        "name_list = actor.index.tolist()\n",
        "average = {}\n",
        "for i in name_list:\n",
        "  sum = actor_concat['imdb_score'][actor_concat['name'] == i].sum()  \n",
        "  average[i] = sum/actor[i]\n",
        "imdb_average = data_ready['imdb_score'].mean()\n",
        "score_column = [imdb_average]*len(data_ready)\n",
        "data_ready['actor_1_score'] = score_column\n",
        "data_ready['actor_2_score'] = score_column\n",
        "data_ready['actor_3_score'] = score_column\n",
        "for i in range(len(data_ready)):\n",
        "  if data_ready['actor_1_name'][i] in name_list:\n",
        "    data_ready['actor_1_score'][i] = average[data_ready['actor_1_name'][i]]\n",
        "for i in range(len(data_ready)):\n",
        "  if data_ready['actor_2_name'][i] in name_list:\n",
        "    data_ready['actor_2_score'][i] = average[data_ready['actor_2_name'][i]]\n",
        "for i in range(len(data_ready)):\n",
        "  if data_ready['actor_3_name'][i] in name_list:\n",
        "    data_ready['actor_3_score'][i] = average[data_ready['actor_3_name'][i]]\n",
        "data_finished = data_ready.drop(columns=['director_name','actor_1_name','actor_2_name','actor_3_name'])"
      ],
      "execution_count": 53,
      "outputs": [
        {
          "output_type": "stream",
          "text": [
            "/usr/local/lib/python3.7/dist-packages/ipykernel_launcher.py:13: SettingWithCopyWarning: \n",
            "A value is trying to be set on a copy of a slice from a DataFrame\n",
            "\n",
            "See the caveats in the documentation: https://pandas.pydata.org/pandas-docs/stable/user_guide/indexing.html#returning-a-view-versus-a-copy\n",
            "  del sys.path[0]\n",
            "/usr/local/lib/python3.7/dist-packages/ipykernel_launcher.py:16: SettingWithCopyWarning: \n",
            "A value is trying to be set on a copy of a slice from a DataFrame\n",
            "\n",
            "See the caveats in the documentation: https://pandas.pydata.org/pandas-docs/stable/user_guide/indexing.html#returning-a-view-versus-a-copy\n",
            "  app.launch_new_instance()\n",
            "/usr/local/lib/python3.7/dist-packages/ipykernel_launcher.py:19: SettingWithCopyWarning: \n",
            "A value is trying to be set on a copy of a slice from a DataFrame\n",
            "\n",
            "See the caveats in the documentation: https://pandas.pydata.org/pandas-docs/stable/user_guide/indexing.html#returning-a-view-versus-a-copy\n"
          ],
          "name": "stderr"
        }
      ]
    },
    {
      "cell_type": "code",
      "metadata": {
        "colab": {
          "base_uri": "https://localhost:8080/",
          "height": 452
        },
        "id": "Bremeny1AAEn",
        "outputId": "fab13adb-0f51-44c4-a4db-008b9ad75504"
      },
      "source": [
        "data_finished"
      ],
      "execution_count": 54,
      "outputs": [
        {
          "output_type": "execute_result",
          "data": {
            "text/html": [
              "<div>\n",
              "<style scoped>\n",
              "    .dataframe tbody tr th:only-of-type {\n",
              "        vertical-align: middle;\n",
              "    }\n",
              "\n",
              "    .dataframe tbody tr th {\n",
              "        vertical-align: top;\n",
              "    }\n",
              "\n",
              "    .dataframe thead th {\n",
              "        text-align: right;\n",
              "    }\n",
              "</style>\n",
              "<table border=\"1\" class=\"dataframe\">\n",
              "  <thead>\n",
              "    <tr style=\"text-align: right;\">\n",
              "      <th></th>\n",
              "      <th>num_critic_for_reviews</th>\n",
              "      <th>duration</th>\n",
              "      <th>director_facebook_likes</th>\n",
              "      <th>actor_3_facebook_likes</th>\n",
              "      <th>actor_1_facebook_likes</th>\n",
              "      <th>gross</th>\n",
              "      <th>num_voted_users</th>\n",
              "      <th>cast_total_facebook_likes</th>\n",
              "      <th>budget</th>\n",
              "      <th>title_year</th>\n",
              "      <th>actor_2_facebook_likes</th>\n",
              "      <th>imdb_score</th>\n",
              "      <th>movie_facebook_likes</th>\n",
              "      <th>Action</th>\n",
              "      <th>Adventure</th>\n",
              "      <th>Fantasy</th>\n",
              "      <th>Sci-Fi</th>\n",
              "      <th>Thriller</th>\n",
              "      <th>Romance</th>\n",
              "      <th>Animation</th>\n",
              "      <th>Comedy</th>\n",
              "      <th>Family</th>\n",
              "      <th>Musical</th>\n",
              "      <th>Mystery</th>\n",
              "      <th>Western</th>\n",
              "      <th>Drama</th>\n",
              "      <th>History</th>\n",
              "      <th>Sport</th>\n",
              "      <th>Crime</th>\n",
              "      <th>Horror</th>\n",
              "      <th>War</th>\n",
              "      <th>Biography</th>\n",
              "      <th>Music</th>\n",
              "      <th>Documentary</th>\n",
              "      <th>Film-Noir</th>\n",
              "      <th>content_rating_Approved</th>\n",
              "      <th>content_rating_G</th>\n",
              "      <th>content_rating_GP</th>\n",
              "      <th>content_rating_M</th>\n",
              "      <th>content_rating_NC-17</th>\n",
              "      <th>content_rating_Not Rated</th>\n",
              "      <th>content_rating_PG</th>\n",
              "      <th>content_rating_PG-13</th>\n",
              "      <th>content_rating_Passed</th>\n",
              "      <th>content_rating_R</th>\n",
              "      <th>content_rating_Unrated</th>\n",
              "      <th>content_rating_X</th>\n",
              "      <th>director_score</th>\n",
              "      <th>actor_1_score</th>\n",
              "      <th>actor_2_score</th>\n",
              "      <th>actor_3_score</th>\n",
              "    </tr>\n",
              "  </thead>\n",
              "  <tbody>\n",
              "    <tr>\n",
              "      <th>0</th>\n",
              "      <td>723.0</td>\n",
              "      <td>178.0</td>\n",
              "      <td>0.0</td>\n",
              "      <td>855.0</td>\n",
              "      <td>1000.0</td>\n",
              "      <td>760505847.0</td>\n",
              "      <td>886204</td>\n",
              "      <td>4834</td>\n",
              "      <td>237000000.0</td>\n",
              "      <td>2009.0</td>\n",
              "      <td>936.0</td>\n",
              "      <td>7.9</td>\n",
              "      <td>33000</td>\n",
              "      <td>1</td>\n",
              "      <td>1</td>\n",
              "      <td>1</td>\n",
              "      <td>1</td>\n",
              "      <td>0</td>\n",
              "      <td>0</td>\n",
              "      <td>0</td>\n",
              "      <td>0</td>\n",
              "      <td>0</td>\n",
              "      <td>0</td>\n",
              "      <td>0</td>\n",
              "      <td>0</td>\n",
              "      <td>0</td>\n",
              "      <td>0</td>\n",
              "      <td>0</td>\n",
              "      <td>0</td>\n",
              "      <td>0</td>\n",
              "      <td>0</td>\n",
              "      <td>0</td>\n",
              "      <td>0</td>\n",
              "      <td>0</td>\n",
              "      <td>0</td>\n",
              "      <td>0</td>\n",
              "      <td>0</td>\n",
              "      <td>0</td>\n",
              "      <td>0</td>\n",
              "      <td>0</td>\n",
              "      <td>0</td>\n",
              "      <td>0</td>\n",
              "      <td>1</td>\n",
              "      <td>0</td>\n",
              "      <td>0</td>\n",
              "      <td>0</td>\n",
              "      <td>0</td>\n",
              "      <td>6.459144</td>\n",
              "      <td>6.459144</td>\n",
              "      <td>6.459144</td>\n",
              "      <td>6.459144</td>\n",
              "    </tr>\n",
              "    <tr>\n",
              "      <th>1</th>\n",
              "      <td>302.0</td>\n",
              "      <td>169.0</td>\n",
              "      <td>563.0</td>\n",
              "      <td>1000.0</td>\n",
              "      <td>40000.0</td>\n",
              "      <td>309404152.0</td>\n",
              "      <td>471220</td>\n",
              "      <td>48350</td>\n",
              "      <td>300000000.0</td>\n",
              "      <td>2007.0</td>\n",
              "      <td>5000.0</td>\n",
              "      <td>7.1</td>\n",
              "      <td>0</td>\n",
              "      <td>1</td>\n",
              "      <td>1</td>\n",
              "      <td>1</td>\n",
              "      <td>0</td>\n",
              "      <td>0</td>\n",
              "      <td>0</td>\n",
              "      <td>0</td>\n",
              "      <td>0</td>\n",
              "      <td>0</td>\n",
              "      <td>0</td>\n",
              "      <td>0</td>\n",
              "      <td>0</td>\n",
              "      <td>0</td>\n",
              "      <td>0</td>\n",
              "      <td>0</td>\n",
              "      <td>0</td>\n",
              "      <td>0</td>\n",
              "      <td>0</td>\n",
              "      <td>0</td>\n",
              "      <td>0</td>\n",
              "      <td>0</td>\n",
              "      <td>0</td>\n",
              "      <td>0</td>\n",
              "      <td>0</td>\n",
              "      <td>0</td>\n",
              "      <td>0</td>\n",
              "      <td>0</td>\n",
              "      <td>0</td>\n",
              "      <td>0</td>\n",
              "      <td>1</td>\n",
              "      <td>0</td>\n",
              "      <td>0</td>\n",
              "      <td>0</td>\n",
              "      <td>0</td>\n",
              "      <td>6.459144</td>\n",
              "      <td>6.794872</td>\n",
              "      <td>6.459144</td>\n",
              "      <td>6.459144</td>\n",
              "    </tr>\n",
              "    <tr>\n",
              "      <th>2</th>\n",
              "      <td>602.0</td>\n",
              "      <td>148.0</td>\n",
              "      <td>0.0</td>\n",
              "      <td>161.0</td>\n",
              "      <td>11000.0</td>\n",
              "      <td>200074175.0</td>\n",
              "      <td>275868</td>\n",
              "      <td>11700</td>\n",
              "      <td>245000000.0</td>\n",
              "      <td>2015.0</td>\n",
              "      <td>393.0</td>\n",
              "      <td>6.8</td>\n",
              "      <td>85000</td>\n",
              "      <td>1</td>\n",
              "      <td>1</td>\n",
              "      <td>0</td>\n",
              "      <td>0</td>\n",
              "      <td>1</td>\n",
              "      <td>0</td>\n",
              "      <td>0</td>\n",
              "      <td>0</td>\n",
              "      <td>0</td>\n",
              "      <td>0</td>\n",
              "      <td>0</td>\n",
              "      <td>0</td>\n",
              "      <td>0</td>\n",
              "      <td>0</td>\n",
              "      <td>0</td>\n",
              "      <td>0</td>\n",
              "      <td>0</td>\n",
              "      <td>0</td>\n",
              "      <td>0</td>\n",
              "      <td>0</td>\n",
              "      <td>0</td>\n",
              "      <td>0</td>\n",
              "      <td>0</td>\n",
              "      <td>0</td>\n",
              "      <td>0</td>\n",
              "      <td>0</td>\n",
              "      <td>0</td>\n",
              "      <td>0</td>\n",
              "      <td>0</td>\n",
              "      <td>1</td>\n",
              "      <td>0</td>\n",
              "      <td>0</td>\n",
              "      <td>0</td>\n",
              "      <td>0</td>\n",
              "      <td>6.459144</td>\n",
              "      <td>6.459144</td>\n",
              "      <td>6.459144</td>\n",
              "      <td>6.459144</td>\n",
              "    </tr>\n",
              "    <tr>\n",
              "      <th>3</th>\n",
              "      <td>813.0</td>\n",
              "      <td>164.0</td>\n",
              "      <td>22000.0</td>\n",
              "      <td>23000.0</td>\n",
              "      <td>27000.0</td>\n",
              "      <td>448130642.0</td>\n",
              "      <td>1144337</td>\n",
              "      <td>106759</td>\n",
              "      <td>250000000.0</td>\n",
              "      <td>2012.0</td>\n",
              "      <td>23000.0</td>\n",
              "      <td>8.5</td>\n",
              "      <td>164000</td>\n",
              "      <td>1</td>\n",
              "      <td>0</td>\n",
              "      <td>0</td>\n",
              "      <td>0</td>\n",
              "      <td>1</td>\n",
              "      <td>0</td>\n",
              "      <td>0</td>\n",
              "      <td>0</td>\n",
              "      <td>0</td>\n",
              "      <td>0</td>\n",
              "      <td>0</td>\n",
              "      <td>0</td>\n",
              "      <td>0</td>\n",
              "      <td>0</td>\n",
              "      <td>0</td>\n",
              "      <td>0</td>\n",
              "      <td>0</td>\n",
              "      <td>0</td>\n",
              "      <td>0</td>\n",
              "      <td>0</td>\n",
              "      <td>0</td>\n",
              "      <td>0</td>\n",
              "      <td>0</td>\n",
              "      <td>0</td>\n",
              "      <td>0</td>\n",
              "      <td>0</td>\n",
              "      <td>0</td>\n",
              "      <td>0</td>\n",
              "      <td>0</td>\n",
              "      <td>1</td>\n",
              "      <td>0</td>\n",
              "      <td>0</td>\n",
              "      <td>0</td>\n",
              "      <td>0</td>\n",
              "      <td>6.459144</td>\n",
              "      <td>7.500000</td>\n",
              "      <td>7.266667</td>\n",
              "      <td>7.055556</td>\n",
              "    </tr>\n",
              "    <tr>\n",
              "      <th>4</th>\n",
              "      <td>462.0</td>\n",
              "      <td>132.0</td>\n",
              "      <td>475.0</td>\n",
              "      <td>530.0</td>\n",
              "      <td>640.0</td>\n",
              "      <td>73058679.0</td>\n",
              "      <td>212204</td>\n",
              "      <td>1873</td>\n",
              "      <td>263700000.0</td>\n",
              "      <td>2012.0</td>\n",
              "      <td>632.0</td>\n",
              "      <td>6.6</td>\n",
              "      <td>24000</td>\n",
              "      <td>1</td>\n",
              "      <td>1</td>\n",
              "      <td>0</td>\n",
              "      <td>1</td>\n",
              "      <td>0</td>\n",
              "      <td>0</td>\n",
              "      <td>0</td>\n",
              "      <td>0</td>\n",
              "      <td>0</td>\n",
              "      <td>0</td>\n",
              "      <td>0</td>\n",
              "      <td>0</td>\n",
              "      <td>0</td>\n",
              "      <td>0</td>\n",
              "      <td>0</td>\n",
              "      <td>0</td>\n",
              "      <td>0</td>\n",
              "      <td>0</td>\n",
              "      <td>0</td>\n",
              "      <td>0</td>\n",
              "      <td>0</td>\n",
              "      <td>0</td>\n",
              "      <td>0</td>\n",
              "      <td>0</td>\n",
              "      <td>0</td>\n",
              "      <td>0</td>\n",
              "      <td>0</td>\n",
              "      <td>0</td>\n",
              "      <td>0</td>\n",
              "      <td>1</td>\n",
              "      <td>0</td>\n",
              "      <td>0</td>\n",
              "      <td>0</td>\n",
              "      <td>0</td>\n",
              "      <td>6.459144</td>\n",
              "      <td>6.459144</td>\n",
              "      <td>6.459144</td>\n",
              "      <td>6.459144</td>\n",
              "    </tr>\n",
              "    <tr>\n",
              "      <th>...</th>\n",
              "      <td>...</td>\n",
              "      <td>...</td>\n",
              "      <td>...</td>\n",
              "      <td>...</td>\n",
              "      <td>...</td>\n",
              "      <td>...</td>\n",
              "      <td>...</td>\n",
              "      <td>...</td>\n",
              "      <td>...</td>\n",
              "      <td>...</td>\n",
              "      <td>...</td>\n",
              "      <td>...</td>\n",
              "      <td>...</td>\n",
              "      <td>...</td>\n",
              "      <td>...</td>\n",
              "      <td>...</td>\n",
              "      <td>...</td>\n",
              "      <td>...</td>\n",
              "      <td>...</td>\n",
              "      <td>...</td>\n",
              "      <td>...</td>\n",
              "      <td>...</td>\n",
              "      <td>...</td>\n",
              "      <td>...</td>\n",
              "      <td>...</td>\n",
              "      <td>...</td>\n",
              "      <td>...</td>\n",
              "      <td>...</td>\n",
              "      <td>...</td>\n",
              "      <td>...</td>\n",
              "      <td>...</td>\n",
              "      <td>...</td>\n",
              "      <td>...</td>\n",
              "      <td>...</td>\n",
              "      <td>...</td>\n",
              "      <td>...</td>\n",
              "      <td>...</td>\n",
              "      <td>...</td>\n",
              "      <td>...</td>\n",
              "      <td>...</td>\n",
              "      <td>...</td>\n",
              "      <td>...</td>\n",
              "      <td>...</td>\n",
              "      <td>...</td>\n",
              "      <td>...</td>\n",
              "      <td>...</td>\n",
              "      <td>...</td>\n",
              "      <td>...</td>\n",
              "      <td>...</td>\n",
              "      <td>...</td>\n",
              "      <td>...</td>\n",
              "    </tr>\n",
              "    <tr>\n",
              "      <th>3828</th>\n",
              "      <td>143.0</td>\n",
              "      <td>77.0</td>\n",
              "      <td>291.0</td>\n",
              "      <td>8.0</td>\n",
              "      <td>291.0</td>\n",
              "      <td>424760.0</td>\n",
              "      <td>72639</td>\n",
              "      <td>368</td>\n",
              "      <td>7000.0</td>\n",
              "      <td>2004.0</td>\n",
              "      <td>45.0</td>\n",
              "      <td>7.0</td>\n",
              "      <td>19000</td>\n",
              "      <td>0</td>\n",
              "      <td>0</td>\n",
              "      <td>0</td>\n",
              "      <td>1</td>\n",
              "      <td>1</td>\n",
              "      <td>0</td>\n",
              "      <td>0</td>\n",
              "      <td>0</td>\n",
              "      <td>0</td>\n",
              "      <td>0</td>\n",
              "      <td>0</td>\n",
              "      <td>0</td>\n",
              "      <td>1</td>\n",
              "      <td>0</td>\n",
              "      <td>0</td>\n",
              "      <td>0</td>\n",
              "      <td>0</td>\n",
              "      <td>0</td>\n",
              "      <td>0</td>\n",
              "      <td>0</td>\n",
              "      <td>0</td>\n",
              "      <td>0</td>\n",
              "      <td>0</td>\n",
              "      <td>0</td>\n",
              "      <td>0</td>\n",
              "      <td>0</td>\n",
              "      <td>0</td>\n",
              "      <td>0</td>\n",
              "      <td>0</td>\n",
              "      <td>1</td>\n",
              "      <td>0</td>\n",
              "      <td>0</td>\n",
              "      <td>0</td>\n",
              "      <td>0</td>\n",
              "      <td>6.459144</td>\n",
              "      <td>6.459144</td>\n",
              "      <td>6.459144</td>\n",
              "      <td>6.459144</td>\n",
              "    </tr>\n",
              "    <tr>\n",
              "      <th>3829</th>\n",
              "      <td>35.0</td>\n",
              "      <td>80.0</td>\n",
              "      <td>0.0</td>\n",
              "      <td>0.0</td>\n",
              "      <td>0.0</td>\n",
              "      <td>70071.0</td>\n",
              "      <td>589</td>\n",
              "      <td>0</td>\n",
              "      <td>7000.0</td>\n",
              "      <td>2005.0</td>\n",
              "      <td>0.0</td>\n",
              "      <td>6.3</td>\n",
              "      <td>74</td>\n",
              "      <td>0</td>\n",
              "      <td>0</td>\n",
              "      <td>0</td>\n",
              "      <td>0</td>\n",
              "      <td>1</td>\n",
              "      <td>0</td>\n",
              "      <td>0</td>\n",
              "      <td>0</td>\n",
              "      <td>0</td>\n",
              "      <td>0</td>\n",
              "      <td>0</td>\n",
              "      <td>0</td>\n",
              "      <td>0</td>\n",
              "      <td>0</td>\n",
              "      <td>0</td>\n",
              "      <td>0</td>\n",
              "      <td>0</td>\n",
              "      <td>0</td>\n",
              "      <td>0</td>\n",
              "      <td>0</td>\n",
              "      <td>0</td>\n",
              "      <td>0</td>\n",
              "      <td>0</td>\n",
              "      <td>0</td>\n",
              "      <td>0</td>\n",
              "      <td>0</td>\n",
              "      <td>0</td>\n",
              "      <td>1</td>\n",
              "      <td>0</td>\n",
              "      <td>0</td>\n",
              "      <td>0</td>\n",
              "      <td>0</td>\n",
              "      <td>0</td>\n",
              "      <td>0</td>\n",
              "      <td>6.459144</td>\n",
              "      <td>6.459144</td>\n",
              "      <td>6.459144</td>\n",
              "      <td>6.459144</td>\n",
              "    </tr>\n",
              "    <tr>\n",
              "      <th>3830</th>\n",
              "      <td>56.0</td>\n",
              "      <td>81.0</td>\n",
              "      <td>0.0</td>\n",
              "      <td>6.0</td>\n",
              "      <td>121.0</td>\n",
              "      <td>2040920.0</td>\n",
              "      <td>52055</td>\n",
              "      <td>147</td>\n",
              "      <td>7000.0</td>\n",
              "      <td>1992.0</td>\n",
              "      <td>20.0</td>\n",
              "      <td>6.9</td>\n",
              "      <td>0</td>\n",
              "      <td>1</td>\n",
              "      <td>0</td>\n",
              "      <td>0</td>\n",
              "      <td>0</td>\n",
              "      <td>1</td>\n",
              "      <td>1</td>\n",
              "      <td>0</td>\n",
              "      <td>0</td>\n",
              "      <td>0</td>\n",
              "      <td>0</td>\n",
              "      <td>0</td>\n",
              "      <td>0</td>\n",
              "      <td>1</td>\n",
              "      <td>0</td>\n",
              "      <td>0</td>\n",
              "      <td>1</td>\n",
              "      <td>0</td>\n",
              "      <td>0</td>\n",
              "      <td>0</td>\n",
              "      <td>0</td>\n",
              "      <td>0</td>\n",
              "      <td>0</td>\n",
              "      <td>0</td>\n",
              "      <td>0</td>\n",
              "      <td>0</td>\n",
              "      <td>0</td>\n",
              "      <td>0</td>\n",
              "      <td>0</td>\n",
              "      <td>0</td>\n",
              "      <td>0</td>\n",
              "      <td>0</td>\n",
              "      <td>1</td>\n",
              "      <td>0</td>\n",
              "      <td>0</td>\n",
              "      <td>5.692308</td>\n",
              "      <td>6.459144</td>\n",
              "      <td>6.459144</td>\n",
              "      <td>6.459144</td>\n",
              "    </tr>\n",
              "    <tr>\n",
              "      <th>3831</th>\n",
              "      <td>14.0</td>\n",
              "      <td>95.0</td>\n",
              "      <td>0.0</td>\n",
              "      <td>133.0</td>\n",
              "      <td>296.0</td>\n",
              "      <td>4584.0</td>\n",
              "      <td>1338</td>\n",
              "      <td>690</td>\n",
              "      <td>9000.0</td>\n",
              "      <td>2011.0</td>\n",
              "      <td>205.0</td>\n",
              "      <td>6.4</td>\n",
              "      <td>413</td>\n",
              "      <td>0</td>\n",
              "      <td>0</td>\n",
              "      <td>0</td>\n",
              "      <td>0</td>\n",
              "      <td>0</td>\n",
              "      <td>0</td>\n",
              "      <td>0</td>\n",
              "      <td>1</td>\n",
              "      <td>0</td>\n",
              "      <td>0</td>\n",
              "      <td>0</td>\n",
              "      <td>0</td>\n",
              "      <td>1</td>\n",
              "      <td>0</td>\n",
              "      <td>0</td>\n",
              "      <td>0</td>\n",
              "      <td>0</td>\n",
              "      <td>0</td>\n",
              "      <td>0</td>\n",
              "      <td>0</td>\n",
              "      <td>0</td>\n",
              "      <td>0</td>\n",
              "      <td>0</td>\n",
              "      <td>0</td>\n",
              "      <td>0</td>\n",
              "      <td>0</td>\n",
              "      <td>0</td>\n",
              "      <td>1</td>\n",
              "      <td>0</td>\n",
              "      <td>0</td>\n",
              "      <td>0</td>\n",
              "      <td>0</td>\n",
              "      <td>0</td>\n",
              "      <td>0</td>\n",
              "      <td>6.459144</td>\n",
              "      <td>6.459144</td>\n",
              "      <td>6.459144</td>\n",
              "      <td>6.459144</td>\n",
              "    </tr>\n",
              "    <tr>\n",
              "      <th>3832</th>\n",
              "      <td>43.0</td>\n",
              "      <td>90.0</td>\n",
              "      <td>16.0</td>\n",
              "      <td>16.0</td>\n",
              "      <td>86.0</td>\n",
              "      <td>85222.0</td>\n",
              "      <td>4285</td>\n",
              "      <td>163</td>\n",
              "      <td>1100.0</td>\n",
              "      <td>2004.0</td>\n",
              "      <td>23.0</td>\n",
              "      <td>6.6</td>\n",
              "      <td>456</td>\n",
              "      <td>0</td>\n",
              "      <td>0</td>\n",
              "      <td>0</td>\n",
              "      <td>0</td>\n",
              "      <td>0</td>\n",
              "      <td>0</td>\n",
              "      <td>0</td>\n",
              "      <td>0</td>\n",
              "      <td>0</td>\n",
              "      <td>0</td>\n",
              "      <td>0</td>\n",
              "      <td>0</td>\n",
              "      <td>0</td>\n",
              "      <td>0</td>\n",
              "      <td>0</td>\n",
              "      <td>0</td>\n",
              "      <td>0</td>\n",
              "      <td>0</td>\n",
              "      <td>0</td>\n",
              "      <td>0</td>\n",
              "      <td>1</td>\n",
              "      <td>0</td>\n",
              "      <td>0</td>\n",
              "      <td>0</td>\n",
              "      <td>0</td>\n",
              "      <td>0</td>\n",
              "      <td>0</td>\n",
              "      <td>0</td>\n",
              "      <td>1</td>\n",
              "      <td>0</td>\n",
              "      <td>0</td>\n",
              "      <td>0</td>\n",
              "      <td>0</td>\n",
              "      <td>0</td>\n",
              "      <td>6.459144</td>\n",
              "      <td>6.459144</td>\n",
              "      <td>6.459144</td>\n",
              "      <td>6.459144</td>\n",
              "    </tr>\n",
              "  </tbody>\n",
              "</table>\n",
              "<p>3833 rows × 51 columns</p>\n",
              "</div>"
            ],
            "text/plain": [
              "      num_critic_for_reviews  duration  ...  actor_2_score  actor_3_score\n",
              "0                      723.0     178.0  ...       6.459144       6.459144\n",
              "1                      302.0     169.0  ...       6.459144       6.459144\n",
              "2                      602.0     148.0  ...       6.459144       6.459144\n",
              "3                      813.0     164.0  ...       7.266667       7.055556\n",
              "4                      462.0     132.0  ...       6.459144       6.459144\n",
              "...                      ...       ...  ...            ...            ...\n",
              "3828                   143.0      77.0  ...       6.459144       6.459144\n",
              "3829                    35.0      80.0  ...       6.459144       6.459144\n",
              "3830                    56.0      81.0  ...       6.459144       6.459144\n",
              "3831                    14.0      95.0  ...       6.459144       6.459144\n",
              "3832                    43.0      90.0  ...       6.459144       6.459144\n",
              "\n",
              "[3833 rows x 51 columns]"
            ]
          },
          "metadata": {
            "tags": []
          },
          "execution_count": 54
        }
      ]
    },
    {
      "cell_type": "markdown",
      "metadata": {
        "id": "RzxsYbNdkm80"
      },
      "source": [
        "# Dataset Split"
      ]
    },
    {
      "cell_type": "code",
      "metadata": {
        "id": "5B3yg890Ws5p"
      },
      "source": [
        "df = data_finished.sample(n = len(data_finished), random_state = 1)\n",
        "df_data = df.reset_index(drop = True)\n",
        "df_test=df_data.sample(frac=0.30,random_state=42)"
      ],
      "execution_count": 31,
      "outputs": []
    },
    {
      "cell_type": "code",
      "metadata": {
        "id": "8D-pHX1PXDIY"
      },
      "source": [
        "df_train = df_data.drop(df_test.index)"
      ],
      "execution_count": 32,
      "outputs": []
    },
    {
      "cell_type": "code",
      "metadata": {
        "colab": {
          "base_uri": "https://localhost:8080/"
        },
        "id": "dHyTWUZPXcYw",
        "outputId": "bdd64883-97c4-41c5-cb9d-304c0c5b7b98"
      },
      "source": [
        "col_to_use = [c for c in list(df_train.columns) if c != 'imdb_score']\n",
        "print('Number of attributes:', len(col_to_use))"
      ],
      "execution_count": 33,
      "outputs": [
        {
          "output_type": "stream",
          "text": [
            "Number of attributes: 50\n"
          ],
          "name": "stdout"
        }
      ]
    },
    {
      "cell_type": "code",
      "metadata": {
        "colab": {
          "base_uri": "https://localhost:8080/"
        },
        "id": "ILYQC1qfX2Yy",
        "outputId": "18e4976f-e39c-4e41-ab2a-e41855525b33"
      },
      "source": [
        "X_train = df_train[col_to_use].values\n",
        "X_test = df_test[col_to_use].values\n",
        "y_train = df_train['imdb_score'].values\n",
        "y_test = df_test['imdb_score'].values\n",
        "print('Training shapes:',X_train.shape, y_train.shape)\n",
        "print('Testing shapes:',X_test.shape, y_test.shape)"
      ],
      "execution_count": 34,
      "outputs": [
        {
          "output_type": "stream",
          "text": [
            "Training shapes: (2683, 50) (2683,)\n",
            "Testing shapes: (1150, 50) (1150,)\n"
          ],
          "name": "stdout"
        }
      ]
    },
    {
      "cell_type": "markdown",
      "metadata": {
        "id": "sRqxAZ6-I_kv"
      },
      "source": [
        "#Simple Multiple Linear Regression\n",
        "\n"
      ]
    },
    {
      "cell_type": "markdown",
      "metadata": {
        "id": "LI6GcLgmpf9X"
      },
      "source": [
        "In this section, I build a very simple linear regression model as baseline."
      ]
    },
    {
      "cell_type": "code",
      "metadata": {
        "colab": {
          "base_uri": "https://localhost:8080/"
        },
        "id": "opovvNJAcfTo",
        "outputId": "9c45cbb8-81d0-432a-97ca-8dbb2418240b"
      },
      "source": [
        "y_train_a = y_train[:, np.newaxis]\n",
        "model = LinearRegression() \n",
        "model.fit(X_train, y_train_a) \n",
        "predicts = model.predict(X_train) \n",
        "R2 = model.score(X_train, y_train_a) \n",
        "print('R2 = %.3f' % R2) \n",
        "coef = model.coef_ \n",
        "intercept = model.intercept_ "
      ],
      "execution_count": 35,
      "outputs": [
        {
          "output_type": "stream",
          "text": [
            "R2 = 0.510\n"
          ],
          "name": "stdout"
        }
      ]
    },
    {
      "cell_type": "markdown",
      "metadata": {
        "id": "0IkbvdMcdA5t"
      },
      "source": [
        "Print out the coefficients"
      ]
    },
    {
      "cell_type": "code",
      "metadata": {
        "colab": {
          "base_uri": "https://localhost:8080/"
        },
        "id": "-bFz3kgLdAKN",
        "outputId": "62bf0bf1-2c55-4e36-8c1e-6ea9ee815ac1"
      },
      "source": [
        "print(model.coef_, model.intercept_) "
      ],
      "execution_count": 36,
      "outputs": [
        {
          "output_type": "stream",
          "text": [
            "[[ 2.70883066e-03  3.55507208e-03 -5.59449149e-06  2.06409374e-05\n",
            "   3.38771744e-05 -7.55508897e-10  2.40908781e-06 -3.25872946e-05\n",
            "   2.80442009e-11 -2.74853818e-02  2.70217136e-05 -5.56086774e-07\n",
            "  -2.15239587e-01 -3.61999366e-02 -1.04619311e-01 -1.26337145e-01\n",
            "  -1.47651091e-01 -4.67495234e-02  8.27405488e-01 -1.25923585e-01\n",
            "  -1.28848276e-01  4.21869143e-02  2.11041090e-02 -1.15995904e-01\n",
            "   4.46069174e-01  8.36354779e-02  1.29653834e-01  6.68189254e-02\n",
            "  -4.09519883e-01  1.00665257e-01  1.51313349e-01  1.20464296e-02\n",
            "   9.68588259e-01 -7.48238020e-01  9.31309005e-04 -1.47046577e-01\n",
            "  -5.97934228e-02  3.50160474e-02 -1.88684141e-01  5.03294612e-01\n",
            "  -3.46058594e-02 -1.44973975e-01 -7.33025727e-01  4.76272706e-02\n",
            "   3.25879720e-01  3.95380744e-01  1.43622546e-01  1.79400114e-01\n",
            "   2.87293649e-01  1.06431000e-01]] [55.82515277]\n"
          ],
          "name": "stdout"
        }
      ]
    },
    {
      "cell_type": "code",
      "metadata": {
        "id": "QdBLaLpEdVYJ"
      },
      "source": [
        "LR_result = model.predict(X_test)"
      ],
      "execution_count": 37,
      "outputs": []
    },
    {
      "cell_type": "markdown",
      "metadata": {
        "id": "pvVg9Z6gGNGr"
      },
      "source": [
        "#Ridge and LASSO Regression"
      ]
    },
    {
      "cell_type": "markdown",
      "metadata": {
        "id": "cSbaRIE-o5jJ"
      },
      "source": [
        "In order to prevent over-fitting of the model, we often need to add regularization items when building a linear model, generally there are L1 regularization and L2 regularization. Ridge regression(L2) and Lasso(L1) can prevet overfitting. \n",
        "<br>Ridge regression reduces the regression coefficients without abandoning any feature, making the model relatively stable, but compared with Lasso regression, this will leave a lot of model features and poor model interpretation.\n",
        "<br>The regularization term of ridge regression has a constant coefficient alpha to adjust the weight of the mean square error term and the regularization term of the loss function. Larger alpha means more penalty. I set two initial alpha to find their difference."
      ]
    },
    {
      "cell_type": "code",
      "metadata": {
        "colab": {
          "base_uri": "https://localhost:8080/"
        },
        "id": "_Lq6-Yz_FU37",
        "outputId": "8b1b31d1-3443-44d8-e867-e56aa883b049"
      },
      "source": [
        "lr = LinearRegression()\n",
        "lr.fit(X_train, y_train)\n",
        "\n",
        "rr = Ridge(alpha=0.01) \n",
        "rr.fit(X_train, y_train)\n",
        "\n",
        "rr100 = Ridge(alpha=100) \n",
        "rr100.fit(X_train, y_train)\n",
        "\n",
        "train_score=lr.score(X_train, y_train)\n",
        "test_score=lr.score(X_test, y_test)\n",
        "\n",
        "Ridge_train_score = rr.score(X_train,y_train)\n",
        "Ridge_test_score = rr.score(X_test,y_test)\n",
        "\n",
        "Ridge_train_score100 = rr100.score(X_train,y_train)\n",
        "Ridge_test_score100 = rr100.score(X_test,y_test)\n",
        "\n",
        "print (\"linear regression train score:\", train_score)\n",
        "print (\"linear regression test score:\", test_score)\n",
        "print (\"ridge regression train score low alpha:\", Ridge_train_score)\n",
        "print (\"ridge regression test score low alpha:\", Ridge_test_score)\n",
        "print (\"ridge regression train score high alpha:\", Ridge_train_score100)\n",
        "print (\"ridge regression test score high alpha:\", Ridge_test_score100)"
      ],
      "execution_count": 38,
      "outputs": [
        {
          "output_type": "stream",
          "text": [
            "linear regression train score: 0.5098707388489385\n",
            "linear regression test score: 0.4619513375550573\n",
            "ridge regression train score low alpha: 0.5098707081208159\n",
            "ridge regression test score low alpha: 0.46195844086670446\n",
            "ridge regression train score high alpha: 0.49196034919115267\n",
            "ridge regression test score high alpha: 0.4544551529509967\n"
          ],
          "name": "stdout"
        },
        {
          "output_type": "stream",
          "text": [
            "/usr/local/lib/python3.7/dist-packages/sklearn/linear_model/_ridge.py:148: LinAlgWarning: Ill-conditioned matrix (rcond=2.16297e-22): result may not be accurate.\n",
            "  overwrite_a=True).T\n",
            "/usr/local/lib/python3.7/dist-packages/sklearn/linear_model/_ridge.py:148: LinAlgWarning: Ill-conditioned matrix (rcond=1.66749e-18): result may not be accurate.\n",
            "  overwrite_a=True).T\n"
          ],
          "name": "stderr"
        }
      ]
    },
    {
      "cell_type": "code",
      "metadata": {
        "colab": {
          "base_uri": "https://localhost:8080/",
          "height": 677
        },
        "id": "uDL9-xyQFU63",
        "outputId": "b186ef8a-8579-40f7-c989-6dd677a1604a"
      },
      "source": [
        "figure(figsize=(16, 10), dpi=80)\n",
        "plt.plot(rr.coef_,alpha=0.7,linestyle='none',marker='+',markersize=5,color='red',label=r'Ridge; $\\alpha = 0.01$',zorder=7)\n",
        "plt.plot(rr100.coef_,alpha=0.5,linestyle='none',marker='d',markersize=6,color='blue',label=r'Ridge; $\\alpha = 100$') \n",
        "plt.plot(lr.coef_,alpha=0.4,linestyle='none',marker='o',markersize=7,color='green',label='Linear Regression')\n",
        "\n",
        "plt.xlabel('Coefficient Index',fontsize=16)\n",
        "plt.ylabel('Coefficient Magnitude',fontsize=16)\n",
        "plt.legend(fontsize=13,loc=4)\n",
        "plt.show()"
      ],
      "execution_count": 39,
      "outputs": [
        {
          "output_type": "display_data",
          "data": {
            "image/png": "[encoded data removed]",
            "text/plain": [
              "<Figure size 1280x800 with 1 Axes>"
            ]
          },
          "metadata": {
            "tags": [],
            "needs_background": "light"
          }
        }
      ]
    },
    {
      "cell_type": "markdown",
      "metadata": {
        "id": "FlYHxABTqLl_"
      },
      "source": [
        "As we can see, when alpha = 0.01, the coefficient is pretty close to linear regression. Lots of coefficient remain the same. We are still going to have much overfitting. \n",
        "<br>To save some time, I evade creating a loop to find the best alpha, but rather using sklearn to calculate it at once."
      ]
    },
    {
      "cell_type": "code",
      "metadata": {
        "colab": {
          "base_uri": "https://localhost:8080/"
        },
        "id": "pAr1b_ugFVC_",
        "outputId": "8c4bb87f-85e4-4467-e5e6-95bb6a0fde17"
      },
      "source": [
        "from sklearn.linear_model import RidgeCV\n",
        "ridgecv = RidgeCV(alphas=[0.01, 0.1, 0.5, 1, 5, 7, 10, 30,100, 200])\n",
        "ridgecv.fit(X_train, y_train)\n",
        "print(\"Best alpha should be:\" + str(ridgecv.alpha_)) "
      ],
      "execution_count": 40,
      "outputs": [
        {
          "output_type": "stream",
          "text": [
            "Best alpha should be:5.0\n"
          ],
          "name": "stdout"
        }
      ]
    },
    {
      "cell_type": "markdown",
      "metadata": {
        "id": "uxmTqCLiq_Aa"
      },
      "source": [
        "Ok, alpha = 5. Fit the model again and we will make comparision later."
      ]
    },
    {
      "cell_type": "code",
      "metadata": {
        "id": "aWT1_TZbmt1u",
        "outputId": "64961d0b-c43a-4119-bd5a-ca782d354592",
        "colab": {
          "base_uri": "https://localhost:8080/"
        }
      },
      "source": [
        "rr5 = Ridge(alpha=5) \n",
        "rr5.fit(X_train, y_train)\n",
        "rr_result = rr5.predict(X_test)"
      ],
      "execution_count": 41,
      "outputs": [
        {
          "output_type": "stream",
          "text": [
            "/usr/local/lib/python3.7/dist-packages/sklearn/linear_model/_ridge.py:148: LinAlgWarning: Ill-conditioned matrix (rcond=1.02748e-19): result may not be accurate.\n",
            "  overwrite_a=True).T\n"
          ],
          "name": "stderr"
        }
      ]
    },
    {
      "cell_type": "markdown",
      "metadata": {
        "id": "yx346ATyrSDc"
      },
      "source": [
        "Without abandoning any feature, ridge regression reduces the regression coefficients, making the model relatively stable. But compared with Lasso regression, this will leave a lot of model features and poor model interpretation. "
      ]
    },
    {
      "cell_type": "code",
      "metadata": {
        "colab": {
          "base_uri": "https://localhost:8080/",
          "height": 1000
        },
        "id": "PDNspe9fHL1D",
        "outputId": "256e7fb0-e965-4ba4-95ba-e5965c4e20c6"
      },
      "source": [
        "lasso = Lasso() # 默认alpha =1 \n",
        "lasso.fit(X_train,y_train)\n",
        "\n",
        "train_score=lasso.score(X_train,y_train)\n",
        "test_score=lasso.score(X_test,y_test)\n",
        "\n",
        "coeff_used = np.sum(lasso.coef_!=0)\n",
        "print(\"training score:\", train_score )\n",
        "print (\"test score: \", test_score)\n",
        "print (\"number of features used: \", coeff_used)\n",
        "\n",
        "lasso001 = Lasso(alpha=0.01, max_iter=10e5)\n",
        "lasso001.fit(X_train,y_train)\n",
        "\n",
        "train_score001=lasso001.score(X_train,y_train)\n",
        "test_score001=lasso001.score(X_test,y_test)\n",
        "\n",
        "coeff_used001 = np.sum(lasso001.coef_!=0)\n",
        "print (\"training score for alpha=0.01:\", train_score001 )\n",
        "print (\"test score for alpha =0.01: \", test_score001)\n",
        "print (\"number of features used: for alpha =0.01:\", coeff_used001)\n",
        "\n",
        "lasso00001 = Lasso(alpha=0.0001, max_iter=10e5)\n",
        "lasso00001.fit(X_train,y_train)\n",
        "\n",
        "train_score00001=lasso00001.score(X_train,y_train)\n",
        "test_score00001=lasso00001.score(X_test,y_test)\n",
        "\n",
        "coeff_used00001 = np.sum(lasso00001.coef_!=0)\n",
        "print (\"training score for alpha=0.0001:\", train_score00001 )\n",
        "print( \"test score for alpha =0.0001: \", test_score00001)\n",
        "print (\"number of features used: for alpha =0.0001:\", coeff_used00001)\n",
        "\n",
        "lr = LinearRegression()\n",
        "lr.fit(X_train,y_train)\n",
        "lr_train_score=lr.score(X_train,y_train)\n",
        "lr_test_score=lr.score(X_test,y_test)\n",
        "print (\"LR training score:\", lr_train_score )\n",
        "print (\"LR test score: \", lr_test_score)\n",
        "figure(figsize=(16, 10), dpi=80)\n",
        "\n",
        "plt.subplot(1,2,1)\n",
        "plt.plot(lasso.coef_,alpha=0.7,linestyle='none',marker='*',markersize=5,color='red',label=r'Lasso; $\\alpha = 1$',zorder=7) # alpha here is for transparency\n",
        "plt.plot(lasso001.coef_,alpha=0.5,linestyle='none',marker='d',markersize=6,color='blue',label=r'Lasso; $\\alpha = 0.01$') # alpha here is for transparency\n",
        "\n",
        "plt.xlabel('Coefficient Index',fontsize=16)\n",
        "plt.ylabel('Coefficient Magnitude',fontsize=16)\n",
        "plt.legend(fontsize=13,loc=4)\n",
        "plt.subplot(1,2,2)\n",
        "plt.plot(lasso.coef_,alpha=0.7,linestyle='none',marker='*',markersize=5,color='red',label=r'Lasso; $\\alpha = 1$',zorder=7) # alpha here is for transparency\n",
        "plt.plot(lasso001.coef_,alpha=0.5,linestyle='none',marker='d',markersize=6,color='blue',label=r'Lasso; $\\alpha = 0.01$') # alpha here is for transparency\n",
        "plt.plot(lasso00001.coef_,alpha=0.8,linestyle='none',marker='v',markersize=6,color='black',label=r'Lasso; $\\alpha = 0.00001$') # alpha here is for transparency\n",
        "plt.plot(lr.coef_,alpha=0.7,linestyle='none',marker='o',markersize=5,color='green',label='Linear Regression',zorder=2)\n",
        "plt.xlabel('Coefficient Index',fontsize=16)\n",
        "plt.ylabel('Coefficient Magnitude',fontsize=16)\n",
        "plt.legend(fontsize=13,loc=4)\n",
        "plt.tight_layout()\n",
        "plt.show()"
      ],
      "execution_count": 43,
      "outputs": [
        {
          "output_type": "stream",
          "text": [
            "/usr/local/lib/python3.7/dist-packages/sklearn/linear_model/_coordinate_descent.py:476: ConvergenceWarning: Objective did not converge. You might want to increase the number of iterations. Duality gap: 1049.4450971643942, tolerance: 0.30315481997763694\n",
            "  positive)\n"
          ],
          "name": "stderr"
        },
        {
          "output_type": "stream",
          "text": [
            "training score: 0.3354963706780224\n",
            "test score:  0.28416090719225273\n",
            "number of features used:  12\n",
            "training score for alpha=0.01: 0.4852405649033092\n",
            "test score for alpha =0.01:  0.4477227092856373\n",
            "number of features used: for alpha =0.01: 27\n",
            "training score for alpha=0.0001: 0.5098119359755454\n",
            "test score for alpha =0.0001:  0.46212615450498623\n",
            "number of features used: for alpha =0.0001: 47\n",
            "LR training score: 0.5098707388489385\n",
            "LR test score:  0.4619513375550573\n"
          ],
          "name": "stdout"
        },
        {
          "output_type": "display_data",
          "data": {
            "image/png": "[encoded data removed]",
            "text/plain": [
              "<Figure size 1280x800 with 2 Axes>"
            ]
          },
          "metadata": {
            "tags": [],
            "needs_background": "light"
          }
        }
      ]
    },
    {
      "cell_type": "markdown",
      "metadata": {
        "id": "cs_P8_XRreSQ"
      },
      "source": [
        "When we look at the picture on the left, we can see that for alpha = 1,most of the coefficients are zero or close to zero. Lasso kills too many features. And with alpha = 0.01, this model has more features.\n",
        "When we set alpha = 0.0001, 47 non-zero feature attributes remain in the model and the training and test scores are the same as the basic linear regression. Based on this result, alpha = 0.01 could be a little better."
      ]
    },
    {
      "cell_type": "code",
      "metadata": {
        "id": "dOGEET5ym6Iq"
      },
      "source": [
        "lasso_result = lasso001.predict(X_test)"
      ],
      "execution_count": 44,
      "outputs": []
    },
    {
      "cell_type": "markdown",
      "metadata": {
        "id": "4ejf3LSzjnjA"
      },
      "source": [
        "#Model Comparation"
      ]
    },
    {
      "cell_type": "code",
      "metadata": {
        "colab": {
          "base_uri": "https://localhost:8080/",
          "height": 415
        },
        "id": "Yx8RauSsnQ6W",
        "outputId": "83112fa9-bbe6-458c-ad90-f264e9f4d843"
      },
      "source": [
        "result_table = pd.DataFrame(y_test)\n",
        "result_table.columns = ['IMDB_score']\n",
        "result_table['Linear'] = LR_result\n",
        "result_table['Ridge'] = rr_result\n",
        "result_table['Lasso'] = lasso_result\n",
        "result_table.sort_values(by=['IMDB_score'])\n",
        "new_table = result_table.reset_index(drop=True)\n",
        "new_table"
      ],
      "execution_count": 45,
      "outputs": [
        {
          "output_type": "execute_result",
          "data": {
            "text/html": [
              "<div>\n",
              "<style scoped>\n",
              "    .dataframe tbody tr th:only-of-type {\n",
              "        vertical-align: middle;\n",
              "    }\n",
              "\n",
              "    .dataframe tbody tr th {\n",
              "        vertical-align: top;\n",
              "    }\n",
              "\n",
              "    .dataframe thead th {\n",
              "        text-align: right;\n",
              "    }\n",
              "</style>\n",
              "<table border=\"1\" class=\"dataframe\">\n",
              "  <thead>\n",
              "    <tr style=\"text-align: right;\">\n",
              "      <th></th>\n",
              "      <th>IMDB_score</th>\n",
              "      <th>Linear</th>\n",
              "      <th>Ridge</th>\n",
              "      <th>Lasso</th>\n",
              "    </tr>\n",
              "  </thead>\n",
              "  <tbody>\n",
              "    <tr>\n",
              "      <th>0</th>\n",
              "      <td>4.3</td>\n",
              "      <td>5.688365</td>\n",
              "      <td>5.695836</td>\n",
              "      <td>5.806589</td>\n",
              "    </tr>\n",
              "    <tr>\n",
              "      <th>1</th>\n",
              "      <td>4.6</td>\n",
              "      <td>6.126685</td>\n",
              "      <td>6.118443</td>\n",
              "      <td>6.167607</td>\n",
              "    </tr>\n",
              "    <tr>\n",
              "      <th>2</th>\n",
              "      <td>6.5</td>\n",
              "      <td>5.987510</td>\n",
              "      <td>5.995089</td>\n",
              "      <td>6.169073</td>\n",
              "    </tr>\n",
              "    <tr>\n",
              "      <th>3</th>\n",
              "      <td>6.6</td>\n",
              "      <td>6.307683</td>\n",
              "      <td>6.302308</td>\n",
              "      <td>6.168252</td>\n",
              "    </tr>\n",
              "    <tr>\n",
              "      <th>4</th>\n",
              "      <td>7.3</td>\n",
              "      <td>6.662066</td>\n",
              "      <td>6.663338</td>\n",
              "      <td>6.661530</td>\n",
              "    </tr>\n",
              "    <tr>\n",
              "      <th>...</th>\n",
              "      <td>...</td>\n",
              "      <td>...</td>\n",
              "      <td>...</td>\n",
              "      <td>...</td>\n",
              "    </tr>\n",
              "    <tr>\n",
              "      <th>1145</th>\n",
              "      <td>7.5</td>\n",
              "      <td>5.984478</td>\n",
              "      <td>6.002163</td>\n",
              "      <td>6.017775</td>\n",
              "    </tr>\n",
              "    <tr>\n",
              "      <th>1146</th>\n",
              "      <td>6.8</td>\n",
              "      <td>6.471635</td>\n",
              "      <td>6.487194</td>\n",
              "      <td>6.620229</td>\n",
              "    </tr>\n",
              "    <tr>\n",
              "      <th>1147</th>\n",
              "      <td>6.7</td>\n",
              "      <td>6.435611</td>\n",
              "      <td>6.386730</td>\n",
              "      <td>6.210141</td>\n",
              "    </tr>\n",
              "    <tr>\n",
              "      <th>1148</th>\n",
              "      <td>8.0</td>\n",
              "      <td>7.287553</td>\n",
              "      <td>7.291819</td>\n",
              "      <td>7.550669</td>\n",
              "    </tr>\n",
              "    <tr>\n",
              "      <th>1149</th>\n",
              "      <td>1.9</td>\n",
              "      <td>5.736781</td>\n",
              "      <td>5.746833</td>\n",
              "      <td>5.763123</td>\n",
              "    </tr>\n",
              "  </tbody>\n",
              "</table>\n",
              "<p>1150 rows × 4 columns</p>\n",
              "</div>"
            ],
            "text/plain": [
              "      IMDB_score    Linear     Ridge     Lasso\n",
              "0            4.3  5.688365  5.695836  5.806589\n",
              "1            4.6  6.126685  6.118443  6.167607\n",
              "2            6.5  5.987510  5.995089  6.169073\n",
              "3            6.6  6.307683  6.302308  6.168252\n",
              "4            7.3  6.662066  6.663338  6.661530\n",
              "...          ...       ...       ...       ...\n",
              "1145         7.5  5.984478  6.002163  6.017775\n",
              "1146         6.8  6.471635  6.487194  6.620229\n",
              "1147         6.7  6.435611  6.386730  6.210141\n",
              "1148         8.0  7.287553  7.291819  7.550669\n",
              "1149         1.9  5.736781  5.746833  5.763123\n",
              "\n",
              "[1150 rows x 4 columns]"
            ]
          },
          "metadata": {
            "tags": []
          },
          "execution_count": 45
        }
      ]
    },
    {
      "cell_type": "code",
      "metadata": {
        "id": "IbPgoRaXuNKm"
      },
      "source": [
        "IMDB_score = new_table['IMDB_score']\n",
        "linear = new_table['Linear']\n",
        "ridge = new_table['Ridge']\n",
        "lasso = new_table['Lasso']\n",
        "index = range(len(new_table))"
      ],
      "execution_count": 46,
      "outputs": []
    },
    {
      "cell_type": "code",
      "metadata": {
        "colab": {
          "base_uri": "https://localhost:8080/",
          "height": 706
        },
        "id": "w3-arwyBskqB",
        "outputId": "db621ad0-3033-412f-cbe9-84da1e6b8fc6"
      },
      "source": [
        "figure(figsize=(16, 10), dpi=80)\n",
        "plt.plot(index,  IMDB_score,label='IMDB_score',linewidth=1)\n",
        "plt.plot(index, linear, label='Linear',linewidth=1)\n",
        "plt.plot(index, ridge, label='Ridge',linewidth=1)\n",
        "plt.plot(index, lasso, label='Lasso',linewidth=1)\n",
        "plt.legend()  \n",
        " \n",
        "plt.margins(0)\n",
        "plt.subplots_adjust(bottom=0.10)\n",
        "plt.xlabel('Movies') \n",
        "plt.ylabel(\"Score\")\n"
      ],
      "execution_count": 47,
      "outputs": [
        {
          "output_type": "execute_result",
          "data": {
            "text/plain": [
              "Text(0, 0.5, 'Score')"
            ]
          },
          "metadata": {
            "tags": []
          },
          "execution_count": 47
        },
        {
          "output_type": "display_data",
          "data": {
            "image/png": "[encoded data removed]",
            "text/plain": [
              "<Figure size 1280x800 with 1 Axes>"
            ]
          },
          "metadata": {
            "tags": [],
            "needs_background": "light"
          }
        }
      ]
    },
    {
      "cell_type": "markdown",
      "metadata": {
        "id": "Nav8QajByjME"
      },
      "source": [
        "We can hardly see any detail here, it is a mess. But we can tell that for some movies with pretty low score, three models cannot tell precisly. And their predictions are sometimes staying higher than the real score."
      ]
    },
    {
      "cell_type": "code",
      "metadata": {
        "colab": {
          "base_uri": "https://localhost:8080/"
        },
        "id": "pBzZ04ImwRbX",
        "outputId": "d9bfaa2c-8974-4da5-8020-adb9e248955a"
      },
      "source": [
        "print(f\"Linear Regression MSE：{mean_squared_error(LR_result, y_test)}\")\n",
        "print(f\"Linear Regression RMSE：{np.sqrt(mean_squared_error(LR_result, y_test))}\")\n",
        "print(f\"Linear Regression R^2：{r2_score(y_test, LR_result)}\")"
      ],
      "execution_count": 48,
      "outputs": [
        {
          "output_type": "stream",
          "text": [
            "Linear Regression MSE：0.584968462720589\n",
            "Linear Regression RMSE：0.7648323101965483\n",
            "Linear Regression R^2：0.46195133755505724\n"
          ],
          "name": "stdout"
        }
      ]
    },
    {
      "cell_type": "code",
      "metadata": {
        "colab": {
          "base_uri": "https://localhost:8080/"
        },
        "id": "PCS68oVyuIZz",
        "outputId": "9ac6ee40-20ca-462a-e7ce-48b1edc34738"
      },
      "source": [
        "print(f\"Ridge Regression MSE：{mean_squared_error(rr_result, y_test)}\")\n",
        "print(f\"Ridge Regression RMSE：{np.sqrt(mean_squared_error(rr_result, y_test))}\")\n",
        "print(f\"Ridge Regression R^2：{r2_score(y_test, rr_result)}\")"
      ],
      "execution_count": 49,
      "outputs": [
        {
          "output_type": "stream",
          "text": [
            "Ridge Regression MSE：0.5835446818982589\n",
            "Ridge Regression RMSE：0.7639009634096942\n",
            "Ridge Regression R^2：0.4632609181835694\n"
          ],
          "name": "stdout"
        }
      ]
    },
    {
      "cell_type": "code",
      "metadata": {
        "colab": {
          "base_uri": "https://localhost:8080/"
        },
        "id": "LnPXgGwAwRQz",
        "outputId": "6cf09972-17b3-4a99-f442-c351dff0b4be"
      },
      "source": [
        "print(f\"Lasso Regression MSE：{mean_squared_error(lasso_result, y_test)}\")\n",
        "print(f\"Lasso Regression RMSE：{np.sqrt(mean_squared_error(lasso_result, y_test))}\")\n",
        "print(f\"Lasso Regression R^2：{r2_score(y_test, lasso_result)}\")"
      ],
      "execution_count": 50,
      "outputs": [
        {
          "output_type": "stream",
          "text": [
            "Lasso Regression MSE：0.6004378791253496\n",
            "Lasso Regression RMSE：0.7748792674509686\n",
            "Lasso Regression R^2：0.4477227092856373\n"
          ],
          "name": "stdout"
        }
      ]
    },
    {
      "cell_type": "markdown",
      "metadata": {
        "id": "_nNBKWFOzDwP"
      },
      "source": [
        "Compared to the baseline model, lasso and ridge both did good job while ridge regression is a little better. I would say this model cannot make a perfect prediction of IMDB score yet, but it do tell some story about it and can be tuned further."
      ]
    },
    {
      "cell_type": "markdown",
      "metadata": {
        "id": "Duvkcvth8A7_"
      },
      "source": [
        "#Classification models"
      ]
    },
    {
      "cell_type": "markdown",
      "metadata": {
        "id": "HwFFhINHARIA"
      },
      "source": [
        "Sometimes we rate movies as \"average\",\"good\",\"attractive\",\"execellent\" based on its performance. If we build some intervals for IMDB score, we can convert numerical data to categorical data, then its score transfers to words. <br>Let's map these to describe words for the numerical data. Here I use 5 bins:0\\~4(Bad) 4\\~5(Below average) 5\\~7(average) 7\\~8(Good) 8\\~10(Execellent). <br>Noted here intervals are not equal cause the score distribution is not symmetrical. In order to map the score with common sense, I use this specific bin range.\n",
        "<br>Before we deploy models, let's take a overview."
      ]
    },
    {
      "cell_type": "code",
      "metadata": {
        "id": "K3h4rt3T8J-o",
        "outputId": "da3551d1-5c9c-4da9-c9c3-00a98ee997b3",
        "colab": {
          "base_uri": "https://localhost:8080/",
          "height": 685
        }
      },
      "source": [
        "figure(figsize=(16, 10), dpi=80)\n",
        "n, bins, patches = plt.hist(x=data['imdb_score'], bins=[0,4,5,7,8,10], color='#0504aa',alpha=0.7, rwidth=0.85)\n",
        "plt.grid(axis='y', alpha=0.75)\n",
        "plt.xlabel('Score')\n",
        "plt.ylabel('Movie Count')\n",
        "plt.title('imdb score layout')\n",
        "maxfreq = n.max()"
      ],
      "execution_count": 63,
      "outputs": [
        {
          "output_type": "display_data",
          "data": {
            "image/png": "[encoded data removed]",
            "text/plain": [
              "<Figure size 1280x800 with 1 Axes>"
            ]
          },
          "metadata": {
            "tags": [],
            "needs_background": "light"
          }
        }
      ]
    },
    {
      "cell_type": "code",
      "metadata": {
        "id": "1jtzo6O0FHXU"
      },
      "source": [
        "bins = [0,4,5,7,8,10]\n",
        "names = ['Bad', 'Below Average', 'Average', 'Good', 'Execellent']\n",
        "\n",
        "data_finished['imdb_score'] = pd.cut(data_finished['imdb_score'], bins, labels=names)\n"
      ],
      "execution_count": null,
      "outputs": []
    },
    {
      "cell_type": "code",
      "metadata": {
        "id": "pTSi8OtBEvRw",
        "outputId": "e734aeaa-ff24-4c2b-8a83-61f4eeab40cc",
        "colab": {
          "base_uri": "https://localhost:8080/"
        }
      },
      "source": [
        "data_finished['imdb_score']"
      ],
      "execution_count": 68,
      "outputs": [
        {
          "output_type": "execute_result",
          "data": {
            "text/plain": [
              "0             Good\n",
              "1             Good\n",
              "2          Average\n",
              "3       Execellent\n",
              "4          Average\n",
              "           ...    \n",
              "3828       Average\n",
              "3829       Average\n",
              "3830       Average\n",
              "3831       Average\n",
              "3832       Average\n",
              "Name: imdb_score, Length: 3833, dtype: category\n",
              "Categories (5, object): ['Bad' < 'Below Average' < 'Average' < 'Good' < 'Execellent']"
            ]
          },
          "metadata": {
            "tags": []
          },
          "execution_count": 68
        }
      ]
    },
    {
      "cell_type": "markdown",
      "metadata": {
        "id": "3CgjyW-1F8Lz"
      },
      "source": [
        "Like I did before, split the dataset one more time."
      ]
    },
    {
      "cell_type": "code",
      "metadata": {
        "id": "u55nt1R0Fovm",
        "outputId": "1ff2f84f-8457-496c-e777-48e4a7f468c0",
        "colab": {
          "base_uri": "https://localhost:8080/"
        }
      },
      "source": [
        "df = data_finished.sample(n = len(data_finished), random_state = 1)\n",
        "df_data = df.reset_index(drop = True)\n",
        "df_test=df_data.sample(frac=0.30,random_state=42)\n",
        "df_train = df_data.drop(df_test.index)\n",
        "col_to_use = [c for c in list(df_train.columns) if c != 'imdb_score']\n",
        "print('Number of attributes:', len(col_to_use))\n",
        "X_train = df_train[col_to_use].values\n",
        "X_test = df_test[col_to_use].values\n",
        "y_train = df_train['imdb_score'].values\n",
        "y_test = df_test['imdb_score'].values\n",
        "print('Training shapes:',X_train.shape, y_train.shape)\n",
        "print('Testing shapes:',X_test.shape, y_test.shape)"
      ],
      "execution_count": 142,
      "outputs": [
        {
          "output_type": "stream",
          "text": [
            "Number of attributes: 50\n",
            "Training shapes: (2683, 50) (2683,)\n",
            "Testing shapes: (1150, 50) (1150,)\n"
          ],
          "name": "stdout"
        }
      ]
    },
    {
      "cell_type": "markdown",
      "metadata": {
        "id": "jfK8cYdRGPuD"
      },
      "source": [
        "First I want to try KNN, k-nearest neighbors, which is very popular and basic in classification problems. In this case, I will look at the closest 3 neighbors. It is not appropriate to set the number of neighbors larget that 5 in this case, because we have 5 intervals and samples we have is limited. If we use a larger number, it's likely to predict most of our samples as \"Average\", which is a result of overfitting. In order to find the best parameter here, we can tune the parameter in further discussion."
      ]
    },
    {
      "cell_type": "code",
      "metadata": {
        "id": "gp9U7OdwGHH5",
        "outputId": "e3e38ac4-753b-4fb1-acb1-53cad7216ef6",
        "colab": {
          "base_uri": "https://localhost:8080/"
        }
      },
      "source": [
        "knn=KNeighborsClassifier(n_neighbors = 3)\n",
        "knn.fit(X_train, y_train)"
      ],
      "execution_count": 90,
      "outputs": [
        {
          "output_type": "execute_result",
          "data": {
            "text/plain": [
              "KNeighborsClassifier(algorithm='auto', leaf_size=30, metric='minkowski',\n",
              "                     metric_params=None, n_jobs=None, n_neighbors=3, p=2,\n",
              "                     weights='uniform')"
            ]
          },
          "metadata": {
            "tags": []
          },
          "execution_count": 90
        }
      ]
    },
    {
      "cell_type": "code",
      "metadata": {
        "id": "R9oRpBpaGHKa",
        "outputId": "ccef2976-c691-4d3e-b981-3e5b6db418bf",
        "colab": {
          "base_uri": "https://localhost:8080/"
        }
      },
      "source": [
        "knn.predict(X_test[:100,:])"
      ],
      "execution_count": 91,
      "outputs": [
        {
          "output_type": "execute_result",
          "data": {
            "text/plain": [
              "array(['Average', 'Good', 'Average', 'Good', 'Average', 'Average',\n",
              "       'Average', 'Average', 'Average', 'Average', 'Average', 'Average',\n",
              "       'Below Average', 'Average', 'Average', 'Good', 'Good', 'Average',\n",
              "       'Average', 'Average', 'Below Average', 'Average', 'Average',\n",
              "       'Average', 'Average', 'Average', 'Average', 'Good', 'Average',\n",
              "       'Execellent', 'Average', 'Average', 'Average', 'Average', 'Good',\n",
              "       'Average', 'Average', 'Average', 'Average', 'Average', 'Average',\n",
              "       'Average', 'Good', 'Average', 'Good', 'Average', 'Average',\n",
              "       'Average', 'Good', 'Average', 'Average', 'Good', 'Average',\n",
              "       'Average', 'Good', 'Average', 'Average', 'Average', 'Average',\n",
              "       'Average', 'Average', 'Average', 'Average', 'Average', 'Good',\n",
              "       'Average', 'Average', 'Average', 'Average', 'Average', 'Average',\n",
              "       'Good', 'Average', 'Average', 'Average', 'Average', 'Average',\n",
              "       'Average', 'Average', 'Average', 'Average', 'Good', 'Average',\n",
              "       'Average', 'Good', 'Average', 'Average', 'Good', 'Below Average',\n",
              "       'Average', 'Average', 'Average', 'Average', 'Average', 'Good',\n",
              "       'Average', 'Average', 'Average', 'Below Average', 'Average'],\n",
              "      dtype=object)"
            ]
          },
          "metadata": {
            "tags": []
          },
          "execution_count": 91
        }
      ]
    },
    {
      "cell_type": "code",
      "metadata": {
        "id": "hYyWHhG4OW_-"
      },
      "source": [
        "y_train_pred= knn.predict(X_train[:,:])\n",
        "y_test_pred= knn.predict(X_test[:,:])"
      ],
      "execution_count": 166,
      "outputs": []
    },
    {
      "cell_type": "code",
      "metadata": {
        "id": "1clFSGfhOP98"
      },
      "source": [
        "y_train_one = pd.get_dummies(y_train)\n",
        "y_test_one = pd.get_dummies(y_test)\n",
        "y_train_pred_one = pd.get_dummies(y_train_pred)\n",
        "y_test_pred_one = pd.get_dummies(y_test_pred)\n",
        "if 'Bad' not in df:\n",
        "  bad = [0]*len(y_test_pred_one)\n",
        "  y_test_pred_one['Bad'] = bad\n",
        "\n",
        "y_test_one = y_test_one[['Bad','Below Average', 'Average','Good','Execellent']].to_numpy()\n",
        "y_train_one = y_train_one[['Bad','Below Average', 'Average','Good','Execellent']].to_numpy()\n",
        "y_test_pred_one = y_test_pred_one[['Bad','Below Average', 'Average','Good','Execellent']].to_numpy()\n",
        "y_train_pred_one = y_train_pred_one[['Bad','Below Average', 'Average','Good','Execellent']].to_numpy()"
      ],
      "execution_count": 171,
      "outputs": []
    },
    {
      "cell_type": "code",
      "metadata": {
        "id": "hp3qYy9sOZaj"
      },
      "source": [
        "y_test_one = pd.get_dummies(y_test)\n",
        "y_test_one = y_test_one[['Bad','Below Average', 'Average','Good','Execellent']]\n",
        "y_test_one = y_test_one.to_numpy()"
      ],
      "execution_count": 119,
      "outputs": []
    },
    {
      "cell_type": "code",
      "metadata": {
        "id": "rZoUsmV_aEjK"
      },
      "source": [
        "knn_train_roc_score = roc_auc_score(y_train_one, y_train_pred_one, multi_class='ovr')\n",
        "knn_train_hamming = hamming_loss(y_train, y_train_pred)"
      ],
      "execution_count": 192,
      "outputs": []
    },
    {
      "cell_type": "code",
      "metadata": {
        "id": "JnYZ0-KZGHSF",
        "outputId": "78e38680-0711-4746-b717-ec077968af35",
        "colab": {
          "base_uri": "https://localhost:8080/"
        }
      },
      "source": [
        "knn_test_roc_score = roc_auc_score(y_test_one, y_test_pred_one, multi_class='ovr')\n",
        "knn_test_hamming = hamming_loss(y_test, y_test_pred)\n",
        "print(knn_test_roc_score)\n",
        "print(knn_test_hamming)\n"
      ],
      "execution_count": 193,
      "outputs": [
        {
          "output_type": "stream",
          "text": [
            "0.4807062270816977\n",
            "0.8382608695652174\n"
          ],
          "name": "stdout"
        }
      ]
    },
    {
      "cell_type": "markdown",
      "metadata": {
        "id": "NCZ1YDQuVxDS"
      },
      "source": [
        "This is the standard logistic regression model"
      ]
    },
    {
      "cell_type": "code",
      "metadata": {
        "id": "FOitk1P4Vo9M",
        "outputId": "bf707769-a3b8-4a2e-8a80-750d2d112ea0",
        "colab": {
          "base_uri": "https://localhost:8080/"
        }
      },
      "source": [
        "lr=LogisticRegression(random_state = 1)\n",
        "lr.fit(X_train, y_train)"
      ],
      "execution_count": 156,
      "outputs": [
        {
          "output_type": "stream",
          "text": [
            "/usr/local/lib/python3.7/dist-packages/sklearn/linear_model/_logistic.py:940: ConvergenceWarning: lbfgs failed to converge (status=1):\n",
            "STOP: TOTAL NO. of ITERATIONS REACHED LIMIT.\n",
            "\n",
            "Increase the number of iterations (max_iter) or scale the data as shown in:\n",
            "    https://scikit-learn.org/stable/modules/preprocessing.html\n",
            "Please also refer to the documentation for alternative solver options:\n",
            "    https://scikit-learn.org/stable/modules/linear_model.html#logistic-regression\n",
            "  extra_warning_msg=_LOGISTIC_SOLVER_CONVERGENCE_MSG)\n"
          ],
          "name": "stderr"
        },
        {
          "output_type": "execute_result",
          "data": {
            "text/plain": [
              "LogisticRegression(C=1.0, class_weight=None, dual=False, fit_intercept=True,\n",
              "                   intercept_scaling=1, l1_ratio=None, max_iter=100,\n",
              "                   multi_class='auto', n_jobs=None, penalty='l2',\n",
              "                   random_state=1, solver='lbfgs', tol=0.0001, verbose=0,\n",
              "                   warm_start=False)"
            ]
          },
          "metadata": {
            "tags": []
          },
          "execution_count": 156
        }
      ]
    },
    {
      "cell_type": "code",
      "metadata": {
        "id": "UJN0U36cWOzK"
      },
      "source": [
        "y_train_pred= lr.predict(X_train)\n",
        "y_test_pred= lr.predict(X_test)"
      ],
      "execution_count": 159,
      "outputs": []
    },
    {
      "cell_type": "code",
      "metadata": {
        "id": "W2caWBdEWB1x",
        "outputId": "f34e9615-4b28-47ab-942a-2e24e89af93b",
        "colab": {
          "base_uri": "https://localhost:8080/"
        }
      },
      "source": [
        "y_train_pred_one = pd.get_dummies(y_train_pred)\n",
        "y_test_pred_one = pd.get_dummies(y_test_pred)\n",
        "if 'Bad' not in y_test_pred_one:\n",
        "  bad = [0]*len(y_test_pred_one)\n",
        "  y_test_pred_one['Bad'] = bad\n",
        "if 'Below Average' not in y_test_pred_one:\n",
        "  bad = [0]*len(y_test_pred_one)\n",
        "  y_test_pred_one['Below Average'] = bad\n",
        "y_test_pred_one = y_test_pred_one[['Bad','Below Average', 'Average','Good','Execellent']].to_numpy()\n",
        "y_train_pred_one = y_train_pred_one[['Bad','Below Average', 'Average','Good','Execellent']].to_numpy()\n",
        "\n",
        "lr_train_roc_score = roc_auc_score(y_train_one, y_train_pred_one, multi_class='ovr')\n",
        "lr_train_hamming = hamming_loss(y_train, y_train_pred)\n",
        "\n",
        "lr_test_roc_score = roc_auc_score(y_test_one, y_test_pred_one, multi_class='ovr')\n",
        "lr_test_hamming = hamming_loss(y_test, y_test_pred)\n",
        "print(lr_roc_score)\n",
        "print(lr_hamming)"
      ],
      "execution_count": 173,
      "outputs": [
        {
          "output_type": "stream",
          "text": [
            "0.512384648524283\n",
            "0.4573913043478261\n"
          ],
          "name": "stdout"
        }
      ]
    },
    {
      "cell_type": "markdown",
      "metadata": {
        "id": "wDFP2oUWWxmh"
      },
      "source": [
        "If we have lots of data, like all movies' IMDB scores, logistic regression may take a long time to compute. We have an alternative approach called stochastic gradient descent that works similarly to logistic regression but doesn't use all the data at each iteration."
      ]
    },
    {
      "cell_type": "code",
      "metadata": {
        "id": "NbIE8BTuWq5_",
        "outputId": "61e1d06c-7c50-4124-e818-192abe7c4373",
        "colab": {
          "base_uri": "https://localhost:8080/"
        }
      },
      "source": [
        "sgdc=SGDClassifier(loss = 'log',alpha = 0.1,random_state = 1)\n",
        "sgdc.fit(X_train, y_train)"
      ],
      "execution_count": 163,
      "outputs": [
        {
          "output_type": "execute_result",
          "data": {
            "text/plain": [
              "SGDClassifier(alpha=0.1, average=False, class_weight=None, early_stopping=False,\n",
              "              epsilon=0.1, eta0=0.0, fit_intercept=True, l1_ratio=0.15,\n",
              "              learning_rate='optimal', loss='log', max_iter=1000,\n",
              "              n_iter_no_change=5, n_jobs=None, penalty='l2', power_t=0.5,\n",
              "              random_state=1, shuffle=True, tol=0.001, validation_fraction=0.1,\n",
              "              verbose=0, warm_start=False)"
            ]
          },
          "metadata": {
            "tags": []
          },
          "execution_count": 163
        }
      ]
    },
    {
      "cell_type": "code",
      "metadata": {
        "id": "LB56uPqyXLor"
      },
      "source": [
        "y_train_pred = sgdc.predict(X_train)\n",
        "y_test_pred = sgdc.predict(X_test)"
      ],
      "execution_count": 174,
      "outputs": []
    },
    {
      "cell_type": "code",
      "metadata": {
        "id": "8fEBOM4dXLxG",
        "outputId": "e40e9d8f-8a6d-4a3d-8b2f-60355334e2fd",
        "colab": {
          "base_uri": "https://localhost:8080/"
        }
      },
      "source": [
        "y_train_pred_one = pd.get_dummies(y_train_pred)\n",
        "y_test_pred_one = pd.get_dummies(y_test_pred)\n",
        "if 'Bad' not in y_train_pred_one:\n",
        "  bad = [0]*len(y_train_pred_one)\n",
        "  y_train_pred_one['Bad'] = bad\n",
        "if 'Below Average' not in y_train_pred_one:\n",
        "  bad = [0]*len(y_train_pred_one)\n",
        "  y_train_pred_one['Below Average'] = bad\n",
        "if 'Bad' not in y_test_pred_one:\n",
        "  bad = [0]*len(y_test_pred_one)\n",
        "  y_test_pred_one['Bad'] = bad\n",
        "if 'Below Average' not in y_test_pred_one:\n",
        "  bad = [0]*len(y_test_pred_one)\n",
        "  y_test_pred_one['Below Average'] = bad\n",
        "y_test_pred_one = y_test_pred_one[['Bad','Below Average', 'Average','Good','Execellent']].to_numpy()\n",
        "y_train_pred_one = y_train_pred_one[['Bad','Below Average', 'Average','Good','Execellent']].to_numpy()\n",
        "\n",
        "sgdc_train_roc_score = roc_auc_score(y_train_one, y_train_pred_one, multi_class='ovr')\n",
        "sgdc_train_hamming = hamming_loss(y_train, y_train_pred)\n",
        "\n",
        "sgdc_test_roc_score = roc_auc_score(y_test_one, y_test_pred_one, multi_class='ovr')\n",
        "sgdc_test_hamming = hamming_loss(y_test, y_test_pred)\n",
        "print(sgdc_roc_score)\n",
        "print(sgdc_hamming)"
      ],
      "execution_count": 177,
      "outputs": [
        {
          "output_type": "stream",
          "text": [
            "0.512384648524283\n",
            "0.4573913043478261\n"
          ],
          "name": "stdout"
        }
      ]
    },
    {
      "cell_type": "markdown",
      "metadata": {
        "id": "d2lulAOaXZh8"
      },
      "source": [
        "#Classification Model Comparision\n"
      ]
    },
    {
      "cell_type": "markdown",
      "metadata": {
        "id": "43uMKuxXdK_H"
      },
      "source": [
        "In this case, we have a multi-class classification problem here thus it is inappropriate to use accuracy or F1 score for model evaluation.\n",
        "<br>Here I choose ROC AUC score and hamming loss as evaluation stats for our classification models. \n",
        "<br>Roc_AUC_score is the area under the receiver operating characteristic curve (ROC AUC) from prediction scores. Higher the score, more accurate the model is. <br>Since we have multiple classes here, this score is computed by the AUC of each class against the rest. It treats the multiclass case in the same way as the multilabel case."
      ]
    },
    {
      "cell_type": "code",
      "metadata": {
        "id": "uMaTf11UXY25",
        "outputId": "0f7f4921-3641-47e7-f1ce-47795a5fafe4",
        "colab": {
          "base_uri": "https://localhost:8080/",
          "height": 671
        }
      },
      "source": [
        "Model_name = ('KNN','Logistic Regression', 'Stochastic Gradient Descent')\n",
        "train_score = [knn_train_roc_score, lr_train_roc_score ,sgdc_train_roc_score]\n",
        "test_score = [knn_test_roc_score, lr_test_roc_score, sgdc_test_roc_score]\n",
        "\n",
        "bar_width = 0.3  \n",
        "index_train = np.arange(len(Model_name))  \n",
        "index_test = index_train + bar_width  \n",
        "\n",
        "figure(figsize=(16, 10), dpi=80)\n",
        "plt.bar(index_train, height=train_score, width=bar_width, color='#0504aa', label='train')\n",
        "plt.bar(index_test, height=test_score, width=bar_width, color='#00FFFF', label='test')\n",
        "\n",
        "plt.legend()  \n",
        "plt.xticks(index_train + bar_width/2, Model_name)  \n",
        "plt.ylabel('Score')  \n",
        "plt.title('Roc_Score')  \n",
        "\n",
        "plt.show()\n"
      ],
      "execution_count": 190,
      "outputs": [
        {
          "output_type": "display_data",
          "data": {
            "image/png": "[encoded data removed]",
            "text/plain": [
              "<Figure size 1280x800 with 1 Axes>"
            ]
          },
          "metadata": {
            "tags": [],
            "needs_background": "light"
          }
        }
      ]
    },
    {
      "cell_type": "markdown",
      "metadata": {
        "id": "h3B_wNfmeIxN"
      },
      "source": [
        "It is pretty weird that in stochastic gradient descent model we even have a better test score that trainning score. But the most important thing is to compare the ROC score of the testset. Here Logistic regression has the best performance over the other two."
      ]
    },
    {
      "cell_type": "code",
      "metadata": {
        "id": "r8sp26HGeubq",
        "outputId": "991e4944-60ba-47f8-b2ff-d21227cefac6",
        "colab": {
          "base_uri": "https://localhost:8080/",
          "height": 671
        }
      },
      "source": [
        "Model_name = ('KNN','Logistic Regression', 'Stochastic Gradient Descent')\n",
        "train_score = [knn_train_hamming, lr_train_hamming,sgdc_train_hamming]\n",
        "test_score = [knn_test_hamming, lr_test_hamming, sgdc_test_hamming]\n",
        "\n",
        "bar_width = 0.3  \n",
        "index_train = np.arange(len(Model_name))  \n",
        "index_test = index_train + bar_width  \n",
        "\n",
        "figure(figsize=(16, 10), dpi=80)\n",
        "plt.bar(index_train, height=train_score, width=bar_width, color='#0504aa', label='train')\n",
        "plt.bar(index_test, height=test_score, width=bar_width, color='#00FFFF', label='test')\n",
        "\n",
        "plt.legend()  \n",
        "plt.xticks(index_train + bar_width/2, Model_name)  \n",
        "plt.ylabel('Loss Score')  \n",
        "plt.title('Hamming Loss')  \n",
        "\n",
        "plt.show()"
      ],
      "execution_count": 196,
      "outputs": [
        {
          "output_type": "display_data",
          "data": {
            "image/png": "[encoded data removed]",
            "text/plain": [
              "<Figure size 1280x800 with 1 Axes>"
            ]
          },
          "metadata": {
            "tags": [],
            "needs_background": "light"
          }
        }
      ]
    },
    {
      "cell_type": "markdown",
      "metadata": {
        "id": "HvLUp6u_eI1t"
      },
      "source": [
        "The Hamming loss is the fraction of labels that are incorrectly predicted. Lower the score, better the predition. \n",
        "<br>Logistic Regression give us a pretty good result here. Both KNN and stochastic gradient descent have lots of wrong prediction based on hamming loss.\n",
        "<br>Based on stats above, I would suggest Logistic Regression is the best approch to do IMDB rating system classfication in these models. However, with parameter tuning and further improvement, I believe we can still improve the result a lot and reduce calculating costs."
      ]
    }
  ]
}